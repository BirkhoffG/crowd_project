{
 "cells": [
  {
   "cell_type": "code",
   "execution_count": 8,
   "metadata": {},
   "outputs": [],
   "source": [
    "import pandas as pd\n",
    "import numpy as np\n",
    "from random import random\n",
    "from copy import deepcopy"
   ]
  },
  {
   "cell_type": "markdown",
   "metadata": {},
   "source": [
    "## Training"
   ]
  },
  {
   "cell_type": "markdown",
   "metadata": {},
   "source": [
    "### Task 1"
   ]
  },
  {
   "cell_type": "code",
   "execution_count": 55,
   "metadata": {},
   "outputs": [],
   "source": [
    "task = pd.read_csv('tasks/tasks_for_pool_29747529__23-11-2021_training.tsv', sep='\\t')"
   ]
  },
  {
   "cell_type": "code",
   "execution_count": 56,
   "metadata": {},
   "outputs": [],
   "source": [
    "training_imgs = [\n",
    "    {\n",
    "        \"img_1\": \"img_4000.png\", \"hint\": \"The fluorescent colors bleed in from background onto the face.\"\n",
    "    },\n",
    "    {\n",
    "        \"img_1\": \"img_3997.png\", \"hint\": \"The background is asymmetrical.\"\n",
    "    },\n",
    "    {\n",
    "        \"img_1\": \"img_3996.png\", \"hint\": \"The hair looks weird.\"\n",
    "    },\n",
    "    {\n",
    "        \"img_1\": \"img_3995.png\", \"hint\": \"The left ear looks weird.\"\n",
    "    },\n",
    "    {\n",
    "        \"img_1\": \"img_3991.png\", \"hint\": \"The frame of eye glasses takes one style at left, and another style at right.\"\n",
    "    },\n",
    "    {\n",
    "        \"img_1\": \"img_3989.png\", \"hint\": \"There are disconntections of the hair on the neck.\"\n",
    "    },\n",
    "    {\n",
    "        \"img_1\": \"img_3987.png\", \"hint\": \"The ear is asymmetrical.\"\n",
    "    },\n",
    "    {\n",
    "        \"img_1\": \"img_3983.png\", \"hint\": \"The ear on the right looks weird.\"\n",
    "    },\n",
    "    {\n",
    "        \"img_1\": \"img_3981.png\", \"hint\": \"The hands have shiny blobs shape.\"\n",
    "    },\n",
    "    {\n",
    "        \"img_1\": \"img_3979.png\", \"hint\": \"The accompany in the background looks weird.\"\n",
    "    },\n",
    "    {\n",
    "        \"img_1\": \"img_3968.png\", \"hint\": \"The hair on the top has weird glow.\"\n",
    "    },\n",
    "    {\n",
    "        \"img_1\": \"img_3961.png\", \"hint\": \"The accompany in the background looks weird.\"\n",
    "    },\n",
    "    {\n",
    "        \"img_1\": \"img_3959.png\", \"hint\": \"The hair looks weird.\"\n",
    "    },\n",
    "    {\n",
    "        \"img_1\": \"img_3956.png\", \"hint\": \"The face is asymmetrical.\"\n",
    "    },\n",
    "    {\n",
    "        \"img_1\": \"img_3954.png\", \"hint\": \"The image contains some shiny blobs on the right.\"\n",
    "    },\n",
    "    {\n",
    "        \"img_1\": \"img_3945.png\", \"hint\": \"The hair looks too sharp.\"\n",
    "    },\n",
    "    {\n",
    "        \"img_1\": \"img_3941.png\", \"hint\": \"The hair on the right looks weird.\"\n",
    "    },\n",
    "    {\n",
    "        \"img_1\": \"img_3939.png\", \"hint\": \"The background on the right looks weird.\"\n",
    "    },\n",
    "    {\n",
    "        \"img_1\": \"img_3931.png\", \"hint\": \"The teeth has odd-looking shape.\"\n",
    "    },\n",
    "    {\n",
    "        \"img_1\": \"img_3910.png\", \"hint\": \"The right-hand background looks weird.\"\n",
    "    },\n",
    "]"
   ]
  },
  {
   "cell_type": "code",
   "execution_count": 60,
   "metadata": {},
   "outputs": [],
   "source": [
    "new_data = task.iloc[0:0]\n",
    "\n",
    "for i in range(len(training_imgs)):\n",
    "    image_1 = \"https://raw.githubusercontent.com/BirkhoffG/crowd_project/main/img/\" + training_imgs[i]['img_1'] \n",
    "    image_2 = \"https://raw.githubusercontent.com/BirkhoffG/crowd_project/main/original/\" + str(40000 + i) + \".png\"\n",
    "    hint = training_imgs[i]['hint']\n",
    "    if random() < 0.5:\n",
    "        new_data = new_data.append({\n",
    "            'INPUT:image_left': image_1, 'INPUT:image_right': image_2, 'GOLDEN:result': 'Right', \n",
    "            'GOLDEN:textfield': 'None', 'HINT:text': f\"The real image is on the right. Issues for the fake image (on the left): {hint}\" \n",
    "        }, ignore_index=True)\n",
    "    else:\n",
    "        new_data = new_data.append({\n",
    "            'INPUT:image_left': image_2, 'INPUT:image_right': image_1, 'GOLDEN:result': 'Left', \n",
    "            'GOLDEN:textfield': 'None', 'HINT:text': f\"The real image is on the left. Issues for the fake image (on the right): {hint}\"\n",
    "        }, ignore_index=True)"
   ]
  },
  {
   "cell_type": "code",
   "execution_count": 61,
   "metadata": {},
   "outputs": [],
   "source": [
    "new_data.to_csv('training_task1.tsv', sep='\\t', index=None)"
   ]
  },
  {
   "cell_type": "markdown",
   "metadata": {},
   "source": [
    "### Task 2"
   ]
  },
  {
   "cell_type": "code",
   "execution_count": 9,
   "metadata": {},
   "outputs": [],
   "source": [
    "task = pd.read_csv('tasks/tasks_for_pool_29813620__26-11-2021_training.tsv', sep='\\t')"
   ]
  },
  {
   "cell_type": "code",
   "execution_count": 10,
   "metadata": {},
   "outputs": [],
   "source": [
    "fake_training_imgs = [\n",
    "    {\n",
    "        \"img_1\": \"img_4000.png\", \"hint\": \"The fluorescent colors bleed in from background onto the face.\", \"gender\": \"1\"\n",
    "    },\n",
    "    {\n",
    "        \"img_1\": \"img_3996.png\", \"hint\": \"The hair looks weird.\", \"gender\": \"1\"\n",
    "    },\n",
    "    {\n",
    "        \"img_1\": \"img_3995.png\", \"hint\": \"The left ear looks weird.\", \"gender\": \"0\"\n",
    "    },\n",
    "    {\n",
    "        \"img_1\": \"img_3991.png\", \"hint\": \"The frame of eye glasses takes one style at left, and another style at right.\", \"gender\": \"1\"\n",
    "    },\n",
    "    {\n",
    "        \"img_1\": \"img_3981.png\", \"hint\": \"The hands have shiny blobs shape.\", \"gender\": \"0\"\n",
    "    },\n",
    "    {\n",
    "        \"img_1\": \"img_3968.png\", \"hint\": \"The hair on the top has weird glow.\", \"gender\": \"1\"\n",
    "    },\n",
    "    {\n",
    "        \"img_1\": \"img_3961.png\", \"hint\": \"The accompany in the background looks weird.\", \"gender\": \"0\"\n",
    "    },\n",
    "    {\n",
    "        \"img_1\": \"img_3956.png\", \"hint\": \"The face is asymmetrical.\", \"gender\": \"1\"\n",
    "    },\n",
    "    {\n",
    "        \"img_1\": \"img_3939.png\", \"hint\": \"The background on the right looks weird.\", \"gender\": \"0\"\n",
    "    },\n",
    "    {\n",
    "        \"img_1\": \"img_3931.png\", \"hint\": \"The teeth has odd-looking shape.\", \"gender\": \"0\"\n",
    "    },\n",
    "]"
   ]
  },
  {
   "cell_type": "code",
   "execution_count": 11,
   "metadata": {},
   "outputs": [],
   "source": [
    "real_training_imgs = [\n",
    "    {\n",
    "        \"img_1\": \"40000.png\", \"gender\": \"1\"\n",
    "    },\n",
    "    {\n",
    "        \"img_1\": \"40001.png\", \"gender\": \"0\"\n",
    "    },\n",
    "    {\n",
    "        \"img_1\": \"40003.png\", \"gender\": \"1\"\n",
    "    },\n",
    "    {\n",
    "        \"img_1\": \"40004.png\", \"gender\": \"0\"\n",
    "    },\n",
    "    {\n",
    "        \"img_1\": \"40005.png\", \"gender\": \"1\"\n",
    "    },\n",
    "    {\n",
    "        \"img_1\": \"40006.png\", \"gender\": \"1\"\n",
    "    },\n",
    "    {\n",
    "        \"img_1\": \"40007.png\", \"gender\": \"1\"\n",
    "    },\n",
    "    {\n",
    "        \"img_1\": \"40008.png\", \"gender\": \"0\"\n",
    "    },\n",
    "    {\n",
    "        \"img_1\": \"40009.png\", \"gender\": \"1\"\n",
    "    },\n",
    "    {\n",
    "        \"img_1\": \"40010.png\", \"gender\": \"1\"\n",
    "    },\n",
    "]"
   ]
  },
  {
   "cell_type": "code",
   "execution_count": 12,
   "metadata": {},
   "outputs": [
    {
     "data": {
      "text/plain": [
       "Index(['INPUT:image', 'GOLDEN:gender', 'GOLDEN:result', 'GOLDEN:confidence',\n",
       "       'HINT:text'],\n",
       "      dtype='object')"
      ]
     },
     "execution_count": 12,
     "metadata": {},
     "output_type": "execute_result"
    }
   ],
   "source": [
    "task.columns"
   ]
  },
  {
   "cell_type": "code",
   "execution_count": null,
   "metadata": {},
   "outputs": [],
   "source": [
    "new_data = task.iloc[0:0]\n",
    "\n",
    "for i in range(len(fake_training_imgs)):\n",
    "    image_1 = \"https://raw.githubusercontent.com/BirkhoffG/crowd_project/main/img/\" + fake_training_imgs[i]['img_1'] \n",
    "    hint = fake_training_imgs[i]['hint']\n",
    "    gender = fake_training_imgs[i]['gender']\n",
    "    new_data = new_data.append({\n",
    "        'INPUT:image': image_1, 'GOLDEN:gender': gender, 'GOLDEN:result': \"1\",\n",
    "        'GOLDEN:confidence': '', 'HINT:text': f\"This image is FAKED (generated by AI). Issues for this fake image: {hint}\" \n",
    "    }, ignore_index=True)\n",
    "\n",
    "for i in range(len(real_training_imgs)):\n",
    "    image_1 = \"https://raw.githubusercontent.com/BirkhoffG/crowd_project/main/original/\" + real_training_imgs[i]['img_1'] \n",
    "    gender = real_training_imgs[i]['gender']\n",
    "    new_data = new_data.append({\n",
    "        'INPUT:image': image_1, 'GOLDEN:gender': gender, 'GOLDEN:result': \"0\",\n",
    "        'GOLDEN:confidence': '', 'HINT:text': f\"This image is REAL.\" \n",
    "    }, ignore_index=True)\n",
    "\n"
   ]
  },
  {
   "cell_type": "code",
   "execution_count": 39,
   "metadata": {},
   "outputs": [],
   "source": [
    "from sklearn.utils import shuffle\n",
    "shuffle(new_data).to_csv('training_task2.tsv', sep='\\t', index=None)"
   ]
  },
  {
   "cell_type": "markdown",
   "metadata": {},
   "source": [
    "## General & Control"
   ]
  },
  {
   "cell_type": "markdown",
   "metadata": {},
   "source": [
    "### Task 1"
   ]
  },
  {
   "cell_type": "code",
   "execution_count": 13,
   "metadata": {},
   "outputs": [],
   "source": [
    "task = pd.read_csv('tasks/tasks_for_pool_29747529__23-11-2021_training.tsv', sep='\\t')"
   ]
  },
  {
   "cell_type": "code",
   "execution_count": 14,
   "metadata": {},
   "outputs": [],
   "source": [
    "new_data = task.iloc[0:0]\n",
    "\n",
    "for i in range(1000):\n",
    "    image_1 = \"https://raw.githubusercontent.com/BirkhoffG/crowd_project/main/img/\" + f\"img_{i * 2}.png\" \n",
    "    image_2 = \"https://raw.githubusercontent.com/BirkhoffG/crowd_project/main/original/\" + str(40000 + i) + \".png\"\n",
    "    if random() < 0.5:\n",
    "        new_data = new_data.append({\n",
    "            'INPUT:image_left': image_1, 'INPUT:image_right': image_2, 'GOLDEN:result': 'Right', \n",
    "            'GOLDEN:textfield': 'None', 'HINT:text': 'The image on the Right is REAL.'\n",
    "        }, ignore_index=True)\n",
    "    else:\n",
    "        new_data = new_data.append({\n",
    "            'INPUT:image_left': image_2, 'INPUT:image_right': image_1, 'GOLDEN:result': 'Left', \n",
    "            'GOLDEN:textfield': 'None', 'HINT:text': 'The image on the Left is REAL.'\n",
    "        }, ignore_index=True)"
   ]
  },
  {
   "cell_type": "code",
   "execution_count": 15,
   "metadata": {},
   "outputs": [],
   "source": [
    "new_data.to_csv('final_task.tsv', sep='\\t', index=None)"
   ]
  },
  {
   "cell_type": "code",
   "execution_count": 12,
   "metadata": {},
   "outputs": [],
   "source": [
    "new_data[['INPUT:image_left', 'INPUT:image_right']].iloc[:5].to_csv('general_task_sample.tsv', sep='\\t', index=None)"
   ]
  },
  {
   "cell_type": "code",
   "execution_count": 9,
   "metadata": {},
   "outputs": [],
   "source": [
    "new_data[['INPUT:image_left', 'INPUT:image_right']].to_csv('general_task.tsv', sep='\\t', index=None)"
   ]
  },
  {
   "cell_type": "code",
   "execution_count": 10,
   "metadata": {},
   "outputs": [],
   "source": [
    "new_data.to_csv('control_task.tsv', sep='\\t', index=None)"
   ]
  },
  {
   "cell_type": "markdown",
   "metadata": {},
   "source": [
    "### Task 2"
   ]
  },
  {
   "cell_type": "code",
   "execution_count": 2,
   "metadata": {},
   "outputs": [],
   "source": [
    "control_task = pd.read_csv(\"tasks/tasks_for_pool_29814006__26-11-2021_control.tsv\", sep='\\t')"
   ]
  },
  {
   "cell_type": "code",
   "execution_count": 3,
   "metadata": {},
   "outputs": [],
   "source": [
    "general_task = pd.read_csv(\"tasks/tasks_for_pool_29814006__26-11-2021_general.tsv\", sep='\\t')"
   ]
  },
  {
   "cell_type": "markdown",
   "metadata": {},
   "source": [
    "#### General task\n",
    "All general tasks are fake images"
   ]
  },
  {
   "cell_type": "code",
   "execution_count": 4,
   "metadata": {},
   "outputs": [],
   "source": [
    "new_data = general_task.iloc[0:0]\n",
    "\n",
    "for i in range(500):\n",
    "    img = f\"https://raw.githubusercontent.com/BirkhoffG/crowd_project/main/img/img_{i * 2 + 1}.png\"\n",
    "    new_data = new_data.append({\n",
    "        'INPUT:image': img\n",
    "    }, ignore_index=True)"
   ]
  },
  {
   "cell_type": "code",
   "execution_count": 5,
   "metadata": {},
   "outputs": [],
   "source": [
    "new_data.to_csv('general_task2.tsv', sep='\\t', index=None)"
   ]
  },
  {
   "cell_type": "markdown",
   "metadata": {},
   "source": [
    "#### Control task\n",
    "All control tasks are real images"
   ]
  },
  {
   "cell_type": "code",
   "execution_count": 6,
   "metadata": {},
   "outputs": [],
   "source": [
    "new_data = control_task.iloc[0:0]\n",
    "for i in range(500):\n",
    "    image_1 = \"https://raw.githubusercontent.com/BirkhoffG/crowd_project/main/original/\" + f\"{40501 + i}.png\" \n",
    "    new_data = new_data.append({\n",
    "        'INPUT:image': image_1, 'GOLDEN:result': '0', 'GOLDEN:gender': '',\n",
    "        'GOLDEN:confidence': ''\n",
    "    }, ignore_index=True)"
   ]
  },
  {
   "cell_type": "code",
   "execution_count": 7,
   "metadata": {},
   "outputs": [],
   "source": [
    "new_data.to_csv('control_task2.tsv', sep='\\t', index=None)"
   ]
  },
  {
   "cell_type": "code",
   "execution_count": null,
   "metadata": {},
   "outputs": [],
   "source": []
  }
 ],
 "metadata": {
  "interpreter": {
   "hash": "1aebd4a71fcec916e49c5e2d294321100f54b5d9bbeca9249da939e91b36ccc5"
  },
  "kernelspec": {
   "display_name": "Python 3.8.5 64-bit ('base': conda)",
   "language": "python",
   "name": "python3"
  },
  "language_info": {
   "codemirror_mode": {
    "name": "ipython",
    "version": 3
   },
   "file_extension": ".py",
   "mimetype": "text/x-python",
   "name": "python",
   "nbconvert_exporter": "python",
   "pygments_lexer": "ipython3",
   "version": "3.7.10"
  },
  "orig_nbformat": 4
 },
 "nbformat": 4,
 "nbformat_minor": 2
}
