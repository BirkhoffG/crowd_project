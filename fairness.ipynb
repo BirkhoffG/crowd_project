{
 "cells": [
  {
   "cell_type": "code",
   "execution_count": 1,
   "metadata": {},
   "outputs": [],
   "source": [
    "import pandas as pd\n",
    "import numpy as np\n",
    "import matplotlib.pyplot as plt"
   ]
  },
  {
   "cell_type": "code",
   "execution_count": 11,
   "metadata": {},
   "outputs": [],
   "source": [
    "training = [\n",
    "    'https://raw.githubusercontent.com/BirkhoffG/crowd_project/main/original/40000.png',\n",
    "    'https://raw.githubusercontent.com/BirkhoffG/crowd_project/main/original/40007.png',\n",
    "    'https://raw.githubusercontent.com/BirkhoffG/crowd_project/main/original/40001.png',\n",
    "    'https://raw.githubusercontent.com/BirkhoffG/crowd_project/main/original/40009.png',\n",
    "    'https://raw.githubusercontent.com/BirkhoffG/crowd_project/main/original/40019.png',\n",
    "    'https://raw.githubusercontent.com/BirkhoffG/crowd_project/main/img/img_3996.png',\n",
    "    'https://raw.githubusercontent.com/BirkhoffG/crowd_project/main/img/img_3991.png',\n",
    "    'https://raw.githubusercontent.com/BirkhoffG/crowd_project/main/img/img_3959.png',\n",
    "    'https://raw.githubusercontent.com/BirkhoffG/crowd_project/main/img/img_3939.png',\n",
    "    'https://raw.githubusercontent.com/BirkhoffG/crowd_project/main/img/img_3933.png'\n",
    "]\n",
    "\n",
    "labels = [\n",
    "    0, 0, 1, 1, 0, 0, 1, 0, 1, 1\n",
    "]"
   ]
  },
  {
   "cell_type": "code",
   "execution_count": 12,
   "metadata": {},
   "outputs": [],
   "source": [
    "skin_fn = lambda x: \"Lighter\" if x == 1 else \"Darker\"\n",
    "labels = list(map(skin_fn, labels))"
   ]
  },
  {
   "cell_type": "code",
   "execution_count": 13,
   "metadata": {},
   "outputs": [],
   "source": [
    "hints = [f\"This face has a {skin} skin.\" for skin in labels]"
   ]
  },
  {
   "cell_type": "code",
   "execution_count": 16,
   "metadata": {},
   "outputs": [],
   "source": [
    "skin_training = pd.read_csv('fairness/training.tsv', sep='\\t').iloc[0:0]"
   ]
  },
  {
   "cell_type": "code",
   "execution_count": 17,
   "metadata": {},
   "outputs": [],
   "source": [
    "skin_training['INPUT:image'] = training\n",
    "skin_training['GOLDEN:result'] = labels\n",
    "skin_training['HINT:text'] = hints"
   ]
  },
  {
   "cell_type": "code",
   "execution_count": 20,
   "metadata": {},
   "outputs": [],
   "source": [
    "skin_training.to_csv('fairness/training.tsv', sep='\\t', index=None)"
   ]
  },
  {
   "cell_type": "code",
   "execution_count": 24,
   "metadata": {},
   "outputs": [],
   "source": [
    "cols = ['INPUT:image']\n",
    "org = pd.read_csv('org_label.csv')[cols]\n",
    "fake = pd.read_csv('fake_label.csv')[cols]"
   ]
  },
  {
   "cell_type": "code",
   "execution_count": 34,
   "metadata": {},
   "outputs": [],
   "source": [
    "sampled = pd.concat((org[:100], fake[:100]))"
   ]
  },
  {
   "cell_type": "code",
   "execution_count": 36,
   "metadata": {},
   "outputs": [],
   "source": [
    "sampled.to_csv('fairness/sampled.tsv', sep='\\t', index=None)"
   ]
  },
  {
   "cell_type": "code",
   "execution_count": 37,
   "metadata": {},
   "outputs": [],
   "source": [
    "rest = pd.concat((org[100:], fake[100:]))"
   ]
  },
  {
   "cell_type": "code",
   "execution_count": 40,
   "metadata": {},
   "outputs": [],
   "source": [
    "rest.to_csv('fairness/rest.tsv', sep='\\t', index=None)"
   ]
  },
  {
   "cell_type": "markdown",
   "metadata": {},
   "source": [
    "## Analysis"
   ]
  },
  {
   "cell_type": "code",
   "execution_count": 101,
   "metadata": {},
   "outputs": [],
   "source": [
    "link2id = lambda x: x.split('/')[-1].split('\"')[0]"
   ]
  },
  {
   "cell_type": "code",
   "execution_count": 102,
   "metadata": {},
   "outputs": [],
   "source": [
    "res = pd.read_csv('fairness/results/assignments_from_pool_33873013__13-06-2022.tsv', sep='\\t')"
   ]
  },
  {
   "cell_type": "code",
   "execution_count": 103,
   "metadata": {},
   "outputs": [],
   "source": [
    "res = res[::2][['INPUT:image', 'OUTPUT:result']]"
   ]
  },
  {
   "cell_type": "code",
   "execution_count": 104,
   "metadata": {},
   "outputs": [],
   "source": [
    "res['result'] = res['OUTPUT:result'].apply(lambda x: 1 if x == 'Darker' else 0)"
   ]
  },
  {
   "cell_type": "code",
   "execution_count": 105,
   "metadata": {},
   "outputs": [],
   "source": [
    "res = res.groupby('INPUT:image').sum()"
   ]
  },
  {
   "cell_type": "code",
   "execution_count": 106,
   "metadata": {},
   "outputs": [],
   "source": [
    "from copy import deepcopy\n",
    "final_res = deepcopy(res)\n",
    "final_res['skin'] = final_res['result'].apply(lambda x: 1 if x >= 2 else 0)\n",
    "final_res = final_res.drop(['result'], axis=1)"
   ]
  },
  {
   "cell_type": "code",
   "execution_count": 107,
   "metadata": {},
   "outputs": [],
   "source": [
    "final_res = final_res.reset_index()"
   ]
  },
  {
   "cell_type": "code",
   "execution_count": 108,
   "metadata": {},
   "outputs": [],
   "source": [
    "final_res['INPUT:image'] = final_res['INPUT:image'].apply(link2id)"
   ]
  },
  {
   "cell_type": "code",
   "execution_count": 109,
   "metadata": {},
   "outputs": [
    {
     "data": {
      "text/plain": [
       "0.089"
      ]
     },
     "execution_count": 109,
     "metadata": {},
     "output_type": "execute_result"
    }
   ],
   "source": [
    "sum(final_res['skin']) / len(final_res)"
   ]
  },
  {
   "cell_type": "code",
   "execution_count": 110,
   "metadata": {},
   "outputs": [],
   "source": [
    "org_imgs_acc = pd.read_csv('org_imgs_worker_acc.csv')\n",
    "fake_imgs_acc = pd.read_csv('fake_imgs_worker_acc.csv')"
   ]
  },
  {
   "cell_type": "code",
   "execution_count": 111,
   "metadata": {},
   "outputs": [],
   "source": [
    "img_acc = pd.concat((org_imgs_acc, fake_imgs_acc))"
   ]
  },
  {
   "cell_type": "code",
   "execution_count": 112,
   "metadata": {},
   "outputs": [],
   "source": [
    "skin_acc = final_res.merge(img_acc, on='INPUT:image')"
   ]
  },
  {
   "cell_type": "code",
   "execution_count": 113,
   "metadata": {},
   "outputs": [
    {
     "data": {
      "text/html": [
       "<div>\n",
       "<style scoped>\n",
       "    .dataframe tbody tr th:only-of-type {\n",
       "        vertical-align: middle;\n",
       "    }\n",
       "\n",
       "    .dataframe tbody tr th {\n",
       "        vertical-align: top;\n",
       "    }\n",
       "\n",
       "    .dataframe thead th {\n",
       "        text-align: right;\n",
       "    }\n",
       "</style>\n",
       "<table border=\"1\" class=\"dataframe\">\n",
       "  <thead>\n",
       "    <tr style=\"text-align: right;\">\n",
       "      <th></th>\n",
       "      <th>INPUT:image</th>\n",
       "      <th>skin</th>\n",
       "      <th>n_workers</th>\n",
       "      <th>acc</th>\n",
       "    </tr>\n",
       "  </thead>\n",
       "  <tbody>\n",
       "    <tr>\n",
       "      <th>0</th>\n",
       "      <td>img_1.png</td>\n",
       "      <td>1</td>\n",
       "      <td>3.0</td>\n",
       "      <td>0.666667</td>\n",
       "    </tr>\n",
       "    <tr>\n",
       "      <th>1</th>\n",
       "      <td>img_101.png</td>\n",
       "      <td>0</td>\n",
       "      <td>2.0</td>\n",
       "      <td>0.000000</td>\n",
       "    </tr>\n",
       "    <tr>\n",
       "      <th>2</th>\n",
       "      <td>img_103.png</td>\n",
       "      <td>0</td>\n",
       "      <td>2.0</td>\n",
       "      <td>1.000000</td>\n",
       "    </tr>\n",
       "    <tr>\n",
       "      <th>3</th>\n",
       "      <td>img_105.png</td>\n",
       "      <td>0</td>\n",
       "      <td>4.0</td>\n",
       "      <td>0.750000</td>\n",
       "    </tr>\n",
       "    <tr>\n",
       "      <th>4</th>\n",
       "      <td>img_107.png</td>\n",
       "      <td>0</td>\n",
       "      <td>5.0</td>\n",
       "      <td>0.800000</td>\n",
       "    </tr>\n",
       "    <tr>\n",
       "      <th>...</th>\n",
       "      <td>...</td>\n",
       "      <td>...</td>\n",
       "      <td>...</td>\n",
       "      <td>...</td>\n",
       "    </tr>\n",
       "    <tr>\n",
       "      <th>995</th>\n",
       "      <td>40996.png</td>\n",
       "      <td>0</td>\n",
       "      <td>4.0</td>\n",
       "      <td>0.750000</td>\n",
       "    </tr>\n",
       "    <tr>\n",
       "      <th>996</th>\n",
       "      <td>40997.png</td>\n",
       "      <td>0</td>\n",
       "      <td>4.0</td>\n",
       "      <td>1.000000</td>\n",
       "    </tr>\n",
       "    <tr>\n",
       "      <th>997</th>\n",
       "      <td>40998.png</td>\n",
       "      <td>0</td>\n",
       "      <td>4.0</td>\n",
       "      <td>1.000000</td>\n",
       "    </tr>\n",
       "    <tr>\n",
       "      <th>998</th>\n",
       "      <td>40999.png</td>\n",
       "      <td>0</td>\n",
       "      <td>4.0</td>\n",
       "      <td>0.750000</td>\n",
       "    </tr>\n",
       "    <tr>\n",
       "      <th>999</th>\n",
       "      <td>41000.png</td>\n",
       "      <td>0</td>\n",
       "      <td>4.0</td>\n",
       "      <td>0.500000</td>\n",
       "    </tr>\n",
       "  </tbody>\n",
       "</table>\n",
       "<p>1000 rows × 4 columns</p>\n",
       "</div>"
      ],
      "text/plain": [
       "     INPUT:image  skin  n_workers       acc\n",
       "0      img_1.png     1        3.0  0.666667\n",
       "1    img_101.png     0        2.0  0.000000\n",
       "2    img_103.png     0        2.0  1.000000\n",
       "3    img_105.png     0        4.0  0.750000\n",
       "4    img_107.png     0        5.0  0.800000\n",
       "..           ...   ...        ...       ...\n",
       "995    40996.png     0        4.0  0.750000\n",
       "996    40997.png     0        4.0  1.000000\n",
       "997    40998.png     0        4.0  1.000000\n",
       "998    40999.png     0        4.0  0.750000\n",
       "999    41000.png     0        4.0  0.500000\n",
       "\n",
       "[1000 rows x 4 columns]"
      ]
     },
     "execution_count": 113,
     "metadata": {},
     "output_type": "execute_result"
    }
   ],
   "source": [
    "skin_acc"
   ]
  },
  {
   "cell_type": "code",
   "execution_count": 72,
   "metadata": {},
   "outputs": [],
   "source": [
    "def freq_bar(real_y, fake_y, title):\n",
    "    skin_list = ['Lighter', 'Darker']\n",
    "\n",
    "    fig, ax = plt.subplots()\n",
    "    x = np.arange(len(skin_list))\n",
    "    width = 0.35\n",
    "\n",
    "    p1 = ax.bar(x - width/2, real_y, width, label='Real')\n",
    "    p2 = ax.bar(x + width/2, fake_y, width, label='Fake')\n",
    "    ax.bar_label(p1)\n",
    "    ax.bar_label(p2)\n",
    "\n",
    "    ax.set_title(title)\n",
    "\n",
    "    ax.set_xticks(x)\n",
    "    ax.set_xticklabels(skin_list)\n",
    "\n",
    "    ax.legend(loc='lower left')\n",
    "    return fig"
   ]
  },
  {
   "cell_type": "code",
   "execution_count": 120,
   "metadata": {},
   "outputs": [
    {
     "data": {
      "text/html": [
       "<div>\n",
       "<style scoped>\n",
       "    .dataframe tbody tr th:only-of-type {\n",
       "        vertical-align: middle;\n",
       "    }\n",
       "\n",
       "    .dataframe tbody tr th {\n",
       "        vertical-align: top;\n",
       "    }\n",
       "\n",
       "    .dataframe thead th {\n",
       "        text-align: right;\n",
       "    }\n",
       "</style>\n",
       "<table border=\"1\" class=\"dataframe\">\n",
       "  <thead>\n",
       "    <tr style=\"text-align: right;\">\n",
       "      <th></th>\n",
       "      <th>n_workers</th>\n",
       "      <th>acc</th>\n",
       "    </tr>\n",
       "    <tr>\n",
       "      <th>skin</th>\n",
       "      <th></th>\n",
       "      <th></th>\n",
       "    </tr>\n",
       "  </thead>\n",
       "  <tbody>\n",
       "    <tr>\n",
       "      <th>0</th>\n",
       "      <td>3.663636</td>\n",
       "      <td>0.821591</td>\n",
       "    </tr>\n",
       "    <tr>\n",
       "      <th>1</th>\n",
       "      <td>3.566667</td>\n",
       "      <td>0.843611</td>\n",
       "    </tr>\n",
       "  </tbody>\n",
       "</table>\n",
       "</div>"
      ],
      "text/plain": [
       "      n_workers       acc\n",
       "skin                     \n",
       "0      3.663636  0.821591\n",
       "1      3.566667  0.843611"
      ]
     },
     "execution_count": 120,
     "metadata": {},
     "output_type": "execute_result"
    }
   ],
   "source": [
    "skin_acc[500:].groupby('skin').mean()"
   ]
  },
  {
   "cell_type": "code",
   "execution_count": 119,
   "metadata": {},
   "outputs": [
    {
     "data": {
      "text/html": [
       "<div>\n",
       "<style scoped>\n",
       "    .dataframe tbody tr th:only-of-type {\n",
       "        vertical-align: middle;\n",
       "    }\n",
       "\n",
       "    .dataframe tbody tr th {\n",
       "        vertical-align: top;\n",
       "    }\n",
       "\n",
       "    .dataframe thead th {\n",
       "        text-align: right;\n",
       "    }\n",
       "</style>\n",
       "<table border=\"1\" class=\"dataframe\">\n",
       "  <thead>\n",
       "    <tr style=\"text-align: right;\">\n",
       "      <th></th>\n",
       "      <th>n_workers</th>\n",
       "      <th>acc</th>\n",
       "    </tr>\n",
       "    <tr>\n",
       "      <th>skin</th>\n",
       "      <th></th>\n",
       "      <th></th>\n",
       "    </tr>\n",
       "  </thead>\n",
       "  <tbody>\n",
       "    <tr>\n",
       "      <th>0</th>\n",
       "      <td>3.511677</td>\n",
       "      <td>0.672435</td>\n",
       "    </tr>\n",
       "    <tr>\n",
       "      <th>1</th>\n",
       "      <td>3.827586</td>\n",
       "      <td>0.773563</td>\n",
       "    </tr>\n",
       "  </tbody>\n",
       "</table>\n",
       "</div>"
      ],
      "text/plain": [
       "      n_workers       acc\n",
       "skin                     \n",
       "0      3.511677  0.672435\n",
       "1      3.827586  0.773563"
      ]
     },
     "execution_count": 119,
     "metadata": {},
     "output_type": "execute_result"
    }
   ],
   "source": [
    "skin_acc[:500].groupby('skin').mean()"
   ]
  },
  {
   "cell_type": "code",
   "execution_count": 128,
   "metadata": {},
   "outputs": [
    {
     "data": {
      "image/png": "[encoded data removed]",
      "text/plain": [
       "<Figure size 432x288 with 1 Axes>"
      ]
     },
     "metadata": {
      "needs_background": "light"
     },
     "output_type": "display_data"
    }
   ],
   "source": [
    "fig = freq_bar(\n",
    "    skin_acc[500:].groupby('skin').mean()['acc'],\n",
    "    skin_acc[:500].groupby('skin').mean()['acc'],\n",
    "    \"Workers' recognition accuracy in each racial group\"\n",
    ")"
   ]
  },
  {
   "cell_type": "code",
   "execution_count": 129,
   "metadata": {},
   "outputs": [
    {
     "data": {
      "image/png": "[encoded data removed]",
      "text/plain": [
       "<Figure size 432x288 with 1 Axes>"
      ]
     },
     "metadata": {
      "needs_background": "light"
     },
     "output_type": "display_data"
    }
   ],
   "source": [
    "fig = freq_bar(\n",
    "    skin_acc[500:]['skin'].value_counts().sort_index(),\n",
    "    skin_acc[:500]['skin'].value_counts().sort_index(),\n",
    "    \"The number of images in each racial group\"\n",
    ")"
   ]
  },
  {
   "cell_type": "markdown",
   "metadata": {},
   "source": [
    "## Create Balenced Skin Pool\n",
    "\n",
    "`0` indicates lighter skin, and `1` indicates darker skin."
   ]
  },
  {
   "cell_type": "code",
   "execution_count": 2,
   "metadata": {},
   "outputs": [],
   "source": [
    "true_imgs = pd.read_csv('true_img.csv', header=None, names=['INPUT:image', 'skin'])\n",
    "fake_imgs = pd.read_csv('fake_skin.csv').dropna().astype({'skin': int})\n",
    "fake_imgs['INPUT:image'] = fake_imgs['INPUT:image'].apply(\n",
    "    lambda x: f\"https://raw.githubusercontent.com/BirkhoffG/crowd_project/main/img/{x}\")"
   ]
  },
  {
   "cell_type": "code",
   "execution_count": 3,
   "metadata": {},
   "outputs": [],
   "source": [
    "true_imgs_lighter = true_imgs[true_imgs['skin'] == 0]\n",
    "true_imgs_darker = true_imgs[true_imgs['skin'] == 1]"
   ]
  },
  {
   "cell_type": "code",
   "execution_count": 4,
   "metadata": {},
   "outputs": [],
   "source": [
    "fake_imgs_lighter = fake_imgs[fake_imgs['skin'] == 0]\n",
    "fake_imgs_darker = fake_imgs[fake_imgs['skin'] == 1]"
   ]
  },
  {
   "cell_type": "code",
   "execution_count": 26,
   "metadata": {},
   "outputs": [],
   "source": [
    "balanced_set_control = pd.concat((\n",
    "    true_imgs_lighter[:50], true_imgs_darker[:50],\n",
    "    fake_imgs_lighter[:50], fake_imgs_darker[:50],\n",
    "))\n",
    "\n",
    "balanced_set_general = pd.concat((\n",
    "    true_imgs_lighter[50:100], true_imgs_darker[50:100],\n",
    "    fake_imgs_lighter[50:100], fake_imgs_darker[50:100],\n",
    "))"
   ]
  },
  {
   "cell_type": "code",
   "execution_count": 28,
   "metadata": {},
   "outputs": [],
   "source": [
    "balanced_set = pd.concat((\n",
    "    true_imgs_lighter[:100], true_imgs_darker[:100],\n",
    "    fake_imgs_lighter[:100], fake_imgs_darker[:100],\n",
    "))"
   ]
  },
  {
   "cell_type": "code",
   "execution_count": 29,
   "metadata": {},
   "outputs": [],
   "source": [
    "control_task = pd.read_csv(\"tasks_for_pool_33923754__15-06-2022.tsv\", sep='\\t')[:0]"
   ]
  },
  {
   "cell_type": "code",
   "execution_count": 30,
   "metadata": {},
   "outputs": [],
   "source": [
    "control_task['INPUT:image'] = balanced_set['INPUT:image']\n",
    "control_task['GOLDEN:result'] = [0] * 200 + [1] * 200 "
   ]
  },
  {
   "cell_type": "code",
   "execution_count": 31,
   "metadata": {},
   "outputs": [],
   "source": [
    "control_task[['INPUT:image', 'GOLDEN:result']].to_csv('control_tasks.tsv', index=None, sep='\\t')"
   ]
  },
  {
   "cell_type": "markdown",
   "metadata": {},
   "source": [
    "### Analysis"
   ]
  },
  {
   "cell_type": "code",
   "execution_count": 27,
   "metadata": {},
   "outputs": [],
   "source": [
    "# control_task[['INPUT:image', 'GOLDEN:result']].to_csv('control_tasks.tsv', index=None, sep='\\t')\n",
    "balanced_set_general[['INPUT:image']].to_csv('general_tasks.tsv', index=None, sep='\\t')"
   ]
  },
  {
   "cell_type": "code",
   "execution_count": 54,
   "metadata": {},
   "outputs": [],
   "source": [
    "worker_acc = pd.read_csv('fairness/fake_real_worker_acc/assignments_from_pool_33923754__15-06-2022.tsv',\n",
    "    sep='\\t').dropna(axis=0, how='all')\n",
    "worker_acc['INPUT:image'] = worker_acc['INPUT:image'].apply(lambda x: x.replace('\"', ''))"
   ]
  },
  {
   "cell_type": "code",
   "execution_count": 55,
   "metadata": {},
   "outputs": [],
   "source": [
    "worker_final_acc = worker_acc[['INPUT:image', 'OUTPUT:result', 'GOLDEN:result']].groupby('INPUT:image').sum().reset_index()"
   ]
  },
  {
   "cell_type": "code",
   "execution_count": 57,
   "metadata": {},
   "outputs": [],
   "source": [
    "worker_final_acc = worker_final_acc.merge(balanced_set, on='INPUT:image')"
   ]
  },
  {
   "cell_type": "code",
   "execution_count": 60,
   "metadata": {},
   "outputs": [],
   "source": [
    "worker_final_acc_real = worker_final_acc[worker_final_acc['GOLDEN:result'] == 0.]\n",
    "worker_final_acc_fake = worker_final_acc[worker_final_acc['GOLDEN:result'] > 0]"
   ]
  },
  {
   "cell_type": "code",
   "execution_count": 69,
   "metadata": {},
   "outputs": [
    {
     "name": "stderr",
     "output_type": "stream",
     "text": [
      "<ipython-input-69-955dbf0200bd>:1: SettingWithCopyWarning: \n",
      "A value is trying to be set on a copy of a slice from a DataFrame.\n",
      "Try using .loc[row_indexer,col_indexer] = value instead\n",
      "\n",
      "See the caveats in the documentation: https://pandas.pydata.org/pandas-docs/stable/user_guide/indexing.html#returning-a-view-versus-a-copy\n",
      "  worker_final_acc_fake['acc'] = worker_final_acc_fake['OUTPUT:result'] / worker_final_acc_fake['GOLDEN:result']\n",
      "<ipython-input-69-955dbf0200bd>:2: SettingWithCopyWarning: \n",
      "A value is trying to be set on a copy of a slice from a DataFrame.\n",
      "Try using .loc[row_indexer,col_indexer] = value instead\n",
      "\n",
      "See the caveats in the documentation: https://pandas.pydata.org/pandas-docs/stable/user_guide/indexing.html#returning-a-view-versus-a-copy\n",
      "  worker_final_acc_real['acc'] = (3 - worker_final_acc_real['OUTPUT:result']) / (3 - worker_final_acc_real['GOLDEN:result'])\n"
     ]
    }
   ],
   "source": [
    "worker_final_acc_fake['acc'] = worker_final_acc_fake['OUTPUT:result'] / worker_final_acc_fake['GOLDEN:result']\n",
    "worker_final_acc_real['acc'] = (3 - worker_final_acc_real['OUTPUT:result']) / (3 - worker_final_acc_real['GOLDEN:result'])"
   ]
  },
  {
   "cell_type": "code",
   "execution_count": 70,
   "metadata": {},
   "outputs": [
    {
     "data": {
      "text/plain": [
       "0.5666666666666665"
      ]
     },
     "execution_count": 70,
     "metadata": {},
     "output_type": "execute_result"
    }
   ],
   "source": [
    "worker_final_acc_fake['acc'].mean()"
   ]
  },
  {
   "cell_type": "code",
   "execution_count": 71,
   "metadata": {},
   "outputs": [
    {
     "data": {
      "text/plain": [
       "0.7066666666666666"
      ]
     },
     "execution_count": 71,
     "metadata": {},
     "output_type": "execute_result"
    }
   ],
   "source": [
    "worker_final_acc_real['acc'].mean()"
   ]
  },
  {
   "cell_type": "code",
   "execution_count": 73,
   "metadata": {},
   "outputs": [
    {
     "data": {
      "text/html": [
       "<div>\n",
       "<style scoped>\n",
       "    .dataframe tbody tr th:only-of-type {\n",
       "        vertical-align: middle;\n",
       "    }\n",
       "\n",
       "    .dataframe tbody tr th {\n",
       "        vertical-align: top;\n",
       "    }\n",
       "\n",
       "    .dataframe thead th {\n",
       "        text-align: right;\n",
       "    }\n",
       "</style>\n",
       "<table border=\"1\" class=\"dataframe\">\n",
       "  <thead>\n",
       "    <tr style=\"text-align: right;\">\n",
       "      <th></th>\n",
       "      <th>INPUT:image</th>\n",
       "      <th>OUTPUT:result</th>\n",
       "      <th>GOLDEN:result</th>\n",
       "      <th>skin</th>\n",
       "      <th>acc</th>\n",
       "    </tr>\n",
       "  </thead>\n",
       "  <tbody>\n",
       "    <tr>\n",
       "      <th>200</th>\n",
       "      <td>https://raw.githubusercontent.com/BirkhoffG/cr...</td>\n",
       "      <td>0.0</td>\n",
       "      <td>0.0</td>\n",
       "      <td>0</td>\n",
       "      <td>1.000000</td>\n",
       "    </tr>\n",
       "    <tr>\n",
       "      <th>201</th>\n",
       "      <td>https://raw.githubusercontent.com/BirkhoffG/cr...</td>\n",
       "      <td>1.0</td>\n",
       "      <td>0.0</td>\n",
       "      <td>0</td>\n",
       "      <td>0.666667</td>\n",
       "    </tr>\n",
       "    <tr>\n",
       "      <th>202</th>\n",
       "      <td>https://raw.githubusercontent.com/BirkhoffG/cr...</td>\n",
       "      <td>1.0</td>\n",
       "      <td>0.0</td>\n",
       "      <td>1</td>\n",
       "      <td>0.666667</td>\n",
       "    </tr>\n",
       "    <tr>\n",
       "      <th>203</th>\n",
       "      <td>https://raw.githubusercontent.com/BirkhoffG/cr...</td>\n",
       "      <td>2.0</td>\n",
       "      <td>0.0</td>\n",
       "      <td>0</td>\n",
       "      <td>0.333333</td>\n",
       "    </tr>\n",
       "    <tr>\n",
       "      <th>204</th>\n",
       "      <td>https://raw.githubusercontent.com/BirkhoffG/cr...</td>\n",
       "      <td>3.0</td>\n",
       "      <td>0.0</td>\n",
       "      <td>0</td>\n",
       "      <td>0.000000</td>\n",
       "    </tr>\n",
       "    <tr>\n",
       "      <th>...</th>\n",
       "      <td>...</td>\n",
       "      <td>...</td>\n",
       "      <td>...</td>\n",
       "      <td>...</td>\n",
       "      <td>...</td>\n",
       "    </tr>\n",
       "    <tr>\n",
       "      <th>395</th>\n",
       "      <td>https://raw.githubusercontent.com/BirkhoffG/cr...</td>\n",
       "      <td>1.0</td>\n",
       "      <td>0.0</td>\n",
       "      <td>1</td>\n",
       "      <td>0.666667</td>\n",
       "    </tr>\n",
       "    <tr>\n",
       "      <th>396</th>\n",
       "      <td>https://raw.githubusercontent.com/BirkhoffG/cr...</td>\n",
       "      <td>1.0</td>\n",
       "      <td>0.0</td>\n",
       "      <td>1</td>\n",
       "      <td>0.666667</td>\n",
       "    </tr>\n",
       "    <tr>\n",
       "      <th>397</th>\n",
       "      <td>https://raw.githubusercontent.com/BirkhoffG/cr...</td>\n",
       "      <td>0.0</td>\n",
       "      <td>0.0</td>\n",
       "      <td>1</td>\n",
       "      <td>1.000000</td>\n",
       "    </tr>\n",
       "    <tr>\n",
       "      <th>398</th>\n",
       "      <td>https://raw.githubusercontent.com/BirkhoffG/cr...</td>\n",
       "      <td>1.0</td>\n",
       "      <td>0.0</td>\n",
       "      <td>1</td>\n",
       "      <td>0.666667</td>\n",
       "    </tr>\n",
       "    <tr>\n",
       "      <th>399</th>\n",
       "      <td>https://raw.githubusercontent.com/BirkhoffG/cr...</td>\n",
       "      <td>0.0</td>\n",
       "      <td>0.0</td>\n",
       "      <td>1</td>\n",
       "      <td>1.000000</td>\n",
       "    </tr>\n",
       "  </tbody>\n",
       "</table>\n",
       "<p>200 rows × 5 columns</p>\n",
       "</div>"
      ],
      "text/plain": [
       "                                           INPUT:image  OUTPUT:result  \\\n",
       "200  https://raw.githubusercontent.com/BirkhoffG/cr...            0.0   \n",
       "201  https://raw.githubusercontent.com/BirkhoffG/cr...            1.0   \n",
       "202  https://raw.githubusercontent.com/BirkhoffG/cr...            1.0   \n",
       "203  https://raw.githubusercontent.com/BirkhoffG/cr...            2.0   \n",
       "204  https://raw.githubusercontent.com/BirkhoffG/cr...            3.0   \n",
       "..                                                 ...            ...   \n",
       "395  https://raw.githubusercontent.com/BirkhoffG/cr...            1.0   \n",
       "396  https://raw.githubusercontent.com/BirkhoffG/cr...            1.0   \n",
       "397  https://raw.githubusercontent.com/BirkhoffG/cr...            0.0   \n",
       "398  https://raw.githubusercontent.com/BirkhoffG/cr...            1.0   \n",
       "399  https://raw.githubusercontent.com/BirkhoffG/cr...            0.0   \n",
       "\n",
       "     GOLDEN:result  skin       acc  \n",
       "200            0.0     0  1.000000  \n",
       "201            0.0     0  0.666667  \n",
       "202            0.0     1  0.666667  \n",
       "203            0.0     0  0.333333  \n",
       "204            0.0     0  0.000000  \n",
       "..             ...   ...       ...  \n",
       "395            0.0     1  0.666667  \n",
       "396            0.0     1  0.666667  \n",
       "397            0.0     1  1.000000  \n",
       "398            0.0     1  0.666667  \n",
       "399            0.0     1  1.000000  \n",
       "\n",
       "[200 rows x 5 columns]"
      ]
     },
     "execution_count": 73,
     "metadata": {},
     "output_type": "execute_result"
    }
   ],
   "source": [
    "worker_final_acc_real"
   ]
  },
  {
   "cell_type": "code",
   "execution_count": 74,
   "metadata": {},
   "outputs": [
    {
     "data": {
      "image/png": "[encoded data removed]",
      "text/plain": [
       "<Figure size 432x288 with 1 Axes>"
      ]
     },
     "metadata": {
      "needs_background": "light"
     },
     "output_type": "display_data"
    }
   ],
   "source": [
    "fig = freq_bar(\n",
    "    real_y=worker_final_acc_real.groupby('skin').mean()['acc'],\n",
    "    fake_y=worker_final_acc_fake.groupby('skin').mean()['acc'],\n",
    "    # skin_acc[500:].groupby('skin').mean()['acc'],\n",
    "    # skin_acc[:500].groupby('skin').mean()['acc'],\n",
    "    title=\"Workers' recognition accuracy in each racial group\"\n",
    ")"
   ]
  }
 ],
 "metadata": {
  "interpreter": {
   "hash": "1aebd4a71fcec916e49c5e2d294321100f54b5d9bbeca9249da939e91b36ccc5"
  },
  "kernelspec": {
   "display_name": "Python 3.8.5 ('base')",
   "language": "python",
   "name": "python3"
  },
  "language_info": {
   "codemirror_mode": {
    "name": "ipython",
    "version": 3
   },
   "file_extension": ".py",
   "mimetype": "text/x-python",
   "name": "python",
   "nbconvert_exporter": "python",
   "pygments_lexer": "ipython3",
   "version": "3.8.5"
  },
  "orig_nbformat": 4
 },
 "nbformat": 4,
 "nbformat_minor": 2
}
