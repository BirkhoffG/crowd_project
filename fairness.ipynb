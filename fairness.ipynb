{
 "cells": [
  {
   "cell_type": "code",
   "execution_count": 1,
   "metadata": {},
   "outputs": [],
   "source": [
    "import pandas as pd\n",
    "import numpy as np\n",
    "import matplotlib.pyplot as plt"
   ]
  },
  {
   "cell_type": "code",
   "execution_count": 2,
   "metadata": {},
   "outputs": [],
   "source": [
    "def freq_bar(real_y, fake_y, title):\n",
    "    skin_list = ['Lighter', 'Darker']\n",
    "\n",
    "    fig, ax = plt.subplots()\n",
    "    x = np.arange(len(skin_list))\n",
    "    width = 0.35\n",
    "\n",
    "    p1 = ax.bar(x - width/2, real_y, width, label='Real')\n",
    "    p2 = ax.bar(x + width/2, fake_y, width, label='Fake')\n",
    "    ax.bar_label(p1)\n",
    "    ax.bar_label(p2)\n",
    "\n",
    "    ax.set_title(title)\n",
    "\n",
    "    ax.set_xticks(x)\n",
    "    ax.set_xticklabels(skin_list)\n",
    "\n",
    "    ax.legend(loc='lower left')\n",
    "    return fig"
   ]
  },
  {
   "cell_type": "code",
   "execution_count": 11,
   "metadata": {},
   "outputs": [],
   "source": [
    "training = [\n",
    "    'https://raw.githubusercontent.com/BirkhoffG/crowd_project/main/original/40000.png',\n",
    "    'https://raw.githubusercontent.com/BirkhoffG/crowd_project/main/original/40007.png',\n",
    "    'https://raw.githubusercontent.com/BirkhoffG/crowd_project/main/original/40001.png',\n",
    "    'https://raw.githubusercontent.com/BirkhoffG/crowd_project/main/original/40009.png',\n",
    "    'https://raw.githubusercontent.com/BirkhoffG/crowd_project/main/original/40019.png',\n",
    "    'https://raw.githubusercontent.com/BirkhoffG/crowd_project/main/img/img_3996.png',\n",
    "    'https://raw.githubusercontent.com/BirkhoffG/crowd_project/main/img/img_3991.png',\n",
    "    'https://raw.githubusercontent.com/BirkhoffG/crowd_project/main/img/img_3959.png',\n",
    "    'https://raw.githubusercontent.com/BirkhoffG/crowd_project/main/img/img_3939.png',\n",
    "    'https://raw.githubusercontent.com/BirkhoffG/crowd_project/main/img/img_3933.png'\n",
    "]\n",
    "\n",
    "labels = [\n",
    "    0, 0, 1, 1, 0, 0, 1, 0, 1, 1\n",
    "]"
   ]
  },
  {
   "cell_type": "code",
   "execution_count": 12,
   "metadata": {},
   "outputs": [],
   "source": [
    "skin_fn = lambda x: \"Lighter\" if x == 1 else \"Darker\"\n",
    "labels = list(map(skin_fn, labels))"
   ]
  },
  {
   "cell_type": "code",
   "execution_count": 13,
   "metadata": {},
   "outputs": [],
   "source": [
    "hints = [f\"This face has a {skin} skin.\" for skin in labels]"
   ]
  },
  {
   "cell_type": "code",
   "execution_count": 16,
   "metadata": {},
   "outputs": [],
   "source": [
    "skin_training = pd.read_csv('fairness/training.tsv', sep='\\t').iloc[0:0]"
   ]
  },
  {
   "cell_type": "code",
   "execution_count": 17,
   "metadata": {},
   "outputs": [],
   "source": [
    "skin_training['INPUT:image'] = training\n",
    "skin_training['GOLDEN:result'] = labels\n",
    "skin_training['HINT:text'] = hints"
   ]
  },
  {
   "cell_type": "code",
   "execution_count": 20,
   "metadata": {},
   "outputs": [],
   "source": [
    "skin_training.to_csv('fairness/training.tsv', sep='\\t', index=None)"
   ]
  },
  {
   "cell_type": "code",
   "execution_count": 24,
   "metadata": {},
   "outputs": [],
   "source": [
    "cols = ['INPUT:image']\n",
    "org = pd.read_csv('org_label.csv')[cols]\n",
    "fake = pd.read_csv('fake_label.csv')[cols]"
   ]
  },
  {
   "cell_type": "code",
   "execution_count": 34,
   "metadata": {},
   "outputs": [],
   "source": [
    "sampled = pd.concat((org[:100], fake[:100]))"
   ]
  },
  {
   "cell_type": "code",
   "execution_count": 36,
   "metadata": {},
   "outputs": [],
   "source": [
    "sampled.to_csv('fairness/sampled.tsv', sep='\\t', index=None)"
   ]
  },
  {
   "cell_type": "code",
   "execution_count": 37,
   "metadata": {},
   "outputs": [],
   "source": [
    "rest = pd.concat((org[100:], fake[100:]))"
   ]
  },
  {
   "cell_type": "code",
   "execution_count": 40,
   "metadata": {},
   "outputs": [],
   "source": [
    "rest.to_csv('fairness/rest.tsv', sep='\\t', index=None)"
   ]
  },
  {
   "cell_type": "markdown",
   "metadata": {},
   "source": [
    "## Analysis"
   ]
  },
  {
   "cell_type": "code",
   "execution_count": 101,
   "metadata": {},
   "outputs": [],
   "source": [
    "link2id = lambda x: x.split('/')[-1].split('\"')[0]"
   ]
  },
  {
   "cell_type": "code",
   "execution_count": 102,
   "metadata": {},
   "outputs": [],
   "source": [
    "res = pd.read_csv('fairness/results/assignments_from_pool_33873013__13-06-2022.tsv', sep='\\t')"
   ]
  },
  {
   "cell_type": "code",
   "execution_count": 103,
   "metadata": {},
   "outputs": [],
   "source": [
    "res = res[::2][['INPUT:image', 'OUTPUT:result']]"
   ]
  },
  {
   "cell_type": "code",
   "execution_count": 104,
   "metadata": {},
   "outputs": [],
   "source": [
    "res['result'] = res['OUTPUT:result'].apply(lambda x: 1 if x == 'Darker' else 0)"
   ]
  },
  {
   "cell_type": "code",
   "execution_count": 105,
   "metadata": {},
   "outputs": [],
   "source": [
    "res = res.groupby('INPUT:image').sum()"
   ]
  },
  {
   "cell_type": "code",
   "execution_count": 106,
   "metadata": {},
   "outputs": [],
   "source": [
    "from copy import deepcopy\n",
    "final_res = deepcopy(res)\n",
    "final_res['skin'] = final_res['result'].apply(lambda x: 1 if x >= 2 else 0)\n",
    "final_res = final_res.drop(['result'], axis=1)"
   ]
  },
  {
   "cell_type": "code",
   "execution_count": 107,
   "metadata": {},
   "outputs": [],
   "source": [
    "final_res = final_res.reset_index()"
   ]
  },
  {
   "cell_type": "code",
   "execution_count": 108,
   "metadata": {},
   "outputs": [],
   "source": [
    "final_res['INPUT:image'] = final_res['INPUT:image'].apply(link2id)"
   ]
  },
  {
   "cell_type": "code",
   "execution_count": 109,
   "metadata": {},
   "outputs": [
    {
     "data": {
      "text/plain": [
       "0.089"
      ]
     },
     "execution_count": 109,
     "metadata": {},
     "output_type": "execute_result"
    }
   ],
   "source": [
    "sum(final_res['skin']) / len(final_res)"
   ]
  },
  {
   "cell_type": "code",
   "execution_count": 110,
   "metadata": {},
   "outputs": [],
   "source": [
    "org_imgs_acc = pd.read_csv('org_imgs_worker_acc.csv')\n",
    "fake_imgs_acc = pd.read_csv('fake_imgs_worker_acc.csv')"
   ]
  },
  {
   "cell_type": "code",
   "execution_count": 111,
   "metadata": {},
   "outputs": [],
   "source": [
    "img_acc = pd.concat((org_imgs_acc, fake_imgs_acc))"
   ]
  },
  {
   "cell_type": "code",
   "execution_count": 112,
   "metadata": {},
   "outputs": [],
   "source": [
    "skin_acc = final_res.merge(img_acc, on='INPUT:image')"
   ]
  },
  {
   "cell_type": "code",
   "execution_count": 113,
   "metadata": {},
   "outputs": [
    {
     "data": {
      "text/html": [
       "<div>\n",
       "<style scoped>\n",
       "    .dataframe tbody tr th:only-of-type {\n",
       "        vertical-align: middle;\n",
       "    }\n",
       "\n",
       "    .dataframe tbody tr th {\n",
       "        vertical-align: top;\n",
       "    }\n",
       "\n",
       "    .dataframe thead th {\n",
       "        text-align: right;\n",
       "    }\n",
       "</style>\n",
       "<table border=\"1\" class=\"dataframe\">\n",
       "  <thead>\n",
       "    <tr style=\"text-align: right;\">\n",
       "      <th></th>\n",
       "      <th>INPUT:image</th>\n",
       "      <th>skin</th>\n",
       "      <th>n_workers</th>\n",
       "      <th>acc</th>\n",
       "    </tr>\n",
       "  </thead>\n",
       "  <tbody>\n",
       "    <tr>\n",
       "      <th>0</th>\n",
       "      <td>img_1.png</td>\n",
       "      <td>1</td>\n",
       "      <td>3.0</td>\n",
       "      <td>0.666667</td>\n",
       "    </tr>\n",
       "    <tr>\n",
       "      <th>1</th>\n",
       "      <td>img_101.png</td>\n",
       "      <td>0</td>\n",
       "      <td>2.0</td>\n",
       "      <td>0.000000</td>\n",
       "    </tr>\n",
       "    <tr>\n",
       "      <th>2</th>\n",
       "      <td>img_103.png</td>\n",
       "      <td>0</td>\n",
       "      <td>2.0</td>\n",
       "      <td>1.000000</td>\n",
       "    </tr>\n",
       "    <tr>\n",
       "      <th>3</th>\n",
       "      <td>img_105.png</td>\n",
       "      <td>0</td>\n",
       "      <td>4.0</td>\n",
       "      <td>0.750000</td>\n",
       "    </tr>\n",
       "    <tr>\n",
       "      <th>4</th>\n",
       "      <td>img_107.png</td>\n",
       "      <td>0</td>\n",
       "      <td>5.0</td>\n",
       "      <td>0.800000</td>\n",
       "    </tr>\n",
       "    <tr>\n",
       "      <th>...</th>\n",
       "      <td>...</td>\n",
       "      <td>...</td>\n",
       "      <td>...</td>\n",
       "      <td>...</td>\n",
       "    </tr>\n",
       "    <tr>\n",
       "      <th>995</th>\n",
       "      <td>40996.png</td>\n",
       "      <td>0</td>\n",
       "      <td>4.0</td>\n",
       "      <td>0.750000</td>\n",
       "    </tr>\n",
       "    <tr>\n",
       "      <th>996</th>\n",
       "      <td>40997.png</td>\n",
       "      <td>0</td>\n",
       "      <td>4.0</td>\n",
       "      <td>1.000000</td>\n",
       "    </tr>\n",
       "    <tr>\n",
       "      <th>997</th>\n",
       "      <td>40998.png</td>\n",
       "      <td>0</td>\n",
       "      <td>4.0</td>\n",
       "      <td>1.000000</td>\n",
       "    </tr>\n",
       "    <tr>\n",
       "      <th>998</th>\n",
       "      <td>40999.png</td>\n",
       "      <td>0</td>\n",
       "      <td>4.0</td>\n",
       "      <td>0.750000</td>\n",
       "    </tr>\n",
       "    <tr>\n",
       "      <th>999</th>\n",
       "      <td>41000.png</td>\n",
       "      <td>0</td>\n",
       "      <td>4.0</td>\n",
       "      <td>0.500000</td>\n",
       "    </tr>\n",
       "  </tbody>\n",
       "</table>\n",
       "<p>1000 rows × 4 columns</p>\n",
       "</div>"
      ],
      "text/plain": [
       "     INPUT:image  skin  n_workers       acc\n",
       "0      img_1.png     1        3.0  0.666667\n",
       "1    img_101.png     0        2.0  0.000000\n",
       "2    img_103.png     0        2.0  1.000000\n",
       "3    img_105.png     0        4.0  0.750000\n",
       "4    img_107.png     0        5.0  0.800000\n",
       "..           ...   ...        ...       ...\n",
       "995    40996.png     0        4.0  0.750000\n",
       "996    40997.png     0        4.0  1.000000\n",
       "997    40998.png     0        4.0  1.000000\n",
       "998    40999.png     0        4.0  0.750000\n",
       "999    41000.png     0        4.0  0.500000\n",
       "\n",
       "[1000 rows x 4 columns]"
      ]
     },
     "execution_count": 113,
     "metadata": {},
     "output_type": "execute_result"
    }
   ],
   "source": [
    "skin_acc"
   ]
  },
  {
   "cell_type": "code",
   "execution_count": 120,
   "metadata": {},
   "outputs": [
    {
     "data": {
      "text/html": [
       "<div>\n",
       "<style scoped>\n",
       "    .dataframe tbody tr th:only-of-type {\n",
       "        vertical-align: middle;\n",
       "    }\n",
       "\n",
       "    .dataframe tbody tr th {\n",
       "        vertical-align: top;\n",
       "    }\n",
       "\n",
       "    .dataframe thead th {\n",
       "        text-align: right;\n",
       "    }\n",
       "</style>\n",
       "<table border=\"1\" class=\"dataframe\">\n",
       "  <thead>\n",
       "    <tr style=\"text-align: right;\">\n",
       "      <th></th>\n",
       "      <th>n_workers</th>\n",
       "      <th>acc</th>\n",
       "    </tr>\n",
       "    <tr>\n",
       "      <th>skin</th>\n",
       "      <th></th>\n",
       "      <th></th>\n",
       "    </tr>\n",
       "  </thead>\n",
       "  <tbody>\n",
       "    <tr>\n",
       "      <th>0</th>\n",
       "      <td>3.663636</td>\n",
       "      <td>0.821591</td>\n",
       "    </tr>\n",
       "    <tr>\n",
       "      <th>1</th>\n",
       "      <td>3.566667</td>\n",
       "      <td>0.843611</td>\n",
       "    </tr>\n",
       "  </tbody>\n",
       "</table>\n",
       "</div>"
      ],
      "text/plain": [
       "      n_workers       acc\n",
       "skin                     \n",
       "0      3.663636  0.821591\n",
       "1      3.566667  0.843611"
      ]
     },
     "execution_count": 120,
     "metadata": {},
     "output_type": "execute_result"
    }
   ],
   "source": [
    "skin_acc[500:].groupby('skin').mean()"
   ]
  },
  {
   "cell_type": "code",
   "execution_count": 119,
   "metadata": {},
   "outputs": [
    {
     "data": {
      "text/html": [
       "<div>\n",
       "<style scoped>\n",
       "    .dataframe tbody tr th:only-of-type {\n",
       "        vertical-align: middle;\n",
       "    }\n",
       "\n",
       "    .dataframe tbody tr th {\n",
       "        vertical-align: top;\n",
       "    }\n",
       "\n",
       "    .dataframe thead th {\n",
       "        text-align: right;\n",
       "    }\n",
       "</style>\n",
       "<table border=\"1\" class=\"dataframe\">\n",
       "  <thead>\n",
       "    <tr style=\"text-align: right;\">\n",
       "      <th></th>\n",
       "      <th>n_workers</th>\n",
       "      <th>acc</th>\n",
       "    </tr>\n",
       "    <tr>\n",
       "      <th>skin</th>\n",
       "      <th></th>\n",
       "      <th></th>\n",
       "    </tr>\n",
       "  </thead>\n",
       "  <tbody>\n",
       "    <tr>\n",
       "      <th>0</th>\n",
       "      <td>3.511677</td>\n",
       "      <td>0.672435</td>\n",
       "    </tr>\n",
       "    <tr>\n",
       "      <th>1</th>\n",
       "      <td>3.827586</td>\n",
       "      <td>0.773563</td>\n",
       "    </tr>\n",
       "  </tbody>\n",
       "</table>\n",
       "</div>"
      ],
      "text/plain": [
       "      n_workers       acc\n",
       "skin                     \n",
       "0      3.511677  0.672435\n",
       "1      3.827586  0.773563"
      ]
     },
     "execution_count": 119,
     "metadata": {},
     "output_type": "execute_result"
    }
   ],
   "source": [
    "skin_acc[:500].groupby('skin').mean()"
   ]
  },
  {
   "cell_type": "code",
   "execution_count": 128,
   "metadata": {},
   "outputs": [
    {
     "data": {
      "image/png": "[encoded data removed]",
      "text/plain": [
       "<Figure size 432x288 with 1 Axes>"
      ]
     },
     "metadata": {
      "needs_background": "light"
     },
     "output_type": "display_data"
    }
   ],
   "source": [
    "fig = freq_bar(\n",
    "    skin_acc[500:].groupby('skin').mean()['acc'],\n",
    "    skin_acc[:500].groupby('skin').mean()['acc'],\n",
    "    \"Workers' recognition accuracy in each racial group\"\n",
    ")"
   ]
  },
  {
   "cell_type": "code",
   "execution_count": 129,
   "metadata": {},
   "outputs": [
    {
     "data": {
      "image/png": "[encoded data removed]",
      "text/plain": [
       "<Figure size 432x288 with 1 Axes>"
      ]
     },
     "metadata": {
      "needs_background": "light"
     },
     "output_type": "display_data"
    }
   ],
   "source": [
    "fig = freq_bar(\n",
    "    skin_acc[500:]['skin'].value_counts().sort_index(),\n",
    "    skin_acc[:500]['skin'].value_counts().sort_index(),\n",
    "    \"The number of images in each racial group\"\n",
    ")"
   ]
  },
  {
   "cell_type": "markdown",
   "metadata": {},
   "source": [
    "## Create Balenced Skin Pool\n",
    "\n",
    "`0` indicates lighter skin, and `1` indicates darker skin."
   ]
  },
  {
   "cell_type": "code",
   "execution_count": 3,
   "metadata": {},
   "outputs": [],
   "source": [
    "true_imgs = pd.read_csv('true_img.csv', header=None, names=['INPUT:image', 'skin'])\n",
    "fake_imgs = pd.read_csv('fake_skin.csv').dropna().astype({'skin': int})\n",
    "fake_imgs['INPUT:image'] = fake_imgs['INPUT:image'].apply(\n",
    "    lambda x: f\"https://raw.githubusercontent.com/BirkhoffG/crowd_project/main/img/{x}\")"
   ]
  },
  {
   "cell_type": "code",
   "execution_count": 4,
   "metadata": {},
   "outputs": [],
   "source": [
    "true_imgs_lighter = true_imgs[true_imgs['skin'] == 0]\n",
    "true_imgs_darker = true_imgs[true_imgs['skin'] == 1]"
   ]
  },
  {
   "cell_type": "code",
   "execution_count": 5,
   "metadata": {},
   "outputs": [],
   "source": [
    "fake_imgs_lighter = fake_imgs[fake_imgs['skin'] == 0]\n",
    "fake_imgs_darker = fake_imgs[fake_imgs['skin'] == 1]"
   ]
  },
  {
   "cell_type": "code",
   "execution_count": 26,
   "metadata": {},
   "outputs": [],
   "source": [
    "balanced_set_control = pd.concat((\n",
    "    true_imgs_lighter[:50], true_imgs_darker[:50],\n",
    "    fake_imgs_lighter[:50], fake_imgs_darker[:50],\n",
    "))\n",
    "\n",
    "balanced_set_general = pd.concat((\n",
    "    true_imgs_lighter[50:100], true_imgs_darker[50:100],\n",
    "    fake_imgs_lighter[50:100], fake_imgs_darker[50:100],\n",
    "))"
   ]
  },
  {
   "cell_type": "code",
   "execution_count": 6,
   "metadata": {},
   "outputs": [],
   "source": [
    "balanced_set = pd.concat((\n",
    "    true_imgs_lighter[:100], true_imgs_darker[:100],\n",
    "    fake_imgs_lighter[:100], fake_imgs_darker[:100],\n",
    "))"
   ]
  },
  {
   "cell_type": "code",
   "execution_count": 29,
   "metadata": {},
   "outputs": [],
   "source": [
    "control_task = pd.read_csv(\"tasks_for_pool_33923754__15-06-2022.tsv\", sep='\\t')[:0]"
   ]
  },
  {
   "cell_type": "code",
   "execution_count": 30,
   "metadata": {},
   "outputs": [],
   "source": [
    "control_task['INPUT:image'] = balanced_set['INPUT:image']\n",
    "control_task['GOLDEN:result'] = [0] * 200 + [1] * 200 "
   ]
  },
  {
   "cell_type": "code",
   "execution_count": 31,
   "metadata": {},
   "outputs": [],
   "source": [
    "control_task[['INPUT:image', 'GOLDEN:result']].to_csv('control_tasks.tsv', index=None, sep='\\t')"
   ]
  },
  {
   "cell_type": "markdown",
   "metadata": {},
   "source": [
    "### Analysis"
   ]
  },
  {
   "cell_type": "code",
   "execution_count": 70,
   "metadata": {},
   "outputs": [],
   "source": [
    "from scipy.stats import ttest_ind\n",
    "\n",
    "\n",
    "def get_real_fake_acc(result_path, balanced_set):\n",
    "    worker_acc = pd.read_csv(result_path, sep='\\t').dropna(axis=0, how='all')\n",
    "    worker_acc['n_tasks'] = np.ones(len(worker_acc))\n",
    "    worker_acc['INPUT:image'] = worker_acc['INPUT:image'].apply(lambda x: x.replace('\"', ''))\n",
    "    worker_acc['n_tasks'] = np.ones(len(worker_acc))\n",
    "    # worker's acc for each image\n",
    "    imgs_acc = worker_acc[['INPUT:image', 'OUTPUT:result', 'GOLDEN:result', 'n_tasks']].groupby('INPUT:image').sum().reset_index()\n",
    "    imgs_acc = imgs_acc.merge(balanced_set, on='INPUT:image')\n",
    "    imgs_acc_real = imgs_acc[imgs_acc['GOLDEN:result'] == 0.]\n",
    "    imgs_acc_fake = imgs_acc[imgs_acc['GOLDEN:result'] > 0.]\n",
    "\n",
    "    # real and fake accuracy\n",
    "    imgs_acc_fake['acc'] = imgs_acc_fake['OUTPUT:result'] / imgs_acc_fake['GOLDEN:result']\n",
    "    imgs_acc_real['acc'] = (imgs_acc_real['n_tasks'] - imgs_acc_real['OUTPUT:result']) / (imgs_acc_real['n_tasks'] - imgs_acc_real['GOLDEN:result'])\n",
    "\n",
    "    fig = freq_bar(\n",
    "        real_y=imgs_acc_real.groupby('skin').mean()['acc'],\n",
    "        fake_y=imgs_acc_fake.groupby('skin').mean()['acc'],\n",
    "        title=\"Workers' recognition accuracy in each racial group\"\n",
    "    )\n",
    "    return dict(\n",
    "        real_imgs_acc=imgs_acc_real, fake_imgs_acc = imgs_acc_fake, fig=fig,\n",
    "        ttest_skin_real=ttest_ind(imgs_acc_real[imgs_acc_real['skin']==0]['acc'], imgs_acc_real[imgs_acc_real['skin']==1]['acc']),\n",
    "        ttest_skin_fake=ttest_ind(imgs_acc_fake[imgs_acc_fake['skin']==0]['acc'], imgs_acc_fake[imgs_acc_fake['skin']==1]['acc'])\n",
    "    )"
   ]
  },
  {
   "cell_type": "code",
   "execution_count": 71,
   "metadata": {},
   "outputs": [],
   "source": [
    "pools = [\n",
    "    dict(\n",
    "        result_path='fairness/fake_real_worker_acc/assignments_from_pool_33923754__20-06-2022.tsv',\n",
    "        payment_amount=0.01, attention_q=\"gender\"\n",
    "    ),\n",
    "    dict(\n",
    "        result_path='fairness/fake_real_worker_acc/assignments_from_pool_33957988__20-06-2022.tsv',\n",
    "        payment_amount=0.03, attention_q=\"eye color\"\n",
    "    ),\n",
    "    dict(\n",
    "        result_path='fairness/fake_real_worker_acc/assignments_from_pool_33987192__20-06-2022.tsv',\n",
    "        payment_amount=0.03, attention_q=None\n",
    "    ),\n",
    "    dict(\n",
    "        result_path='fairness/fake_real_worker_acc/assignments_from_pool_34019892__22-06-2022.tsv',\n",
    "        payment_amount=0.03, attention_q=\"gender\"\n",
    "    ),\n",
    "    dict(\n",
    "        result_path='fairness/fake_real_worker_acc/assignments_from_pool_34051317__23-06-2022.tsv',\n",
    "        payment_amount=0.01, attention_q=None\n",
    "    )\n",
    "]"
   ]
  },
  {
   "cell_type": "code",
   "execution_count": 72,
   "metadata": {},
   "outputs": [
    {
     "name": "stderr",
     "output_type": "stream",
     "text": [
      "/home/birk/miniconda3/lib/python3.7/site-packages/ipykernel_launcher.py:16: SettingWithCopyWarning: \n",
      "A value is trying to be set on a copy of a slice from a DataFrame.\n",
      "Try using .loc[row_indexer,col_indexer] = value instead\n",
      "\n",
      "See the caveats in the documentation: https://pandas.pydata.org/pandas-docs/stable/user_guide/indexing.html#returning-a-view-versus-a-copy\n",
      "  app.launch_new_instance()\n",
      "/home/birk/miniconda3/lib/python3.7/site-packages/ipykernel_launcher.py:17: SettingWithCopyWarning: \n",
      "A value is trying to be set on a copy of a slice from a DataFrame.\n",
      "Try using .loc[row_indexer,col_indexer] = value instead\n",
      "\n",
      "See the caveats in the documentation: https://pandas.pydata.org/pandas-docs/stable/user_guide/indexing.html#returning-a-view-versus-a-copy\n"
     ]
    },
    {
     "data": {
      "image/png": "[encoded data removed]",
      "image/svg+xml": "<?xml version=\"1.0\" encoding=\"utf-8\" standalone=\"no\"?>\n<!DOCTYPE svg PUBLIC \"-//W3C//DTD SVG 1.1//EN\"\n  \"http://www.w3.org/Graphics/SVG/1.1/DTD/svg11.dtd\">\n<svg xmlns:xlink=\"http://www.w3.org/1999/xlink\" width=\"372.103125pt\" height=\"263.63625pt\" viewBox=\"0 0 372.103125 263.63625\" xmlns=\"http://www.w3.org/2000/svg\" version=\"1.1\">\n <metadata>\n  <rdf:RDF xmlns:dc=\"http://purl.org/dc/elements/1.1/\" xmlns:cc=\"http://creativecommons.org/ns#\" xmlns:rdf=\"http://www.w3.org/1999/02/22-rdf-syntax-ns#\">\n   <cc:Work>\n    <dc:type rdf:resource=\"http://purl.org/dc/dcmitype/StillImage\"/>\n    <dc:date>2022-06-22T22:30:17.975505</dc:date>\n    <dc:format>image/svg+xml</dc:format>\n    <dc:creator>\n     <cc:Agent>\n      <dc:title>Matplotlib v3.5.0, https://matplotlib.org/</dc:title>\n     </cc:Agent>\n    </dc:creator>\n   </cc:Work>\n  </rdf:RDF>\n </metadata>\n <defs>\n  <style type=\"text/css\">*{stroke-linejoin: round; stroke-linecap: butt}</style>\n </defs>\n <g id=\"figure_1\">\n  <g id=\"patch_1\">\n   <path d=\"M 0 263.63625 \nL 372.103125 263.63625 \nL 372.103125 0 \nL 0 0 \nL 0 263.63625 \nz\n\" style=\"fill: none\"/>\n  </g>\n  <g id=\"axes_1\">\n   <g id=\"patch_2\">\n    <path d=\"M 30.103125 239.758125 \nL 364.903125 239.758125 \nL 364.903125 22.318125 \nL 30.103125 22.318125 \nz\n\" style=\"fill: #ffffff\"/>\n   </g>\n   <g id=\"patch_3\">\n    <path d=\"M 45.321307 239.758125 \nL 107.984408 239.758125 \nL 107.984408 45.086268 \nL 45.321307 45.086268 \nz\n\" clip-path=\"url(#pb342ffc190)\" style=\"fill: #1f77b4\"/>\n   </g>\n   <g id=\"patch_4\">\n    <path d=\"M 224.35874 239.758125 \nL 287.021842 239.758125 \nL 287.021842 32.672411 \nL 224.35874 32.672411 \nz\n\" clip-path=\"url(#pb342ffc190)\" style=\"fill: #1f77b4\"/>\n   </g>\n   <g id=\"patch_5\">\n    <path d=\"M 107.984408 239.758125 \nL 170.64751 239.758125 \nL 170.64751 64.271321 \nL 107.984408 64.271321 \nz\n\" clip-path=\"url(#pb342ffc190)\" style=\"fill: #ff7f0e\"/>\n   </g>\n   <g id=\"patch_6\">\n    <path d=\"M 287.021842 239.758125 \nL 349.684943 239.758125 \nL 349.684943 51.857463 \nL 287.021842 51.857463 \nz\n\" clip-path=\"url(#pb342ffc190)\" style=\"fill: #ff7f0e\"/>\n   </g>\n   <g id=\"matplotlib.axis_1\">\n    <g id=\"xtick_1\">\n     <g id=\"line2d_1\">\n      <defs>\n       <path id=\"mf7b9fed05f\" d=\"M 0 0 \nL 0 3.5 \n\" style=\"stroke: #000000; stroke-width: 0.8\"/>\n      </defs>\n      <g>\n       <use xlink:href=\"#mf7b9fed05f\" x=\"107.984408\" y=\"239.758125\" style=\"stroke: #000000; stroke-width: 0.8\"/>\n      </g>\n     </g>\n     <g id=\"text_1\">\n      <!-- Lighter -->\n      <g transform=\"translate(90.374252 254.356563)scale(0.1 -0.1)\">\n       <defs>\n        <path id=\"DejaVuSans-4c\" d=\"M 628 4666 \nL 1259 4666 \nL 1259 531 \nL 3531 531 \nL 3531 0 \nL 628 0 \nL 628 4666 \nz\n\" transform=\"scale(0.015625)\"/>\n        <path id=\"DejaVuSans-69\" d=\"M 603 3500 \nL 1178 3500 \nL 1178 0 \nL 603 0 \nL 603 3500 \nz\nM 603 4863 \nL 1178 4863 \nL 1178 4134 \nL 603 4134 \nL 603 4863 \nz\n\" transform=\"scale(0.015625)\"/>\n        <path id=\"DejaVuSans-67\" d=\"M 2906 1791 \nQ 2906 2416 2648 2759 \nQ 2391 3103 1925 3103 \nQ 1463 3103 1205 2759 \nQ 947 2416 947 1791 \nQ 947 1169 1205 825 \nQ 1463 481 1925 481 \nQ 2391 481 2648 825 \nQ 2906 1169 2906 1791 \nz\nM 3481 434 \nQ 3481 -459 3084 -895 \nQ 2688 -1331 1869 -1331 \nQ 1566 -1331 1297 -1286 \nQ 1028 -1241 775 -1147 \nL 775 -588 \nQ 1028 -725 1275 -790 \nQ 1522 -856 1778 -856 \nQ 2344 -856 2625 -561 \nQ 2906 -266 2906 331 \nL 2906 616 \nQ 2728 306 2450 153 \nQ 2172 0 1784 0 \nQ 1141 0 747 490 \nQ 353 981 353 1791 \nQ 353 2603 747 3093 \nQ 1141 3584 1784 3584 \nQ 2172 3584 2450 3431 \nQ 2728 3278 2906 2969 \nL 2906 3500 \nL 3481 3500 \nL 3481 434 \nz\n\" transform=\"scale(0.015625)\"/>\n        <path id=\"DejaVuSans-68\" d=\"M 3513 2113 \nL 3513 0 \nL 2938 0 \nL 2938 2094 \nQ 2938 2591 2744 2837 \nQ 2550 3084 2163 3084 \nQ 1697 3084 1428 2787 \nQ 1159 2491 1159 1978 \nL 1159 0 \nL 581 0 \nL 581 4863 \nL 1159 4863 \nL 1159 2956 \nQ 1366 3272 1645 3428 \nQ 1925 3584 2291 3584 \nQ 2894 3584 3203 3211 \nQ 3513 2838 3513 2113 \nz\n\" transform=\"scale(0.015625)\"/>\n        <path id=\"DejaVuSans-74\" d=\"M 1172 4494 \nL 1172 3500 \nL 2356 3500 \nL 2356 3053 \nL 1172 3053 \nL 1172 1153 \nQ 1172 725 1289 603 \nQ 1406 481 1766 481 \nL 2356 481 \nL 2356 0 \nL 1766 0 \nQ 1100 0 847 248 \nQ 594 497 594 1153 \nL 594 3053 \nL 172 3053 \nL 172 3500 \nL 594 3500 \nL 594 4494 \nL 1172 4494 \nz\n\" transform=\"scale(0.015625)\"/>\n        <path id=\"DejaVuSans-65\" d=\"M 3597 1894 \nL 3597 1613 \nL 953 1613 \nQ 991 1019 1311 708 \nQ 1631 397 2203 397 \nQ 2534 397 2845 478 \nQ 3156 559 3463 722 \nL 3463 178 \nQ 3153 47 2828 -22 \nQ 2503 -91 2169 -91 \nQ 1331 -91 842 396 \nQ 353 884 353 1716 \nQ 353 2575 817 3079 \nQ 1281 3584 2069 3584 \nQ 2775 3584 3186 3129 \nQ 3597 2675 3597 1894 \nz\nM 3022 2063 \nQ 3016 2534 2758 2815 \nQ 2500 3097 2075 3097 \nQ 1594 3097 1305 2825 \nQ 1016 2553 972 2059 \nL 3022 2063 \nz\n\" transform=\"scale(0.015625)\"/>\n        <path id=\"DejaVuSans-72\" d=\"M 2631 2963 \nQ 2534 3019 2420 3045 \nQ 2306 3072 2169 3072 \nQ 1681 3072 1420 2755 \nQ 1159 2438 1159 1844 \nL 1159 0 \nL 581 0 \nL 581 3500 \nL 1159 3500 \nL 1159 2956 \nQ 1341 3275 1631 3429 \nQ 1922 3584 2338 3584 \nQ 2397 3584 2469 3576 \nQ 2541 3569 2628 3553 \nL 2631 2963 \nz\n\" transform=\"scale(0.015625)\"/>\n       </defs>\n       <use xlink:href=\"#DejaVuSans-4c\"/>\n       <use xlink:href=\"#DejaVuSans-69\" x=\"55.712891\"/>\n       <use xlink:href=\"#DejaVuSans-67\" x=\"83.496094\"/>\n       <use xlink:href=\"#DejaVuSans-68\" x=\"146.972656\"/>\n       <use xlink:href=\"#DejaVuSans-74\" x=\"210.351562\"/>\n       <use xlink:href=\"#DejaVuSans-65\" x=\"249.560547\"/>\n       <use xlink:href=\"#DejaVuSans-72\" x=\"311.083984\"/>\n      </g>\n     </g>\n    </g>\n    <g id=\"xtick_2\">\n     <g id=\"line2d_2\">\n      <g>\n       <use xlink:href=\"#mf7b9fed05f\" x=\"287.021842\" y=\"239.758125\" style=\"stroke: #000000; stroke-width: 0.8\"/>\n      </g>\n     </g>\n     <g id=\"text_2\">\n      <!-- Darker -->\n      <g transform=\"translate(270.206217 254.356563)scale(0.1 -0.1)\">\n       <defs>\n        <path id=\"DejaVuSans-44\" d=\"M 1259 4147 \nL 1259 519 \nL 2022 519 \nQ 2988 519 3436 956 \nQ 3884 1394 3884 2338 \nQ 3884 3275 3436 3711 \nQ 2988 4147 2022 4147 \nL 1259 4147 \nz\nM 628 4666 \nL 1925 4666 \nQ 3281 4666 3915 4102 \nQ 4550 3538 4550 2338 \nQ 4550 1131 3912 565 \nQ 3275 0 1925 0 \nL 628 0 \nL 628 4666 \nz\n\" transform=\"scale(0.015625)\"/>\n        <path id=\"DejaVuSans-61\" d=\"M 2194 1759 \nQ 1497 1759 1228 1600 \nQ 959 1441 959 1056 \nQ 959 750 1161 570 \nQ 1363 391 1709 391 \nQ 2188 391 2477 730 \nQ 2766 1069 2766 1631 \nL 2766 1759 \nL 2194 1759 \nz\nM 3341 1997 \nL 3341 0 \nL 2766 0 \nL 2766 531 \nQ 2569 213 2275 61 \nQ 1981 -91 1556 -91 \nQ 1019 -91 701 211 \nQ 384 513 384 1019 \nQ 384 1609 779 1909 \nQ 1175 2209 1959 2209 \nL 2766 2209 \nL 2766 2266 \nQ 2766 2663 2505 2880 \nQ 2244 3097 1772 3097 \nQ 1472 3097 1187 3025 \nQ 903 2953 641 2809 \nL 641 3341 \nQ 956 3463 1253 3523 \nQ 1550 3584 1831 3584 \nQ 2591 3584 2966 3190 \nQ 3341 2797 3341 1997 \nz\n\" transform=\"scale(0.015625)\"/>\n        <path id=\"DejaVuSans-6b\" d=\"M 581 4863 \nL 1159 4863 \nL 1159 1991 \nL 2875 3500 \nL 3609 3500 \nL 1753 1863 \nL 3688 0 \nL 2938 0 \nL 1159 1709 \nL 1159 0 \nL 581 0 \nL 581 4863 \nz\n\" transform=\"scale(0.015625)\"/>\n       </defs>\n       <use xlink:href=\"#DejaVuSans-44\"/>\n       <use xlink:href=\"#DejaVuSans-61\" x=\"77.001953\"/>\n       <use xlink:href=\"#DejaVuSans-72\" x=\"138.28125\"/>\n       <use xlink:href=\"#DejaVuSans-6b\" x=\"179.394531\"/>\n       <use xlink:href=\"#DejaVuSans-65\" x=\"233.679688\"/>\n       <use xlink:href=\"#DejaVuSans-72\" x=\"295.203125\"/>\n      </g>\n     </g>\n    </g>\n   </g>\n   <g id=\"matplotlib.axis_2\">\n    <g id=\"ytick_1\">\n     <g id=\"line2d_3\">\n      <defs>\n       <path id=\"m2467837d19\" d=\"M 0 0 \nL -3.5 0 \n\" style=\"stroke: #000000; stroke-width: 0.8\"/>\n      </defs>\n      <g>\n       <use xlink:href=\"#m2467837d19\" x=\"30.103125\" y=\"239.758125\" style=\"stroke: #000000; stroke-width: 0.8\"/>\n      </g>\n     </g>\n     <g id=\"text_3\">\n      <!-- 0.0 -->\n      <g transform=\"translate(7.2 243.557344)scale(0.1 -0.1)\">\n       <defs>\n        <path id=\"DejaVuSans-30\" d=\"M 2034 4250 \nQ 1547 4250 1301 3770 \nQ 1056 3291 1056 2328 \nQ 1056 1369 1301 889 \nQ 1547 409 2034 409 \nQ 2525 409 2770 889 \nQ 3016 1369 3016 2328 \nQ 3016 3291 2770 3770 \nQ 2525 4250 2034 4250 \nz\nM 2034 4750 \nQ 2819 4750 3233 4129 \nQ 3647 3509 3647 2328 \nQ 3647 1150 3233 529 \nQ 2819 -91 2034 -91 \nQ 1250 -91 836 529 \nQ 422 1150 422 2328 \nQ 422 3509 836 4129 \nQ 1250 4750 2034 4750 \nz\n\" transform=\"scale(0.015625)\"/>\n        <path id=\"DejaVuSans-2e\" d=\"M 684 794 \nL 1344 794 \nL 1344 0 \nL 684 0 \nL 684 794 \nz\n\" transform=\"scale(0.015625)\"/>\n       </defs>\n       <use xlink:href=\"#DejaVuSans-30\"/>\n       <use xlink:href=\"#DejaVuSans-2e\" x=\"63.623047\"/>\n       <use xlink:href=\"#DejaVuSans-30\" x=\"95.410156\"/>\n      </g>\n     </g>\n    </g>\n    <g id=\"ytick_2\">\n     <g id=\"line2d_4\">\n      <g>\n       <use xlink:href=\"#m2467837d19\" x=\"30.103125\" y=\"211.544812\" style=\"stroke: #000000; stroke-width: 0.8\"/>\n      </g>\n     </g>\n     <g id=\"text_4\">\n      <!-- 0.1 -->\n      <g transform=\"translate(7.2 215.344031)scale(0.1 -0.1)\">\n       <defs>\n        <path id=\"DejaVuSans-31\" d=\"M 794 531 \nL 1825 531 \nL 1825 4091 \nL 703 3866 \nL 703 4441 \nL 1819 4666 \nL 2450 4666 \nL 2450 531 \nL 3481 531 \nL 3481 0 \nL 794 0 \nL 794 531 \nz\n\" transform=\"scale(0.015625)\"/>\n       </defs>\n       <use xlink:href=\"#DejaVuSans-30\"/>\n       <use xlink:href=\"#DejaVuSans-2e\" x=\"63.623047\"/>\n       <use xlink:href=\"#DejaVuSans-31\" x=\"95.410156\"/>\n      </g>\n     </g>\n    </g>\n    <g id=\"ytick_3\">\n     <g id=\"line2d_5\">\n      <g>\n       <use xlink:href=\"#m2467837d19\" x=\"30.103125\" y=\"183.3315\" style=\"stroke: #000000; stroke-width: 0.8\"/>\n      </g>\n     </g>\n     <g id=\"text_5\">\n      <!-- 0.2 -->\n      <g transform=\"translate(7.2 187.130719)scale(0.1 -0.1)\">\n       <defs>\n        <path id=\"DejaVuSans-32\" d=\"M 1228 531 \nL 3431 531 \nL 3431 0 \nL 469 0 \nL 469 531 \nQ 828 903 1448 1529 \nQ 2069 2156 2228 2338 \nQ 2531 2678 2651 2914 \nQ 2772 3150 2772 3378 \nQ 2772 3750 2511 3984 \nQ 2250 4219 1831 4219 \nQ 1534 4219 1204 4116 \nQ 875 4013 500 3803 \nL 500 4441 \nQ 881 4594 1212 4672 \nQ 1544 4750 1819 4750 \nQ 2544 4750 2975 4387 \nQ 3406 4025 3406 3419 \nQ 3406 3131 3298 2873 \nQ 3191 2616 2906 2266 \nQ 2828 2175 2409 1742 \nQ 1991 1309 1228 531 \nz\n\" transform=\"scale(0.015625)\"/>\n       </defs>\n       <use xlink:href=\"#DejaVuSans-30\"/>\n       <use xlink:href=\"#DejaVuSans-2e\" x=\"63.623047\"/>\n       <use xlink:href=\"#DejaVuSans-32\" x=\"95.410156\"/>\n      </g>\n     </g>\n    </g>\n    <g id=\"ytick_4\">\n     <g id=\"line2d_6\">\n      <g>\n       <use xlink:href=\"#m2467837d19\" x=\"30.103125\" y=\"155.118187\" style=\"stroke: #000000; stroke-width: 0.8\"/>\n      </g>\n     </g>\n     <g id=\"text_6\">\n      <!-- 0.3 -->\n      <g transform=\"translate(7.2 158.917406)scale(0.1 -0.1)\">\n       <defs>\n        <path id=\"DejaVuSans-33\" d=\"M 2597 2516 \nQ 3050 2419 3304 2112 \nQ 3559 1806 3559 1356 \nQ 3559 666 3084 287 \nQ 2609 -91 1734 -91 \nQ 1441 -91 1130 -33 \nQ 819 25 488 141 \nL 488 750 \nQ 750 597 1062 519 \nQ 1375 441 1716 441 \nQ 2309 441 2620 675 \nQ 2931 909 2931 1356 \nQ 2931 1769 2642 2001 \nQ 2353 2234 1838 2234 \nL 1294 2234 \nL 1294 2753 \nL 1863 2753 \nQ 2328 2753 2575 2939 \nQ 2822 3125 2822 3475 \nQ 2822 3834 2567 4026 \nQ 2313 4219 1838 4219 \nQ 1578 4219 1281 4162 \nQ 984 4106 628 3988 \nL 628 4550 \nQ 988 4650 1302 4700 \nQ 1616 4750 1894 4750 \nQ 2613 4750 3031 4423 \nQ 3450 4097 3450 3541 \nQ 3450 3153 3228 2886 \nQ 3006 2619 2597 2516 \nz\n\" transform=\"scale(0.015625)\"/>\n       </defs>\n       <use xlink:href=\"#DejaVuSans-30\"/>\n       <use xlink:href=\"#DejaVuSans-2e\" x=\"63.623047\"/>\n       <use xlink:href=\"#DejaVuSans-33\" x=\"95.410156\"/>\n      </g>\n     </g>\n    </g>\n    <g id=\"ytick_5\">\n     <g id=\"line2d_7\">\n      <g>\n       <use xlink:href=\"#m2467837d19\" x=\"30.103125\" y=\"126.904875\" style=\"stroke: #000000; stroke-width: 0.8\"/>\n      </g>\n     </g>\n     <g id=\"text_7\">\n      <!-- 0.4 -->\n      <g transform=\"translate(7.2 130.704093)scale(0.1 -0.1)\">\n       <defs>\n        <path id=\"DejaVuSans-34\" d=\"M 2419 4116 \nL 825 1625 \nL 2419 1625 \nL 2419 4116 \nz\nM 2253 4666 \nL 3047 4666 \nL 3047 1625 \nL 3713 1625 \nL 3713 1100 \nL 3047 1100 \nL 3047 0 \nL 2419 0 \nL 2419 1100 \nL 313 1100 \nL 313 1709 \nL 2253 4666 \nz\n\" transform=\"scale(0.015625)\"/>\n       </defs>\n       <use xlink:href=\"#DejaVuSans-30\"/>\n       <use xlink:href=\"#DejaVuSans-2e\" x=\"63.623047\"/>\n       <use xlink:href=\"#DejaVuSans-34\" x=\"95.410156\"/>\n      </g>\n     </g>\n    </g>\n    <g id=\"ytick_6\">\n     <g id=\"line2d_8\">\n      <g>\n       <use xlink:href=\"#m2467837d19\" x=\"30.103125\" y=\"98.691562\" style=\"stroke: #000000; stroke-width: 0.8\"/>\n      </g>\n     </g>\n     <g id=\"text_8\">\n      <!-- 0.5 -->\n      <g transform=\"translate(7.2 102.490781)scale(0.1 -0.1)\">\n       <defs>\n        <path id=\"DejaVuSans-35\" d=\"M 691 4666 \nL 3169 4666 \nL 3169 4134 \nL 1269 4134 \nL 1269 2991 \nQ 1406 3038 1543 3061 \nQ 1681 3084 1819 3084 \nQ 2600 3084 3056 2656 \nQ 3513 2228 3513 1497 \nQ 3513 744 3044 326 \nQ 2575 -91 1722 -91 \nQ 1428 -91 1123 -41 \nQ 819 9 494 109 \nL 494 744 \nQ 775 591 1075 516 \nQ 1375 441 1709 441 \nQ 2250 441 2565 725 \nQ 2881 1009 2881 1497 \nQ 2881 1984 2565 2268 \nQ 2250 2553 1709 2553 \nQ 1456 2553 1204 2497 \nQ 953 2441 691 2322 \nL 691 4666 \nz\n\" transform=\"scale(0.015625)\"/>\n       </defs>\n       <use xlink:href=\"#DejaVuSans-30\"/>\n       <use xlink:href=\"#DejaVuSans-2e\" x=\"63.623047\"/>\n       <use xlink:href=\"#DejaVuSans-35\" x=\"95.410156\"/>\n      </g>\n     </g>\n    </g>\n    <g id=\"ytick_7\">\n     <g id=\"line2d_9\">\n      <g>\n       <use xlink:href=\"#m2467837d19\" x=\"30.103125\" y=\"70.47825\" style=\"stroke: #000000; stroke-width: 0.8\"/>\n      </g>\n     </g>\n     <g id=\"text_9\">\n      <!-- 0.6 -->\n      <g transform=\"translate(7.2 74.277468)scale(0.1 -0.1)\">\n       <defs>\n        <path id=\"DejaVuSans-36\" d=\"M 2113 2584 \nQ 1688 2584 1439 2293 \nQ 1191 2003 1191 1497 \nQ 1191 994 1439 701 \nQ 1688 409 2113 409 \nQ 2538 409 2786 701 \nQ 3034 994 3034 1497 \nQ 3034 2003 2786 2293 \nQ 2538 2584 2113 2584 \nz\nM 3366 4563 \nL 3366 3988 \nQ 3128 4100 2886 4159 \nQ 2644 4219 2406 4219 \nQ 1781 4219 1451 3797 \nQ 1122 3375 1075 2522 \nQ 1259 2794 1537 2939 \nQ 1816 3084 2150 3084 \nQ 2853 3084 3261 2657 \nQ 3669 2231 3669 1497 \nQ 3669 778 3244 343 \nQ 2819 -91 2113 -91 \nQ 1303 -91 875 529 \nQ 447 1150 447 2328 \nQ 447 3434 972 4092 \nQ 1497 4750 2381 4750 \nQ 2619 4750 2861 4703 \nQ 3103 4656 3366 4563 \nz\n\" transform=\"scale(0.015625)\"/>\n       </defs>\n       <use xlink:href=\"#DejaVuSans-30\"/>\n       <use xlink:href=\"#DejaVuSans-2e\" x=\"63.623047\"/>\n       <use xlink:href=\"#DejaVuSans-36\" x=\"95.410156\"/>\n      </g>\n     </g>\n    </g>\n    <g id=\"ytick_8\">\n     <g id=\"line2d_10\">\n      <g>\n       <use xlink:href=\"#m2467837d19\" x=\"30.103125\" y=\"42.264937\" style=\"stroke: #000000; stroke-width: 0.8\"/>\n      </g>\n     </g>\n     <g id=\"text_10\">\n      <!-- 0.7 -->\n      <g transform=\"translate(7.2 46.064156)scale(0.1 -0.1)\">\n       <defs>\n        <path id=\"DejaVuSans-37\" d=\"M 525 4666 \nL 3525 4666 \nL 3525 4397 \nL 1831 0 \nL 1172 0 \nL 2766 4134 \nL 525 4134 \nL 525 4666 \nz\n\" transform=\"scale(0.015625)\"/>\n       </defs>\n       <use xlink:href=\"#DejaVuSans-30\"/>\n       <use xlink:href=\"#DejaVuSans-2e\" x=\"63.623047\"/>\n       <use xlink:href=\"#DejaVuSans-37\" x=\"95.410156\"/>\n      </g>\n     </g>\n    </g>\n   </g>\n   <g id=\"patch_7\">\n    <path d=\"M 30.103125 239.758125 \nL 30.103125 22.318125 \n\" style=\"fill: none; stroke: #000000; stroke-width: 0.8; stroke-linejoin: miter; stroke-linecap: square\"/>\n   </g>\n   <g id=\"patch_8\">\n    <path d=\"M 364.903125 239.758125 \nL 364.903125 22.318125 \n\" style=\"fill: none; stroke: #000000; stroke-width: 0.8; stroke-linejoin: miter; stroke-linecap: square\"/>\n   </g>\n   <g id=\"patch_9\">\n    <path d=\"M 30.103125 239.758125 \nL 364.903125 239.758125 \n\" style=\"fill: none; stroke: #000000; stroke-width: 0.8; stroke-linejoin: miter; stroke-linecap: square\"/>\n   </g>\n   <g id=\"patch_10\">\n    <path d=\"M 30.103125 22.318125 \nL 364.903125 22.318125 \n\" style=\"fill: none; stroke: #000000; stroke-width: 0.8; stroke-linejoin: miter; stroke-linecap: square\"/>\n   </g>\n   <g id=\"text_11\">\n    <!-- 0.69 -->\n    <g transform=\"translate(65.520045 43.006581)scale(0.1 -0.1)\">\n     <defs>\n      <path id=\"DejaVuSans-39\" d=\"M 703 97 \nL 703 672 \nQ 941 559 1184 500 \nQ 1428 441 1663 441 \nQ 2288 441 2617 861 \nQ 2947 1281 2994 2138 \nQ 2813 1869 2534 1725 \nQ 2256 1581 1919 1581 \nQ 1219 1581 811 2004 \nQ 403 2428 403 3163 \nQ 403 3881 828 4315 \nQ 1253 4750 1959 4750 \nQ 2769 4750 3195 4129 \nQ 3622 3509 3622 2328 \nQ 3622 1225 3098 567 \nQ 2575 -91 1691 -91 \nQ 1453 -91 1209 -44 \nQ 966 3 703 97 \nz\nM 1959 2075 \nQ 2384 2075 2632 2365 \nQ 2881 2656 2881 3163 \nQ 2881 3666 2632 3958 \nQ 2384 4250 1959 4250 \nQ 1534 4250 1286 3958 \nQ 1038 3666 1038 3163 \nQ 1038 2656 1286 2365 \nQ 1534 2075 1959 2075 \nz\n\" transform=\"scale(0.015625)\"/>\n     </defs>\n     <use xlink:href=\"#DejaVuSans-30\"/>\n     <use xlink:href=\"#DejaVuSans-2e\" x=\"63.623047\"/>\n     <use xlink:href=\"#DejaVuSans-36\" x=\"95.410156\"/>\n     <use xlink:href=\"#DejaVuSans-39\" x=\"159.033203\"/>\n    </g>\n   </g>\n   <g id=\"text_12\">\n    <!-- 0.734 -->\n    <g transform=\"translate(241.376228 30.592723)scale(0.1 -0.1)\">\n     <use xlink:href=\"#DejaVuSans-30\"/>\n     <use xlink:href=\"#DejaVuSans-2e\" x=\"63.623047\"/>\n     <use xlink:href=\"#DejaVuSans-37\" x=\"95.410156\"/>\n     <use xlink:href=\"#DejaVuSans-33\" x=\"159.033203\"/>\n     <use xlink:href=\"#DejaVuSans-34\" x=\"222.65625\"/>\n    </g>\n   </g>\n   <g id=\"text_13\">\n    <!-- 0.622 -->\n    <g transform=\"translate(125.001897 62.191633)scale(0.1 -0.1)\">\n     <use xlink:href=\"#DejaVuSans-30\"/>\n     <use xlink:href=\"#DejaVuSans-2e\" x=\"63.623047\"/>\n     <use xlink:href=\"#DejaVuSans-36\" x=\"95.410156\"/>\n     <use xlink:href=\"#DejaVuSans-32\" x=\"159.033203\"/>\n     <use xlink:href=\"#DejaVuSans-32\" x=\"222.65625\"/>\n    </g>\n   </g>\n   <g id=\"text_14\">\n    <!-- 0.666 -->\n    <g transform=\"translate(304.03933 49.777776)scale(0.1 -0.1)\">\n     <use xlink:href=\"#DejaVuSans-30\"/>\n     <use xlink:href=\"#DejaVuSans-2e\" x=\"63.623047\"/>\n     <use xlink:href=\"#DejaVuSans-36\" x=\"95.410156\"/>\n     <use xlink:href=\"#DejaVuSans-36\" x=\"159.033203\"/>\n     <use xlink:href=\"#DejaVuSans-36\" x=\"222.65625\"/>\n    </g>\n   </g>\n   <g id=\"text_15\">\n    <!-- Workers' recognition accuracy in each racial group -->\n    <g transform=\"translate(45.501563 16.318125)scale(0.12 -0.12)\">\n     <defs>\n      <path id=\"DejaVuSans-57\" d=\"M 213 4666 \nL 850 4666 \nL 1831 722 \nL 2809 4666 \nL 3519 4666 \nL 4500 722 \nL 5478 4666 \nL 6119 4666 \nL 4947 0 \nL 4153 0 \nL 3169 4050 \nL 2175 0 \nL 1381 0 \nL 213 4666 \nz\n\" transform=\"scale(0.015625)\"/>\n      <path id=\"DejaVuSans-6f\" d=\"M 1959 3097 \nQ 1497 3097 1228 2736 \nQ 959 2375 959 1747 \nQ 959 1119 1226 758 \nQ 1494 397 1959 397 \nQ 2419 397 2687 759 \nQ 2956 1122 2956 1747 \nQ 2956 2369 2687 2733 \nQ 2419 3097 1959 3097 \nz\nM 1959 3584 \nQ 2709 3584 3137 3096 \nQ 3566 2609 3566 1747 \nQ 3566 888 3137 398 \nQ 2709 -91 1959 -91 \nQ 1206 -91 779 398 \nQ 353 888 353 1747 \nQ 353 2609 779 3096 \nQ 1206 3584 1959 3584 \nz\n\" transform=\"scale(0.015625)\"/>\n      <path id=\"DejaVuSans-73\" d=\"M 2834 3397 \nL 2834 2853 \nQ 2591 2978 2328 3040 \nQ 2066 3103 1784 3103 \nQ 1356 3103 1142 2972 \nQ 928 2841 928 2578 \nQ 928 2378 1081 2264 \nQ 1234 2150 1697 2047 \nL 1894 2003 \nQ 2506 1872 2764 1633 \nQ 3022 1394 3022 966 \nQ 3022 478 2636 193 \nQ 2250 -91 1575 -91 \nQ 1294 -91 989 -36 \nQ 684 19 347 128 \nL 347 722 \nQ 666 556 975 473 \nQ 1284 391 1588 391 \nQ 1994 391 2212 530 \nQ 2431 669 2431 922 \nQ 2431 1156 2273 1281 \nQ 2116 1406 1581 1522 \nL 1381 1569 \nQ 847 1681 609 1914 \nQ 372 2147 372 2553 \nQ 372 3047 722 3315 \nQ 1072 3584 1716 3584 \nQ 2034 3584 2315 3537 \nQ 2597 3491 2834 3397 \nz\n\" transform=\"scale(0.015625)\"/>\n      <path id=\"DejaVuSans-27\" d=\"M 1147 4666 \nL 1147 2931 \nL 616 2931 \nL 616 4666 \nL 1147 4666 \nz\n\" transform=\"scale(0.015625)\"/>\n      <path id=\"DejaVuSans-20\" transform=\"scale(0.015625)\"/>\n      <path id=\"DejaVuSans-63\" d=\"M 3122 3366 \nL 3122 2828 \nQ 2878 2963 2633 3030 \nQ 2388 3097 2138 3097 \nQ 1578 3097 1268 2742 \nQ 959 2388 959 1747 \nQ 959 1106 1268 751 \nQ 1578 397 2138 397 \nQ 2388 397 2633 464 \nQ 2878 531 3122 666 \nL 3122 134 \nQ 2881 22 2623 -34 \nQ 2366 -91 2075 -91 \nQ 1284 -91 818 406 \nQ 353 903 353 1747 \nQ 353 2603 823 3093 \nQ 1294 3584 2113 3584 \nQ 2378 3584 2631 3529 \nQ 2884 3475 3122 3366 \nz\n\" transform=\"scale(0.015625)\"/>\n      <path id=\"DejaVuSans-6e\" d=\"M 3513 2113 \nL 3513 0 \nL 2938 0 \nL 2938 2094 \nQ 2938 2591 2744 2837 \nQ 2550 3084 2163 3084 \nQ 1697 3084 1428 2787 \nQ 1159 2491 1159 1978 \nL 1159 0 \nL 581 0 \nL 581 3500 \nL 1159 3500 \nL 1159 2956 \nQ 1366 3272 1645 3428 \nQ 1925 3584 2291 3584 \nQ 2894 3584 3203 3211 \nQ 3513 2838 3513 2113 \nz\n\" transform=\"scale(0.015625)\"/>\n      <path id=\"DejaVuSans-75\" d=\"M 544 1381 \nL 544 3500 \nL 1119 3500 \nL 1119 1403 \nQ 1119 906 1312 657 \nQ 1506 409 1894 409 \nQ 2359 409 2629 706 \nQ 2900 1003 2900 1516 \nL 2900 3500 \nL 3475 3500 \nL 3475 0 \nL 2900 0 \nL 2900 538 \nQ 2691 219 2414 64 \nQ 2138 -91 1772 -91 \nQ 1169 -91 856 284 \nQ 544 659 544 1381 \nz\nM 1991 3584 \nL 1991 3584 \nz\n\" transform=\"scale(0.015625)\"/>\n      <path id=\"DejaVuSans-79\" d=\"M 2059 -325 \nQ 1816 -950 1584 -1140 \nQ 1353 -1331 966 -1331 \nL 506 -1331 \nL 506 -850 \nL 844 -850 \nQ 1081 -850 1212 -737 \nQ 1344 -625 1503 -206 \nL 1606 56 \nL 191 3500 \nL 800 3500 \nL 1894 763 \nL 2988 3500 \nL 3597 3500 \nL 2059 -325 \nz\n\" transform=\"scale(0.015625)\"/>\n      <path id=\"DejaVuSans-6c\" d=\"M 603 4863 \nL 1178 4863 \nL 1178 0 \nL 603 0 \nL 603 4863 \nz\n\" transform=\"scale(0.015625)\"/>\n      <path id=\"DejaVuSans-70\" d=\"M 1159 525 \nL 1159 -1331 \nL 581 -1331 \nL 581 3500 \nL 1159 3500 \nL 1159 2969 \nQ 1341 3281 1617 3432 \nQ 1894 3584 2278 3584 \nQ 2916 3584 3314 3078 \nQ 3713 2572 3713 1747 \nQ 3713 922 3314 415 \nQ 2916 -91 2278 -91 \nQ 1894 -91 1617 61 \nQ 1341 213 1159 525 \nz\nM 3116 1747 \nQ 3116 2381 2855 2742 \nQ 2594 3103 2138 3103 \nQ 1681 3103 1420 2742 \nQ 1159 2381 1159 1747 \nQ 1159 1113 1420 752 \nQ 1681 391 2138 391 \nQ 2594 391 2855 752 \nQ 3116 1113 3116 1747 \nz\n\" transform=\"scale(0.015625)\"/>\n     </defs>\n     <use xlink:href=\"#DejaVuSans-57\"/>\n     <use xlink:href=\"#DejaVuSans-6f\" x=\"93.001953\"/>\n     <use xlink:href=\"#DejaVuSans-72\" x=\"154.183594\"/>\n     <use xlink:href=\"#DejaVuSans-6b\" x=\"195.296875\"/>\n     <use xlink:href=\"#DejaVuSans-65\" x=\"249.582031\"/>\n     <use xlink:href=\"#DejaVuSans-72\" x=\"311.105469\"/>\n     <use xlink:href=\"#DejaVuSans-73\" x=\"352.21875\"/>\n     <use xlink:href=\"#DejaVuSans-27\" x=\"404.318359\"/>\n     <use xlink:href=\"#DejaVuSans-20\" x=\"431.808594\"/>\n     <use xlink:href=\"#DejaVuSans-72\" x=\"463.595703\"/>\n     <use xlink:href=\"#DejaVuSans-65\" x=\"502.458984\"/>\n     <use xlink:href=\"#DejaVuSans-63\" x=\"563.982422\"/>\n     <use xlink:href=\"#DejaVuSans-6f\" x=\"618.962891\"/>\n     <use xlink:href=\"#DejaVuSans-67\" x=\"680.144531\"/>\n     <use xlink:href=\"#DejaVuSans-6e\" x=\"743.621094\"/>\n     <use xlink:href=\"#DejaVuSans-69\" x=\"807\"/>\n     <use xlink:href=\"#DejaVuSans-74\" x=\"834.783203\"/>\n     <use xlink:href=\"#DejaVuSans-69\" x=\"873.992188\"/>\n     <use xlink:href=\"#DejaVuSans-6f\" x=\"901.775391\"/>\n     <use xlink:href=\"#DejaVuSans-6e\" x=\"962.957031\"/>\n     <use xlink:href=\"#DejaVuSans-20\" x=\"1026.335938\"/>\n     <use xlink:href=\"#DejaVuSans-61\" x=\"1058.123047\"/>\n     <use xlink:href=\"#DejaVuSans-63\" x=\"1119.402344\"/>\n     <use xlink:href=\"#DejaVuSans-63\" x=\"1174.382812\"/>\n     <use xlink:href=\"#DejaVuSans-75\" x=\"1229.363281\"/>\n     <use xlink:href=\"#DejaVuSans-72\" x=\"1292.742188\"/>\n     <use xlink:href=\"#DejaVuSans-61\" x=\"1333.855469\"/>\n     <use xlink:href=\"#DejaVuSans-63\" x=\"1395.134766\"/>\n     <use xlink:href=\"#DejaVuSans-79\" x=\"1450.115234\"/>\n     <use xlink:href=\"#DejaVuSans-20\" x=\"1509.294922\"/>\n     <use xlink:href=\"#DejaVuSans-69\" x=\"1541.082031\"/>\n     <use xlink:href=\"#DejaVuSans-6e\" x=\"1568.865234\"/>\n     <use xlink:href=\"#DejaVuSans-20\" x=\"1632.244141\"/>\n     <use xlink:href=\"#DejaVuSans-65\" x=\"1664.03125\"/>\n     <use xlink:href=\"#DejaVuSans-61\" x=\"1725.554688\"/>\n     <use xlink:href=\"#DejaVuSans-63\" x=\"1786.833984\"/>\n     <use xlink:href=\"#DejaVuSans-68\" x=\"1841.814453\"/>\n     <use xlink:href=\"#DejaVuSans-20\" x=\"1905.193359\"/>\n     <use xlink:href=\"#DejaVuSans-72\" x=\"1936.980469\"/>\n     <use xlink:href=\"#DejaVuSans-61\" x=\"1978.09375\"/>\n     <use xlink:href=\"#DejaVuSans-63\" x=\"2039.373047\"/>\n     <use xlink:href=\"#DejaVuSans-69\" x=\"2094.353516\"/>\n     <use xlink:href=\"#DejaVuSans-61\" x=\"2122.136719\"/>\n     <use xlink:href=\"#DejaVuSans-6c\" x=\"2183.416016\"/>\n     <use xlink:href=\"#DejaVuSans-20\" x=\"2211.199219\"/>\n     <use xlink:href=\"#DejaVuSans-67\" x=\"2242.986328\"/>\n     <use xlink:href=\"#DejaVuSans-72\" x=\"2306.462891\"/>\n     <use xlink:href=\"#DejaVuSans-6f\" x=\"2345.326172\"/>\n     <use xlink:href=\"#DejaVuSans-75\" x=\"2406.507812\"/>\n     <use xlink:href=\"#DejaVuSans-70\" x=\"2469.886719\"/>\n    </g>\n   </g>\n   <g id=\"legend_1\">\n    <g id=\"patch_11\">\n     <path d=\"M 37.103125 234.758125 \nL 91.651563 234.758125 \nQ 93.651563 234.758125 93.651563 232.758125 \nL 93.651563 204.401875 \nQ 93.651563 202.401875 91.651563 202.401875 \nL 37.103125 202.401875 \nQ 35.103125 202.401875 35.103125 204.401875 \nL 35.103125 232.758125 \nQ 35.103125 234.758125 37.103125 234.758125 \nz\n\" style=\"fill: #ffffff; opacity: 0.8; stroke: #cccccc; stroke-linejoin: miter\"/>\n    </g>\n    <g id=\"patch_12\">\n     <path d=\"M 39.103125 214.000313 \nL 59.103125 214.000313 \nL 59.103125 207.000313 \nL 39.103125 207.000313 \nz\n\" style=\"fill: #1f77b4\"/>\n    </g>\n    <g id=\"text_16\">\n     <!-- Real -->\n     <g transform=\"translate(67.103125 214.000313)scale(0.1 -0.1)\">\n      <defs>\n       <path id=\"DejaVuSans-52\" d=\"M 2841 2188 \nQ 3044 2119 3236 1894 \nQ 3428 1669 3622 1275 \nL 4263 0 \nL 3584 0 \nL 2988 1197 \nQ 2756 1666 2539 1819 \nQ 2322 1972 1947 1972 \nL 1259 1972 \nL 1259 0 \nL 628 0 \nL 628 4666 \nL 2053 4666 \nQ 2853 4666 3247 4331 \nQ 3641 3997 3641 3322 \nQ 3641 2881 3436 2590 \nQ 3231 2300 2841 2188 \nz\nM 1259 4147 \nL 1259 2491 \nL 2053 2491 \nQ 2509 2491 2742 2702 \nQ 2975 2913 2975 3322 \nQ 2975 3731 2742 3939 \nQ 2509 4147 2053 4147 \nL 1259 4147 \nz\n\" transform=\"scale(0.015625)\"/>\n      </defs>\n      <use xlink:href=\"#DejaVuSans-52\"/>\n      <use xlink:href=\"#DejaVuSans-65\" x=\"64.982422\"/>\n      <use xlink:href=\"#DejaVuSans-61\" x=\"126.505859\"/>\n      <use xlink:href=\"#DejaVuSans-6c\" x=\"187.785156\"/>\n     </g>\n    </g>\n    <g id=\"patch_13\">\n     <path d=\"M 39.103125 228.678438 \nL 59.103125 228.678438 \nL 59.103125 221.678438 \nL 39.103125 221.678438 \nz\n\" style=\"fill: #ff7f0e\"/>\n    </g>\n    <g id=\"text_17\">\n     <!-- Fake -->\n     <g transform=\"translate(67.103125 228.678438)scale(0.1 -0.1)\">\n      <defs>\n       <path id=\"DejaVuSans-46\" d=\"M 628 4666 \nL 3309 4666 \nL 3309 4134 \nL 1259 4134 \nL 1259 2759 \nL 3109 2759 \nL 3109 2228 \nL 1259 2228 \nL 1259 0 \nL 628 0 \nL 628 4666 \nz\n\" transform=\"scale(0.015625)\"/>\n      </defs>\n      <use xlink:href=\"#DejaVuSans-46\"/>\n      <use xlink:href=\"#DejaVuSans-61\" x=\"48.394531\"/>\n      <use xlink:href=\"#DejaVuSans-6b\" x=\"109.673828\"/>\n      <use xlink:href=\"#DejaVuSans-65\" x=\"163.958984\"/>\n     </g>\n    </g>\n   </g>\n  </g>\n </g>\n <defs>\n  <clipPath id=\"pb342ffc190\">\n   <rect x=\"30.103125\" y=\"22.318125\" width=\"334.8\" height=\"217.44\"/>\n  </clipPath>\n </defs>\n</svg>\n",
      "text/plain": [
       "<Figure size 432x288 with 1 Axes>"
      ]
     },
     "metadata": {
      "needs_background": "light"
     },
     "output_type": "display_data"
    }
   ],
   "source": [
    "real_fake_res = get_real_fake_acc(pools[-1]['result_path'], balanced_set)"
   ]
  },
  {
   "cell_type": "code",
   "execution_count": 61,
   "metadata": {},
   "outputs": [],
   "source": [
    "worker_acc_1 = pd.read_csv('fairness/fake_real_worker_acc/assignments_from_pool_33923754__20-06-2022.tsv',\n",
    "    sep='\\t').dropna(axis=0, how='all')\n",
    "worker_acc_1['n_tasks'] = np.ones(len(worker_acc_1))\n",
    "worker_acc_2 = pd.read_csv('fairness/fake_real_worker_acc/assignments_from_pool_33957988__20-06-2022.tsv',\n",
    "    sep='\\t').dropna(axis=0, how='all')\n",
    "worker_acc_2['n_tasks'] = np.ones(len(worker_acc_2))\n",
    "worker_acc_3 = pd.read_csv('fairness/fake_real_worker_acc/assignments_from_pool_33987192__20-06-2022.tsv',\n",
    "    sep='\\t').dropna(axis=0, how='all')\n",
    "worker_acc_3['n_tasks'] = np.ones(len(worker_acc_3))\n",
    "worker_acc_4 = pd.read_csv('fairness/fake_real_worker_acc/assignments_from_pool_34019892__22-06-2022.tsv',\n",
    "    sep='\\t').dropna(axis=0, how='all')\n",
    "worker_acc_4['n_tasks'] = np.ones(len(worker_acc_4))\n",
    "\n",
    "worker_acc = worker_acc_4\n",
    "worker_acc['INPUT:image'] = worker_acc['INPUT:image'].apply(lambda x: x.replace('\"', ''))\n",
    "worker_acc['n_tasks'] = np.ones(len(worker_acc))"
   ]
  },
  {
   "cell_type": "code",
   "execution_count": 62,
   "metadata": {},
   "outputs": [],
   "source": [
    "worker_final_acc = worker_acc[['INPUT:image', 'OUTPUT:result', 'GOLDEN:result', 'n_tasks']].groupby('INPUT:image').sum().reset_index()"
   ]
  },
  {
   "cell_type": "code",
   "execution_count": 63,
   "metadata": {},
   "outputs": [],
   "source": [
    "worker_final_acc = worker_final_acc.merge(balanced_set, on='INPUT:image')"
   ]
  },
  {
   "cell_type": "code",
   "execution_count": 64,
   "metadata": {},
   "outputs": [],
   "source": [
    "worker_final_acc_real = worker_final_acc[worker_final_acc['GOLDEN:result'] == 0.]\n",
    "worker_final_acc_fake = worker_final_acc[worker_final_acc['GOLDEN:result'] > 0]"
   ]
  },
  {
   "cell_type": "code",
   "execution_count": 65,
   "metadata": {},
   "outputs": [
    {
     "name": "stderr",
     "output_type": "stream",
     "text": [
      "/home/birk/miniconda3/lib/python3.7/site-packages/ipykernel_launcher.py:1: SettingWithCopyWarning: \n",
      "A value is trying to be set on a copy of a slice from a DataFrame.\n",
      "Try using .loc[row_indexer,col_indexer] = value instead\n",
      "\n",
      "See the caveats in the documentation: https://pandas.pydata.org/pandas-docs/stable/user_guide/indexing.html#returning-a-view-versus-a-copy\n",
      "  \"\"\"Entry point for launching an IPython kernel.\n",
      "/home/birk/miniconda3/lib/python3.7/site-packages/ipykernel_launcher.py:2: SettingWithCopyWarning: \n",
      "A value is trying to be set on a copy of a slice from a DataFrame.\n",
      "Try using .loc[row_indexer,col_indexer] = value instead\n",
      "\n",
      "See the caveats in the documentation: https://pandas.pydata.org/pandas-docs/stable/user_guide/indexing.html#returning-a-view-versus-a-copy\n",
      "  \n"
     ]
    }
   ],
   "source": [
    "worker_final_acc_fake['acc'] = worker_final_acc_fake['OUTPUT:result'] / worker_final_acc_fake['GOLDEN:result']\n",
    "worker_final_acc_real['acc'] = (worker_final_acc_real['n_tasks'] - worker_final_acc_real['OUTPUT:result']) / (worker_final_acc_real['n_tasks'] - worker_final_acc_real['GOLDEN:result'])"
   ]
  },
  {
   "cell_type": "code",
   "execution_count": 66,
   "metadata": {},
   "outputs": [
    {
     "data": {
      "text/plain": [
       "0.6779999999999999"
      ]
     },
     "execution_count": 66,
     "metadata": {},
     "output_type": "execute_result"
    }
   ],
   "source": [
    "worker_final_acc_fake['acc'].mean()"
   ]
  },
  {
   "cell_type": "code",
   "execution_count": 67,
   "metadata": {},
   "outputs": [
    {
     "data": {
      "text/plain": [
       "0.7219999999999999"
      ]
     },
     "execution_count": 67,
     "metadata": {},
     "output_type": "execute_result"
    }
   ],
   "source": [
    "worker_final_acc_real['acc'].mean()"
   ]
  },
  {
   "cell_type": "code",
   "execution_count": 69,
   "metadata": {},
   "outputs": [
    {
     "data": {
      "text/plain": [
       "Ttest_indResult(statistic=0.31403262795805975, pvalue=0.7538268737395128)"
      ]
     },
     "execution_count": 69,
     "metadata": {},
     "output_type": "execute_result"
    }
   ],
   "source": [
    "from scipy.stats import ttest_ind\n",
    "\n",
    "ttest_ind(worker_final_acc_fake[worker_final_acc_fake['skin']==0]['acc'], worker_final_acc_fake[worker_final_acc_fake['skin']==1]['acc'])\n",
    "# worker_final_acc_fake['acc']"
   ]
  },
  {
   "cell_type": "code",
   "execution_count": 28,
   "metadata": {},
   "outputs": [
    {
     "data": {
      "image/png": "[encoded data removed]",
      "image/svg+xml": "<?xml version=\"1.0\" encoding=\"utf-8\" standalone=\"no\"?>\n<!DOCTYPE svg PUBLIC \"-//W3C//DTD SVG 1.1//EN\"\n  \"http://www.w3.org/Graphics/SVG/1.1/DTD/svg11.dtd\">\n<svg xmlns:xlink=\"http://www.w3.org/1999/xlink\" width=\"372.103125pt\" height=\"263.63625pt\" viewBox=\"0 0 372.103125 263.63625\" xmlns=\"http://www.w3.org/2000/svg\" version=\"1.1\">\n <metadata>\n  <rdf:RDF xmlns:dc=\"http://purl.org/dc/elements/1.1/\" xmlns:cc=\"http://creativecommons.org/ns#\" xmlns:rdf=\"http://www.w3.org/1999/02/22-rdf-syntax-ns#\">\n   <cc:Work>\n    <dc:type rdf:resource=\"http://purl.org/dc/dcmitype/StillImage\"/>\n    <dc:date>2022-06-22T11:24:57.614869</dc:date>\n    <dc:format>image/svg+xml</dc:format>\n    <dc:creator>\n     <cc:Agent>\n      <dc:title>Matplotlib v3.5.0, https://matplotlib.org/</dc:title>\n     </cc:Agent>\n    </dc:creator>\n   </cc:Work>\n  </rdf:RDF>\n </metadata>\n <defs>\n  <style type=\"text/css\">*{stroke-linejoin: round; stroke-linecap: butt}</style>\n </defs>\n <g id=\"figure_1\">\n  <g id=\"patch_1\">\n   <path d=\"M 0 263.63625 \nL 372.103125 263.63625 \nL 372.103125 0 \nL 0 0 \nL 0 263.63625 \nz\n\" style=\"fill: none\"/>\n  </g>\n  <g id=\"axes_1\">\n   <g id=\"patch_2\">\n    <path d=\"M 30.103125 239.758125 \nL 364.903125 239.758125 \nL 364.903125 22.318125 \nL 30.103125 22.318125 \nz\n\" style=\"fill: #ffffff\"/>\n   </g>\n   <g id=\"patch_3\">\n    <path d=\"M 45.321307 239.758125 \nL 107.984408 239.758125 \nL 107.984408 34.954347 \nL 45.321307 34.954347 \nz\n\" clip-path=\"url(#p68dc724494)\" style=\"fill: #1f77b4\"/>\n   </g>\n   <g id=\"patch_4\">\n    <path d=\"M 224.35874 239.758125 \nL 287.021842 239.758125 \nL 287.021842 32.672411 \nL 224.35874 32.672411 \nz\n\" clip-path=\"url(#p68dc724494)\" style=\"fill: #1f77b4\"/>\n   </g>\n   <g id=\"patch_5\">\n    <path d=\"M 107.984408 239.758125 \nL 170.64751 239.758125 \nL 170.64751 44.652576 \nL 107.984408 44.652576 \nz\n\" clip-path=\"url(#p68dc724494)\" style=\"fill: #ff7f0e\"/>\n   </g>\n   <g id=\"patch_6\">\n    <path d=\"M 287.021842 239.758125 \nL 349.684943 239.758125 \nL 349.684943 48.07548 \nL 287.021842 48.07548 \nz\n\" clip-path=\"url(#p68dc724494)\" style=\"fill: #ff7f0e\"/>\n   </g>\n   <g id=\"matplotlib.axis_1\">\n    <g id=\"xtick_1\">\n     <g id=\"line2d_1\">\n      <defs>\n       <path id=\"m0180093692\" d=\"M 0 0 \nL 0 3.5 \n\" style=\"stroke: #000000; stroke-width: 0.8\"/>\n      </defs>\n      <g>\n       <use xlink:href=\"#m0180093692\" x=\"107.984408\" y=\"239.758125\" style=\"stroke: #000000; stroke-width: 0.8\"/>\n      </g>\n     </g>\n     <g id=\"text_1\">\n      <!-- Lighter -->\n      <g transform=\"translate(90.374252 254.356563)scale(0.1 -0.1)\">\n       <defs>\n        <path id=\"DejaVuSans-4c\" d=\"M 628 4666 \nL 1259 4666 \nL 1259 531 \nL 3531 531 \nL 3531 0 \nL 628 0 \nL 628 4666 \nz\n\" transform=\"scale(0.015625)\"/>\n        <path id=\"DejaVuSans-69\" d=\"M 603 3500 \nL 1178 3500 \nL 1178 0 \nL 603 0 \nL 603 3500 \nz\nM 603 4863 \nL 1178 4863 \nL 1178 4134 \nL 603 4134 \nL 603 4863 \nz\n\" transform=\"scale(0.015625)\"/>\n        <path id=\"DejaVuSans-67\" d=\"M 2906 1791 \nQ 2906 2416 2648 2759 \nQ 2391 3103 1925 3103 \nQ 1463 3103 1205 2759 \nQ 947 2416 947 1791 \nQ 947 1169 1205 825 \nQ 1463 481 1925 481 \nQ 2391 481 2648 825 \nQ 2906 1169 2906 1791 \nz\nM 3481 434 \nQ 3481 -459 3084 -895 \nQ 2688 -1331 1869 -1331 \nQ 1566 -1331 1297 -1286 \nQ 1028 -1241 775 -1147 \nL 775 -588 \nQ 1028 -725 1275 -790 \nQ 1522 -856 1778 -856 \nQ 2344 -856 2625 -561 \nQ 2906 -266 2906 331 \nL 2906 616 \nQ 2728 306 2450 153 \nQ 2172 0 1784 0 \nQ 1141 0 747 490 \nQ 353 981 353 1791 \nQ 353 2603 747 3093 \nQ 1141 3584 1784 3584 \nQ 2172 3584 2450 3431 \nQ 2728 3278 2906 2969 \nL 2906 3500 \nL 3481 3500 \nL 3481 434 \nz\n\" transform=\"scale(0.015625)\"/>\n        <path id=\"DejaVuSans-68\" d=\"M 3513 2113 \nL 3513 0 \nL 2938 0 \nL 2938 2094 \nQ 2938 2591 2744 2837 \nQ 2550 3084 2163 3084 \nQ 1697 3084 1428 2787 \nQ 1159 2491 1159 1978 \nL 1159 0 \nL 581 0 \nL 581 4863 \nL 1159 4863 \nL 1159 2956 \nQ 1366 3272 1645 3428 \nQ 1925 3584 2291 3584 \nQ 2894 3584 3203 3211 \nQ 3513 2838 3513 2113 \nz\n\" transform=\"scale(0.015625)\"/>\n        <path id=\"DejaVuSans-74\" d=\"M 1172 4494 \nL 1172 3500 \nL 2356 3500 \nL 2356 3053 \nL 1172 3053 \nL 1172 1153 \nQ 1172 725 1289 603 \nQ 1406 481 1766 481 \nL 2356 481 \nL 2356 0 \nL 1766 0 \nQ 1100 0 847 248 \nQ 594 497 594 1153 \nL 594 3053 \nL 172 3053 \nL 172 3500 \nL 594 3500 \nL 594 4494 \nL 1172 4494 \nz\n\" transform=\"scale(0.015625)\"/>\n        <path id=\"DejaVuSans-65\" d=\"M 3597 1894 \nL 3597 1613 \nL 953 1613 \nQ 991 1019 1311 708 \nQ 1631 397 2203 397 \nQ 2534 397 2845 478 \nQ 3156 559 3463 722 \nL 3463 178 \nQ 3153 47 2828 -22 \nQ 2503 -91 2169 -91 \nQ 1331 -91 842 396 \nQ 353 884 353 1716 \nQ 353 2575 817 3079 \nQ 1281 3584 2069 3584 \nQ 2775 3584 3186 3129 \nQ 3597 2675 3597 1894 \nz\nM 3022 2063 \nQ 3016 2534 2758 2815 \nQ 2500 3097 2075 3097 \nQ 1594 3097 1305 2825 \nQ 1016 2553 972 2059 \nL 3022 2063 \nz\n\" transform=\"scale(0.015625)\"/>\n        <path id=\"DejaVuSans-72\" d=\"M 2631 2963 \nQ 2534 3019 2420 3045 \nQ 2306 3072 2169 3072 \nQ 1681 3072 1420 2755 \nQ 1159 2438 1159 1844 \nL 1159 0 \nL 581 0 \nL 581 3500 \nL 1159 3500 \nL 1159 2956 \nQ 1341 3275 1631 3429 \nQ 1922 3584 2338 3584 \nQ 2397 3584 2469 3576 \nQ 2541 3569 2628 3553 \nL 2631 2963 \nz\n\" transform=\"scale(0.015625)\"/>\n       </defs>\n       <use xlink:href=\"#DejaVuSans-4c\"/>\n       <use xlink:href=\"#DejaVuSans-69\" x=\"55.712891\"/>\n       <use xlink:href=\"#DejaVuSans-67\" x=\"83.496094\"/>\n       <use xlink:href=\"#DejaVuSans-68\" x=\"146.972656\"/>\n       <use xlink:href=\"#DejaVuSans-74\" x=\"210.351562\"/>\n       <use xlink:href=\"#DejaVuSans-65\" x=\"249.560547\"/>\n       <use xlink:href=\"#DejaVuSans-72\" x=\"311.083984\"/>\n      </g>\n     </g>\n    </g>\n    <g id=\"xtick_2\">\n     <g id=\"line2d_2\">\n      <g>\n       <use xlink:href=\"#m0180093692\" x=\"287.021842\" y=\"239.758125\" style=\"stroke: #000000; stroke-width: 0.8\"/>\n      </g>\n     </g>\n     <g id=\"text_2\">\n      <!-- Darker -->\n      <g transform=\"translate(270.206217 254.356563)scale(0.1 -0.1)\">\n       <defs>\n        <path id=\"DejaVuSans-44\" d=\"M 1259 4147 \nL 1259 519 \nL 2022 519 \nQ 2988 519 3436 956 \nQ 3884 1394 3884 2338 \nQ 3884 3275 3436 3711 \nQ 2988 4147 2022 4147 \nL 1259 4147 \nz\nM 628 4666 \nL 1925 4666 \nQ 3281 4666 3915 4102 \nQ 4550 3538 4550 2338 \nQ 4550 1131 3912 565 \nQ 3275 0 1925 0 \nL 628 0 \nL 628 4666 \nz\n\" transform=\"scale(0.015625)\"/>\n        <path id=\"DejaVuSans-61\" d=\"M 2194 1759 \nQ 1497 1759 1228 1600 \nQ 959 1441 959 1056 \nQ 959 750 1161 570 \nQ 1363 391 1709 391 \nQ 2188 391 2477 730 \nQ 2766 1069 2766 1631 \nL 2766 1759 \nL 2194 1759 \nz\nM 3341 1997 \nL 3341 0 \nL 2766 0 \nL 2766 531 \nQ 2569 213 2275 61 \nQ 1981 -91 1556 -91 \nQ 1019 -91 701 211 \nQ 384 513 384 1019 \nQ 384 1609 779 1909 \nQ 1175 2209 1959 2209 \nL 2766 2209 \nL 2766 2266 \nQ 2766 2663 2505 2880 \nQ 2244 3097 1772 3097 \nQ 1472 3097 1187 3025 \nQ 903 2953 641 2809 \nL 641 3341 \nQ 956 3463 1253 3523 \nQ 1550 3584 1831 3584 \nQ 2591 3584 2966 3190 \nQ 3341 2797 3341 1997 \nz\n\" transform=\"scale(0.015625)\"/>\n        <path id=\"DejaVuSans-6b\" d=\"M 581 4863 \nL 1159 4863 \nL 1159 1991 \nL 2875 3500 \nL 3609 3500 \nL 1753 1863 \nL 3688 0 \nL 2938 0 \nL 1159 1709 \nL 1159 0 \nL 581 0 \nL 581 4863 \nz\n\" transform=\"scale(0.015625)\"/>\n       </defs>\n       <use xlink:href=\"#DejaVuSans-44\"/>\n       <use xlink:href=\"#DejaVuSans-61\" x=\"77.001953\"/>\n       <use xlink:href=\"#DejaVuSans-72\" x=\"138.28125\"/>\n       <use xlink:href=\"#DejaVuSans-6b\" x=\"179.394531\"/>\n       <use xlink:href=\"#DejaVuSans-65\" x=\"233.679688\"/>\n       <use xlink:href=\"#DejaVuSans-72\" x=\"295.203125\"/>\n      </g>\n     </g>\n    </g>\n   </g>\n   <g id=\"matplotlib.axis_2\">\n    <g id=\"ytick_1\">\n     <g id=\"line2d_3\">\n      <defs>\n       <path id=\"m16e86c2a23\" d=\"M 0 0 \nL -3.5 0 \n\" style=\"stroke: #000000; stroke-width: 0.8\"/>\n      </defs>\n      <g>\n       <use xlink:href=\"#m16e86c2a23\" x=\"30.103125\" y=\"239.758125\" style=\"stroke: #000000; stroke-width: 0.8\"/>\n      </g>\n     </g>\n     <g id=\"text_3\">\n      <!-- 0.0 -->\n      <g transform=\"translate(7.2 243.557344)scale(0.1 -0.1)\">\n       <defs>\n        <path id=\"DejaVuSans-30\" d=\"M 2034 4250 \nQ 1547 4250 1301 3770 \nQ 1056 3291 1056 2328 \nQ 1056 1369 1301 889 \nQ 1547 409 2034 409 \nQ 2525 409 2770 889 \nQ 3016 1369 3016 2328 \nQ 3016 3291 2770 3770 \nQ 2525 4250 2034 4250 \nz\nM 2034 4750 \nQ 2819 4750 3233 4129 \nQ 3647 3509 3647 2328 \nQ 3647 1150 3233 529 \nQ 2819 -91 2034 -91 \nQ 1250 -91 836 529 \nQ 422 1150 422 2328 \nQ 422 3509 836 4129 \nQ 1250 4750 2034 4750 \nz\n\" transform=\"scale(0.015625)\"/>\n        <path id=\"DejaVuSans-2e\" d=\"M 684 794 \nL 1344 794 \nL 1344 0 \nL 684 0 \nL 684 794 \nz\n\" transform=\"scale(0.015625)\"/>\n       </defs>\n       <use xlink:href=\"#DejaVuSans-30\"/>\n       <use xlink:href=\"#DejaVuSans-2e\" x=\"63.623047\"/>\n       <use xlink:href=\"#DejaVuSans-30\" x=\"95.410156\"/>\n      </g>\n     </g>\n    </g>\n    <g id=\"ytick_2\">\n     <g id=\"line2d_4\">\n      <g>\n       <use xlink:href=\"#m16e86c2a23\" x=\"30.103125\" y=\"211.233922\" style=\"stroke: #000000; stroke-width: 0.8\"/>\n      </g>\n     </g>\n     <g id=\"text_4\">\n      <!-- 0.1 -->\n      <g transform=\"translate(7.2 215.033141)scale(0.1 -0.1)\">\n       <defs>\n        <path id=\"DejaVuSans-31\" d=\"M 794 531 \nL 1825 531 \nL 1825 4091 \nL 703 3866 \nL 703 4441 \nL 1819 4666 \nL 2450 4666 \nL 2450 531 \nL 3481 531 \nL 3481 0 \nL 794 0 \nL 794 531 \nz\n\" transform=\"scale(0.015625)\"/>\n       </defs>\n       <use xlink:href=\"#DejaVuSans-30\"/>\n       <use xlink:href=\"#DejaVuSans-2e\" x=\"63.623047\"/>\n       <use xlink:href=\"#DejaVuSans-31\" x=\"95.410156\"/>\n      </g>\n     </g>\n    </g>\n    <g id=\"ytick_3\">\n     <g id=\"line2d_5\">\n      <g>\n       <use xlink:href=\"#m16e86c2a23\" x=\"30.103125\" y=\"182.709719\" style=\"stroke: #000000; stroke-width: 0.8\"/>\n      </g>\n     </g>\n     <g id=\"text_5\">\n      <!-- 0.2 -->\n      <g transform=\"translate(7.2 186.508938)scale(0.1 -0.1)\">\n       <defs>\n        <path id=\"DejaVuSans-32\" d=\"M 1228 531 \nL 3431 531 \nL 3431 0 \nL 469 0 \nL 469 531 \nQ 828 903 1448 1529 \nQ 2069 2156 2228 2338 \nQ 2531 2678 2651 2914 \nQ 2772 3150 2772 3378 \nQ 2772 3750 2511 3984 \nQ 2250 4219 1831 4219 \nQ 1534 4219 1204 4116 \nQ 875 4013 500 3803 \nL 500 4441 \nQ 881 4594 1212 4672 \nQ 1544 4750 1819 4750 \nQ 2544 4750 2975 4387 \nQ 3406 4025 3406 3419 \nQ 3406 3131 3298 2873 \nQ 3191 2616 2906 2266 \nQ 2828 2175 2409 1742 \nQ 1991 1309 1228 531 \nz\n\" transform=\"scale(0.015625)\"/>\n       </defs>\n       <use xlink:href=\"#DejaVuSans-30\"/>\n       <use xlink:href=\"#DejaVuSans-2e\" x=\"63.623047\"/>\n       <use xlink:href=\"#DejaVuSans-32\" x=\"95.410156\"/>\n      </g>\n     </g>\n    </g>\n    <g id=\"ytick_4\">\n     <g id=\"line2d_6\">\n      <g>\n       <use xlink:href=\"#m16e86c2a23\" x=\"30.103125\" y=\"154.185516\" style=\"stroke: #000000; stroke-width: 0.8\"/>\n      </g>\n     </g>\n     <g id=\"text_6\">\n      <!-- 0.3 -->\n      <g transform=\"translate(7.2 157.984735)scale(0.1 -0.1)\">\n       <defs>\n        <path id=\"DejaVuSans-33\" d=\"M 2597 2516 \nQ 3050 2419 3304 2112 \nQ 3559 1806 3559 1356 \nQ 3559 666 3084 287 \nQ 2609 -91 1734 -91 \nQ 1441 -91 1130 -33 \nQ 819 25 488 141 \nL 488 750 \nQ 750 597 1062 519 \nQ 1375 441 1716 441 \nQ 2309 441 2620 675 \nQ 2931 909 2931 1356 \nQ 2931 1769 2642 2001 \nQ 2353 2234 1838 2234 \nL 1294 2234 \nL 1294 2753 \nL 1863 2753 \nQ 2328 2753 2575 2939 \nQ 2822 3125 2822 3475 \nQ 2822 3834 2567 4026 \nQ 2313 4219 1838 4219 \nQ 1578 4219 1281 4162 \nQ 984 4106 628 3988 \nL 628 4550 \nQ 988 4650 1302 4700 \nQ 1616 4750 1894 4750 \nQ 2613 4750 3031 4423 \nQ 3450 4097 3450 3541 \nQ 3450 3153 3228 2886 \nQ 3006 2619 2597 2516 \nz\n\" transform=\"scale(0.015625)\"/>\n       </defs>\n       <use xlink:href=\"#DejaVuSans-30\"/>\n       <use xlink:href=\"#DejaVuSans-2e\" x=\"63.623047\"/>\n       <use xlink:href=\"#DejaVuSans-33\" x=\"95.410156\"/>\n      </g>\n     </g>\n    </g>\n    <g id=\"ytick_5\">\n     <g id=\"line2d_7\">\n      <g>\n       <use xlink:href=\"#m16e86c2a23\" x=\"30.103125\" y=\"125.661313\" style=\"stroke: #000000; stroke-width: 0.8\"/>\n      </g>\n     </g>\n     <g id=\"text_7\">\n      <!-- 0.4 -->\n      <g transform=\"translate(7.2 129.460531)scale(0.1 -0.1)\">\n       <defs>\n        <path id=\"DejaVuSans-34\" d=\"M 2419 4116 \nL 825 1625 \nL 2419 1625 \nL 2419 4116 \nz\nM 2253 4666 \nL 3047 4666 \nL 3047 1625 \nL 3713 1625 \nL 3713 1100 \nL 3047 1100 \nL 3047 0 \nL 2419 0 \nL 2419 1100 \nL 313 1100 \nL 313 1709 \nL 2253 4666 \nz\n\" transform=\"scale(0.015625)\"/>\n       </defs>\n       <use xlink:href=\"#DejaVuSans-30\"/>\n       <use xlink:href=\"#DejaVuSans-2e\" x=\"63.623047\"/>\n       <use xlink:href=\"#DejaVuSans-34\" x=\"95.410156\"/>\n      </g>\n     </g>\n    </g>\n    <g id=\"ytick_6\">\n     <g id=\"line2d_8\">\n      <g>\n       <use xlink:href=\"#m16e86c2a23\" x=\"30.103125\" y=\"97.13711\" style=\"stroke: #000000; stroke-width: 0.8\"/>\n      </g>\n     </g>\n     <g id=\"text_8\">\n      <!-- 0.5 -->\n      <g transform=\"translate(7.2 100.936328)scale(0.1 -0.1)\">\n       <defs>\n        <path id=\"DejaVuSans-35\" d=\"M 691 4666 \nL 3169 4666 \nL 3169 4134 \nL 1269 4134 \nL 1269 2991 \nQ 1406 3038 1543 3061 \nQ 1681 3084 1819 3084 \nQ 2600 3084 3056 2656 \nQ 3513 2228 3513 1497 \nQ 3513 744 3044 326 \nQ 2575 -91 1722 -91 \nQ 1428 -91 1123 -41 \nQ 819 9 494 109 \nL 494 744 \nQ 775 591 1075 516 \nQ 1375 441 1709 441 \nQ 2250 441 2565 725 \nQ 2881 1009 2881 1497 \nQ 2881 1984 2565 2268 \nQ 2250 2553 1709 2553 \nQ 1456 2553 1204 2497 \nQ 953 2441 691 2322 \nL 691 4666 \nz\n\" transform=\"scale(0.015625)\"/>\n       </defs>\n       <use xlink:href=\"#DejaVuSans-30\"/>\n       <use xlink:href=\"#DejaVuSans-2e\" x=\"63.623047\"/>\n       <use xlink:href=\"#DejaVuSans-35\" x=\"95.410156\"/>\n      </g>\n     </g>\n    </g>\n    <g id=\"ytick_7\">\n     <g id=\"line2d_9\">\n      <g>\n       <use xlink:href=\"#m16e86c2a23\" x=\"30.103125\" y=\"68.612907\" style=\"stroke: #000000; stroke-width: 0.8\"/>\n      </g>\n     </g>\n     <g id=\"text_9\">\n      <!-- 0.6 -->\n      <g transform=\"translate(7.2 72.412125)scale(0.1 -0.1)\">\n       <defs>\n        <path id=\"DejaVuSans-36\" d=\"M 2113 2584 \nQ 1688 2584 1439 2293 \nQ 1191 2003 1191 1497 \nQ 1191 994 1439 701 \nQ 1688 409 2113 409 \nQ 2538 409 2786 701 \nQ 3034 994 3034 1497 \nQ 3034 2003 2786 2293 \nQ 2538 2584 2113 2584 \nz\nM 3366 4563 \nL 3366 3988 \nQ 3128 4100 2886 4159 \nQ 2644 4219 2406 4219 \nQ 1781 4219 1451 3797 \nQ 1122 3375 1075 2522 \nQ 1259 2794 1537 2939 \nQ 1816 3084 2150 3084 \nQ 2853 3084 3261 2657 \nQ 3669 2231 3669 1497 \nQ 3669 778 3244 343 \nQ 2819 -91 2113 -91 \nQ 1303 -91 875 529 \nQ 447 1150 447 2328 \nQ 447 3434 972 4092 \nQ 1497 4750 2381 4750 \nQ 2619 4750 2861 4703 \nQ 3103 4656 3366 4563 \nz\n\" transform=\"scale(0.015625)\"/>\n       </defs>\n       <use xlink:href=\"#DejaVuSans-30\"/>\n       <use xlink:href=\"#DejaVuSans-2e\" x=\"63.623047\"/>\n       <use xlink:href=\"#DejaVuSans-36\" x=\"95.410156\"/>\n      </g>\n     </g>\n    </g>\n    <g id=\"ytick_8\">\n     <g id=\"line2d_10\">\n      <g>\n       <use xlink:href=\"#m16e86c2a23\" x=\"30.103125\" y=\"40.088704\" style=\"stroke: #000000; stroke-width: 0.8\"/>\n      </g>\n     </g>\n     <g id=\"text_10\">\n      <!-- 0.7 -->\n      <g transform=\"translate(7.2 43.887922)scale(0.1 -0.1)\">\n       <defs>\n        <path id=\"DejaVuSans-37\" d=\"M 525 4666 \nL 3525 4666 \nL 3525 4397 \nL 1831 0 \nL 1172 0 \nL 2766 4134 \nL 525 4134 \nL 525 4666 \nz\n\" transform=\"scale(0.015625)\"/>\n       </defs>\n       <use xlink:href=\"#DejaVuSans-30\"/>\n       <use xlink:href=\"#DejaVuSans-2e\" x=\"63.623047\"/>\n       <use xlink:href=\"#DejaVuSans-37\" x=\"95.410156\"/>\n      </g>\n     </g>\n    </g>\n   </g>\n   <g id=\"patch_7\">\n    <path d=\"M 30.103125 239.758125 \nL 30.103125 22.318125 \n\" style=\"fill: none; stroke: #000000; stroke-width: 0.8; stroke-linejoin: miter; stroke-linecap: square\"/>\n   </g>\n   <g id=\"patch_8\">\n    <path d=\"M 364.903125 239.758125 \nL 364.903125 22.318125 \n\" style=\"fill: none; stroke: #000000; stroke-width: 0.8; stroke-linejoin: miter; stroke-linecap: square\"/>\n   </g>\n   <g id=\"patch_9\">\n    <path d=\"M 30.103125 239.758125 \nL 364.903125 239.758125 \n\" style=\"fill: none; stroke: #000000; stroke-width: 0.8; stroke-linejoin: miter; stroke-linecap: square\"/>\n   </g>\n   <g id=\"patch_10\">\n    <path d=\"M 30.103125 22.318125 \nL 364.903125 22.318125 \n\" style=\"fill: none; stroke: #000000; stroke-width: 0.8; stroke-linejoin: miter; stroke-linecap: square\"/>\n   </g>\n   <g id=\"text_11\">\n    <!-- 0.718 -->\n    <g transform=\"translate(62.338795 32.874659)scale(0.1 -0.1)\">\n     <defs>\n      <path id=\"DejaVuSans-38\" d=\"M 2034 2216 \nQ 1584 2216 1326 1975 \nQ 1069 1734 1069 1313 \nQ 1069 891 1326 650 \nQ 1584 409 2034 409 \nQ 2484 409 2743 651 \nQ 3003 894 3003 1313 \nQ 3003 1734 2745 1975 \nQ 2488 2216 2034 2216 \nz\nM 1403 2484 \nQ 997 2584 770 2862 \nQ 544 3141 544 3541 \nQ 544 4100 942 4425 \nQ 1341 4750 2034 4750 \nQ 2731 4750 3128 4425 \nQ 3525 4100 3525 3541 \nQ 3525 3141 3298 2862 \nQ 3072 2584 2669 2484 \nQ 3125 2378 3379 2068 \nQ 3634 1759 3634 1313 \nQ 3634 634 3220 271 \nQ 2806 -91 2034 -91 \nQ 1263 -91 848 271 \nQ 434 634 434 1313 \nQ 434 1759 690 2068 \nQ 947 2378 1403 2484 \nz\nM 1172 3481 \nQ 1172 3119 1398 2916 \nQ 1625 2713 2034 2713 \nQ 2441 2713 2670 2916 \nQ 2900 3119 2900 3481 \nQ 2900 3844 2670 4047 \nQ 2441 4250 2034 4250 \nQ 1625 4250 1398 4047 \nQ 1172 3844 1172 3481 \nz\n\" transform=\"scale(0.015625)\"/>\n     </defs>\n     <use xlink:href=\"#DejaVuSans-30\"/>\n     <use xlink:href=\"#DejaVuSans-2e\" x=\"63.623047\"/>\n     <use xlink:href=\"#DejaVuSans-37\" x=\"95.410156\"/>\n     <use xlink:href=\"#DejaVuSans-31\" x=\"159.033203\"/>\n     <use xlink:href=\"#DejaVuSans-38\" x=\"222.65625\"/>\n    </g>\n   </g>\n   <g id=\"text_12\">\n    <!-- 0.726 -->\n    <g transform=\"translate(241.376228 30.592723)scale(0.1 -0.1)\">\n     <use xlink:href=\"#DejaVuSans-30\"/>\n     <use xlink:href=\"#DejaVuSans-2e\" x=\"63.623047\"/>\n     <use xlink:href=\"#DejaVuSans-37\" x=\"95.410156\"/>\n     <use xlink:href=\"#DejaVuSans-32\" x=\"159.033203\"/>\n     <use xlink:href=\"#DejaVuSans-36\" x=\"222.65625\"/>\n    </g>\n   </g>\n   <g id=\"text_13\">\n    <!-- 0.684 -->\n    <g transform=\"translate(125.001897 42.572889)scale(0.1 -0.1)\">\n     <use xlink:href=\"#DejaVuSans-30\"/>\n     <use xlink:href=\"#DejaVuSans-2e\" x=\"63.623047\"/>\n     <use xlink:href=\"#DejaVuSans-36\" x=\"95.410156\"/>\n     <use xlink:href=\"#DejaVuSans-38\" x=\"159.033203\"/>\n     <use xlink:href=\"#DejaVuSans-34\" x=\"222.65625\"/>\n    </g>\n   </g>\n   <g id=\"text_14\">\n    <!-- 0.672 -->\n    <g transform=\"translate(304.03933 45.995793)scale(0.1 -0.1)\">\n     <use xlink:href=\"#DejaVuSans-30\"/>\n     <use xlink:href=\"#DejaVuSans-2e\" x=\"63.623047\"/>\n     <use xlink:href=\"#DejaVuSans-36\" x=\"95.410156\"/>\n     <use xlink:href=\"#DejaVuSans-37\" x=\"159.033203\"/>\n     <use xlink:href=\"#DejaVuSans-32\" x=\"222.65625\"/>\n    </g>\n   </g>\n   <g id=\"text_15\">\n    <!-- Workers' recognition accuracy in each racial group -->\n    <g transform=\"translate(45.501563 16.318125)scale(0.12 -0.12)\">\n     <defs>\n      <path id=\"DejaVuSans-57\" d=\"M 213 4666 \nL 850 4666 \nL 1831 722 \nL 2809 4666 \nL 3519 4666 \nL 4500 722 \nL 5478 4666 \nL 6119 4666 \nL 4947 0 \nL 4153 0 \nL 3169 4050 \nL 2175 0 \nL 1381 0 \nL 213 4666 \nz\n\" transform=\"scale(0.015625)\"/>\n      <path id=\"DejaVuSans-6f\" d=\"M 1959 3097 \nQ 1497 3097 1228 2736 \nQ 959 2375 959 1747 \nQ 959 1119 1226 758 \nQ 1494 397 1959 397 \nQ 2419 397 2687 759 \nQ 2956 1122 2956 1747 \nQ 2956 2369 2687 2733 \nQ 2419 3097 1959 3097 \nz\nM 1959 3584 \nQ 2709 3584 3137 3096 \nQ 3566 2609 3566 1747 \nQ 3566 888 3137 398 \nQ 2709 -91 1959 -91 \nQ 1206 -91 779 398 \nQ 353 888 353 1747 \nQ 353 2609 779 3096 \nQ 1206 3584 1959 3584 \nz\n\" transform=\"scale(0.015625)\"/>\n      <path id=\"DejaVuSans-73\" d=\"M 2834 3397 \nL 2834 2853 \nQ 2591 2978 2328 3040 \nQ 2066 3103 1784 3103 \nQ 1356 3103 1142 2972 \nQ 928 2841 928 2578 \nQ 928 2378 1081 2264 \nQ 1234 2150 1697 2047 \nL 1894 2003 \nQ 2506 1872 2764 1633 \nQ 3022 1394 3022 966 \nQ 3022 478 2636 193 \nQ 2250 -91 1575 -91 \nQ 1294 -91 989 -36 \nQ 684 19 347 128 \nL 347 722 \nQ 666 556 975 473 \nQ 1284 391 1588 391 \nQ 1994 391 2212 530 \nQ 2431 669 2431 922 \nQ 2431 1156 2273 1281 \nQ 2116 1406 1581 1522 \nL 1381 1569 \nQ 847 1681 609 1914 \nQ 372 2147 372 2553 \nQ 372 3047 722 3315 \nQ 1072 3584 1716 3584 \nQ 2034 3584 2315 3537 \nQ 2597 3491 2834 3397 \nz\n\" transform=\"scale(0.015625)\"/>\n      <path id=\"DejaVuSans-27\" d=\"M 1147 4666 \nL 1147 2931 \nL 616 2931 \nL 616 4666 \nL 1147 4666 \nz\n\" transform=\"scale(0.015625)\"/>\n      <path id=\"DejaVuSans-20\" transform=\"scale(0.015625)\"/>\n      <path id=\"DejaVuSans-63\" d=\"M 3122 3366 \nL 3122 2828 \nQ 2878 2963 2633 3030 \nQ 2388 3097 2138 3097 \nQ 1578 3097 1268 2742 \nQ 959 2388 959 1747 \nQ 959 1106 1268 751 \nQ 1578 397 2138 397 \nQ 2388 397 2633 464 \nQ 2878 531 3122 666 \nL 3122 134 \nQ 2881 22 2623 -34 \nQ 2366 -91 2075 -91 \nQ 1284 -91 818 406 \nQ 353 903 353 1747 \nQ 353 2603 823 3093 \nQ 1294 3584 2113 3584 \nQ 2378 3584 2631 3529 \nQ 2884 3475 3122 3366 \nz\n\" transform=\"scale(0.015625)\"/>\n      <path id=\"DejaVuSans-6e\" d=\"M 3513 2113 \nL 3513 0 \nL 2938 0 \nL 2938 2094 \nQ 2938 2591 2744 2837 \nQ 2550 3084 2163 3084 \nQ 1697 3084 1428 2787 \nQ 1159 2491 1159 1978 \nL 1159 0 \nL 581 0 \nL 581 3500 \nL 1159 3500 \nL 1159 2956 \nQ 1366 3272 1645 3428 \nQ 1925 3584 2291 3584 \nQ 2894 3584 3203 3211 \nQ 3513 2838 3513 2113 \nz\n\" transform=\"scale(0.015625)\"/>\n      <path id=\"DejaVuSans-75\" d=\"M 544 1381 \nL 544 3500 \nL 1119 3500 \nL 1119 1403 \nQ 1119 906 1312 657 \nQ 1506 409 1894 409 \nQ 2359 409 2629 706 \nQ 2900 1003 2900 1516 \nL 2900 3500 \nL 3475 3500 \nL 3475 0 \nL 2900 0 \nL 2900 538 \nQ 2691 219 2414 64 \nQ 2138 -91 1772 -91 \nQ 1169 -91 856 284 \nQ 544 659 544 1381 \nz\nM 1991 3584 \nL 1991 3584 \nz\n\" transform=\"scale(0.015625)\"/>\n      <path id=\"DejaVuSans-79\" d=\"M 2059 -325 \nQ 1816 -950 1584 -1140 \nQ 1353 -1331 966 -1331 \nL 506 -1331 \nL 506 -850 \nL 844 -850 \nQ 1081 -850 1212 -737 \nQ 1344 -625 1503 -206 \nL 1606 56 \nL 191 3500 \nL 800 3500 \nL 1894 763 \nL 2988 3500 \nL 3597 3500 \nL 2059 -325 \nz\n\" transform=\"scale(0.015625)\"/>\n      <path id=\"DejaVuSans-6c\" d=\"M 603 4863 \nL 1178 4863 \nL 1178 0 \nL 603 0 \nL 603 4863 \nz\n\" transform=\"scale(0.015625)\"/>\n      <path id=\"DejaVuSans-70\" d=\"M 1159 525 \nL 1159 -1331 \nL 581 -1331 \nL 581 3500 \nL 1159 3500 \nL 1159 2969 \nQ 1341 3281 1617 3432 \nQ 1894 3584 2278 3584 \nQ 2916 3584 3314 3078 \nQ 3713 2572 3713 1747 \nQ 3713 922 3314 415 \nQ 2916 -91 2278 -91 \nQ 1894 -91 1617 61 \nQ 1341 213 1159 525 \nz\nM 3116 1747 \nQ 3116 2381 2855 2742 \nQ 2594 3103 2138 3103 \nQ 1681 3103 1420 2742 \nQ 1159 2381 1159 1747 \nQ 1159 1113 1420 752 \nQ 1681 391 2138 391 \nQ 2594 391 2855 752 \nQ 3116 1113 3116 1747 \nz\n\" transform=\"scale(0.015625)\"/>\n     </defs>\n     <use xlink:href=\"#DejaVuSans-57\"/>\n     <use xlink:href=\"#DejaVuSans-6f\" x=\"93.001953\"/>\n     <use xlink:href=\"#DejaVuSans-72\" x=\"154.183594\"/>\n     <use xlink:href=\"#DejaVuSans-6b\" x=\"195.296875\"/>\n     <use xlink:href=\"#DejaVuSans-65\" x=\"249.582031\"/>\n     <use xlink:href=\"#DejaVuSans-72\" x=\"311.105469\"/>\n     <use xlink:href=\"#DejaVuSans-73\" x=\"352.21875\"/>\n     <use xlink:href=\"#DejaVuSans-27\" x=\"404.318359\"/>\n     <use xlink:href=\"#DejaVuSans-20\" x=\"431.808594\"/>\n     <use xlink:href=\"#DejaVuSans-72\" x=\"463.595703\"/>\n     <use xlink:href=\"#DejaVuSans-65\" x=\"502.458984\"/>\n     <use xlink:href=\"#DejaVuSans-63\" x=\"563.982422\"/>\n     <use xlink:href=\"#DejaVuSans-6f\" x=\"618.962891\"/>\n     <use xlink:href=\"#DejaVuSans-67\" x=\"680.144531\"/>\n     <use xlink:href=\"#DejaVuSans-6e\" x=\"743.621094\"/>\n     <use xlink:href=\"#DejaVuSans-69\" x=\"807\"/>\n     <use xlink:href=\"#DejaVuSans-74\" x=\"834.783203\"/>\n     <use xlink:href=\"#DejaVuSans-69\" x=\"873.992188\"/>\n     <use xlink:href=\"#DejaVuSans-6f\" x=\"901.775391\"/>\n     <use xlink:href=\"#DejaVuSans-6e\" x=\"962.957031\"/>\n     <use xlink:href=\"#DejaVuSans-20\" x=\"1026.335938\"/>\n     <use xlink:href=\"#DejaVuSans-61\" x=\"1058.123047\"/>\n     <use xlink:href=\"#DejaVuSans-63\" x=\"1119.402344\"/>\n     <use xlink:href=\"#DejaVuSans-63\" x=\"1174.382812\"/>\n     <use xlink:href=\"#DejaVuSans-75\" x=\"1229.363281\"/>\n     <use xlink:href=\"#DejaVuSans-72\" x=\"1292.742188\"/>\n     <use xlink:href=\"#DejaVuSans-61\" x=\"1333.855469\"/>\n     <use xlink:href=\"#DejaVuSans-63\" x=\"1395.134766\"/>\n     <use xlink:href=\"#DejaVuSans-79\" x=\"1450.115234\"/>\n     <use xlink:href=\"#DejaVuSans-20\" x=\"1509.294922\"/>\n     <use xlink:href=\"#DejaVuSans-69\" x=\"1541.082031\"/>\n     <use xlink:href=\"#DejaVuSans-6e\" x=\"1568.865234\"/>\n     <use xlink:href=\"#DejaVuSans-20\" x=\"1632.244141\"/>\n     <use xlink:href=\"#DejaVuSans-65\" x=\"1664.03125\"/>\n     <use xlink:href=\"#DejaVuSans-61\" x=\"1725.554688\"/>\n     <use xlink:href=\"#DejaVuSans-63\" x=\"1786.833984\"/>\n     <use xlink:href=\"#DejaVuSans-68\" x=\"1841.814453\"/>\n     <use xlink:href=\"#DejaVuSans-20\" x=\"1905.193359\"/>\n     <use xlink:href=\"#DejaVuSans-72\" x=\"1936.980469\"/>\n     <use xlink:href=\"#DejaVuSans-61\" x=\"1978.09375\"/>\n     <use xlink:href=\"#DejaVuSans-63\" x=\"2039.373047\"/>\n     <use xlink:href=\"#DejaVuSans-69\" x=\"2094.353516\"/>\n     <use xlink:href=\"#DejaVuSans-61\" x=\"2122.136719\"/>\n     <use xlink:href=\"#DejaVuSans-6c\" x=\"2183.416016\"/>\n     <use xlink:href=\"#DejaVuSans-20\" x=\"2211.199219\"/>\n     <use xlink:href=\"#DejaVuSans-67\" x=\"2242.986328\"/>\n     <use xlink:href=\"#DejaVuSans-72\" x=\"2306.462891\"/>\n     <use xlink:href=\"#DejaVuSans-6f\" x=\"2345.326172\"/>\n     <use xlink:href=\"#DejaVuSans-75\" x=\"2406.507812\"/>\n     <use xlink:href=\"#DejaVuSans-70\" x=\"2469.886719\"/>\n    </g>\n   </g>\n   <g id=\"legend_1\">\n    <g id=\"patch_11\">\n     <path d=\"M 37.103125 234.758125 \nL 91.651563 234.758125 \nQ 93.651563 234.758125 93.651563 232.758125 \nL 93.651563 204.401875 \nQ 93.651563 202.401875 91.651563 202.401875 \nL 37.103125 202.401875 \nQ 35.103125 202.401875 35.103125 204.401875 \nL 35.103125 232.758125 \nQ 35.103125 234.758125 37.103125 234.758125 \nz\n\" style=\"fill: #ffffff; opacity: 0.8; stroke: #cccccc; stroke-linejoin: miter\"/>\n    </g>\n    <g id=\"patch_12\">\n     <path d=\"M 39.103125 214.000313 \nL 59.103125 214.000313 \nL 59.103125 207.000313 \nL 39.103125 207.000313 \nz\n\" style=\"fill: #1f77b4\"/>\n    </g>\n    <g id=\"text_16\">\n     <!-- Real -->\n     <g transform=\"translate(67.103125 214.000313)scale(0.1 -0.1)\">\n      <defs>\n       <path id=\"DejaVuSans-52\" d=\"M 2841 2188 \nQ 3044 2119 3236 1894 \nQ 3428 1669 3622 1275 \nL 4263 0 \nL 3584 0 \nL 2988 1197 \nQ 2756 1666 2539 1819 \nQ 2322 1972 1947 1972 \nL 1259 1972 \nL 1259 0 \nL 628 0 \nL 628 4666 \nL 2053 4666 \nQ 2853 4666 3247 4331 \nQ 3641 3997 3641 3322 \nQ 3641 2881 3436 2590 \nQ 3231 2300 2841 2188 \nz\nM 1259 4147 \nL 1259 2491 \nL 2053 2491 \nQ 2509 2491 2742 2702 \nQ 2975 2913 2975 3322 \nQ 2975 3731 2742 3939 \nQ 2509 4147 2053 4147 \nL 1259 4147 \nz\n\" transform=\"scale(0.015625)\"/>\n      </defs>\n      <use xlink:href=\"#DejaVuSans-52\"/>\n      <use xlink:href=\"#DejaVuSans-65\" x=\"64.982422\"/>\n      <use xlink:href=\"#DejaVuSans-61\" x=\"126.505859\"/>\n      <use xlink:href=\"#DejaVuSans-6c\" x=\"187.785156\"/>\n     </g>\n    </g>\n    <g id=\"patch_13\">\n     <path d=\"M 39.103125 228.678438 \nL 59.103125 228.678438 \nL 59.103125 221.678438 \nL 39.103125 221.678438 \nz\n\" style=\"fill: #ff7f0e\"/>\n    </g>\n    <g id=\"text_17\">\n     <!-- Fake -->\n     <g transform=\"translate(67.103125 228.678438)scale(0.1 -0.1)\">\n      <defs>\n       <path id=\"DejaVuSans-46\" d=\"M 628 4666 \nL 3309 4666 \nL 3309 4134 \nL 1259 4134 \nL 1259 2759 \nL 3109 2759 \nL 3109 2228 \nL 1259 2228 \nL 1259 0 \nL 628 0 \nL 628 4666 \nz\n\" transform=\"scale(0.015625)\"/>\n      </defs>\n      <use xlink:href=\"#DejaVuSans-46\"/>\n      <use xlink:href=\"#DejaVuSans-61\" x=\"48.394531\"/>\n      <use xlink:href=\"#DejaVuSans-6b\" x=\"109.673828\"/>\n      <use xlink:href=\"#DejaVuSans-65\" x=\"163.958984\"/>\n     </g>\n    </g>\n   </g>\n  </g>\n </g>\n <defs>\n  <clipPath id=\"p68dc724494\">\n   <rect x=\"30.103125\" y=\"22.318125\" width=\"334.8\" height=\"217.44\"/>\n  </clipPath>\n </defs>\n</svg>\n",
      "text/plain": [
       "<Figure size 432x288 with 1 Axes>"
      ]
     },
     "metadata": {
      "needs_background": "light"
     },
     "output_type": "display_data"
    }
   ],
   "source": [
    "fig = freq_bar(\n",
    "    real_y=worker_final_acc_real.groupby('skin').mean()['acc'],\n",
    "    fake_y=worker_final_acc_fake.groupby('skin').mean()['acc'],\n",
    "    # skin_acc[500:].groupby('skin').mean()['acc'],\n",
    "    # skin_acc[:500].groupby('skin').mean()['acc'],\n",
    "    title=\"Workers' recognition accuracy in each racial group\"\n",
    ")"
   ]
  },
  {
   "cell_type": "markdown",
   "metadata": {},
   "source": [
    "#### Same Workers?"
   ]
  },
  {
   "cell_type": "code",
   "execution_count": 44,
   "metadata": {},
   "outputs": [],
   "source": [
    "worker_1 = worker_acc_1.groupby('ASSIGNMENT:worker_id').count()[['n_tasks']].reset_index()\n",
    "worker_2 = worker_acc_2.groupby('ASSIGNMENT:worker_id').count()[['n_tasks']].reset_index()\n",
    "worker_3 = worker_acc_3.groupby('ASSIGNMENT:worker_id').count()[['n_tasks']].reset_index()\n",
    "worker_4 = worker_acc_4.groupby('ASSIGNMENT:worker_id').count()[['n_tasks']].reset_index()"
   ]
  },
  {
   "cell_type": "code",
   "execution_count": 53,
   "metadata": {},
   "outputs": [
    {
     "data": {
      "text/html": [
       "<div>\n",
       "<style scoped>\n",
       "    .dataframe tbody tr th:only-of-type {\n",
       "        vertical-align: middle;\n",
       "    }\n",
       "\n",
       "    .dataframe tbody tr th {\n",
       "        vertical-align: top;\n",
       "    }\n",
       "\n",
       "    .dataframe thead th {\n",
       "        text-align: right;\n",
       "    }\n",
       "</style>\n",
       "<table border=\"1\" class=\"dataframe\">\n",
       "  <thead>\n",
       "    <tr style=\"text-align: right;\">\n",
       "      <th></th>\n",
       "      <th>ASSIGNMENT:worker_id</th>\n",
       "      <th>n_tasks_4</th>\n",
       "      <th>n_tasks_3</th>\n",
       "    </tr>\n",
       "  </thead>\n",
       "  <tbody>\n",
       "    <tr>\n",
       "      <th>0</th>\n",
       "      <td>acc78d5fb3575c0e4436abdd4ad25f54</td>\n",
       "      <td>5</td>\n",
       "      <td>6</td>\n",
       "    </tr>\n",
       "    <tr>\n",
       "      <th>1</th>\n",
       "      <td>b975dbd0d3a40e5adf3c4f3d2e955e25</td>\n",
       "      <td>5</td>\n",
       "      <td>8</td>\n",
       "    </tr>\n",
       "    <tr>\n",
       "      <th>2</th>\n",
       "      <td>bd329f3fa22fe0233ec2de4f4776e124</td>\n",
       "      <td>15</td>\n",
       "      <td>78</td>\n",
       "    </tr>\n",
       "  </tbody>\n",
       "</table>\n",
       "</div>"
      ],
      "text/plain": [
       "               ASSIGNMENT:worker_id  n_tasks_4  n_tasks_3\n",
       "0  acc78d5fb3575c0e4436abdd4ad25f54          5          6\n",
       "1  b975dbd0d3a40e5adf3c4f3d2e955e25          5          8\n",
       "2  bd329f3fa22fe0233ec2de4f4776e124         15         78"
      ]
     },
     "execution_count": 53,
     "metadata": {},
     "output_type": "execute_result"
    }
   ],
   "source": [
    "worker_4.merge(worker_3, on='ASSIGNMENT:worker_id', how='inner', suffixes=('_4', '_3'))"
   ]
  },
  {
   "cell_type": "code",
   "execution_count": 55,
   "metadata": {},
   "outputs": [
    {
     "data": {
      "text/html": [
       "<div>\n",
       "<style scoped>\n",
       "    .dataframe tbody tr th:only-of-type {\n",
       "        vertical-align: middle;\n",
       "    }\n",
       "\n",
       "    .dataframe tbody tr th {\n",
       "        vertical-align: top;\n",
       "    }\n",
       "\n",
       "    .dataframe thead th {\n",
       "        text-align: right;\n",
       "    }\n",
       "</style>\n",
       "<table border=\"1\" class=\"dataframe\">\n",
       "  <thead>\n",
       "    <tr style=\"text-align: right;\">\n",
       "      <th></th>\n",
       "      <th>ASSIGNMENT:worker_id</th>\n",
       "      <th>n_tasks_4</th>\n",
       "      <th>n_tasks_2</th>\n",
       "    </tr>\n",
       "  </thead>\n",
       "  <tbody>\n",
       "    <tr>\n",
       "      <th>0</th>\n",
       "      <td>12899c42f5ef8eb776a7f5ed61ed8923</td>\n",
       "      <td>17</td>\n",
       "      <td>32</td>\n",
       "    </tr>\n",
       "    <tr>\n",
       "      <th>1</th>\n",
       "      <td>bdbe98229133bd5472d03e4e4e8c2d20</td>\n",
       "      <td>109</td>\n",
       "      <td>163</td>\n",
       "    </tr>\n",
       "    <tr>\n",
       "      <th>2</th>\n",
       "      <td>f4ac6258c680466cfd43b7f012b24288</td>\n",
       "      <td>17</td>\n",
       "      <td>23</td>\n",
       "    </tr>\n",
       "  </tbody>\n",
       "</table>\n",
       "</div>"
      ],
      "text/plain": [
       "               ASSIGNMENT:worker_id  n_tasks_4  n_tasks_2\n",
       "0  12899c42f5ef8eb776a7f5ed61ed8923         17         32\n",
       "1  bdbe98229133bd5472d03e4e4e8c2d20        109        163\n",
       "2  f4ac6258c680466cfd43b7f012b24288         17         23"
      ]
     },
     "execution_count": 55,
     "metadata": {},
     "output_type": "execute_result"
    }
   ],
   "source": [
    "worker_4.merge(worker_2, on='ASSIGNMENT:worker_id', how='inner', suffixes=('_4', '_2'))"
   ]
  },
  {
   "cell_type": "code",
   "execution_count": 56,
   "metadata": {},
   "outputs": [
    {
     "data": {
      "text/html": [
       "<div>\n",
       "<style scoped>\n",
       "    .dataframe tbody tr th:only-of-type {\n",
       "        vertical-align: middle;\n",
       "    }\n",
       "\n",
       "    .dataframe tbody tr th {\n",
       "        vertical-align: top;\n",
       "    }\n",
       "\n",
       "    .dataframe thead th {\n",
       "        text-align: right;\n",
       "    }\n",
       "</style>\n",
       "<table border=\"1\" class=\"dataframe\">\n",
       "  <thead>\n",
       "    <tr style=\"text-align: right;\">\n",
       "      <th></th>\n",
       "      <th>ASSIGNMENT:worker_id</th>\n",
       "      <th>n_tasks_4</th>\n",
       "      <th>n_tasks_1</th>\n",
       "    </tr>\n",
       "  </thead>\n",
       "  <tbody>\n",
       "    <tr>\n",
       "      <th>0</th>\n",
       "      <td>acc78d5fb3575c0e4436abdd4ad25f54</td>\n",
       "      <td>5</td>\n",
       "      <td>6</td>\n",
       "    </tr>\n",
       "    <tr>\n",
       "      <th>1</th>\n",
       "      <td>b975dbd0d3a40e5adf3c4f3d2e955e25</td>\n",
       "      <td>5</td>\n",
       "      <td>8</td>\n",
       "    </tr>\n",
       "    <tr>\n",
       "      <th>2</th>\n",
       "      <td>bd329f3fa22fe0233ec2de4f4776e124</td>\n",
       "      <td>15</td>\n",
       "      <td>78</td>\n",
       "    </tr>\n",
       "  </tbody>\n",
       "</table>\n",
       "</div>"
      ],
      "text/plain": [
       "               ASSIGNMENT:worker_id  n_tasks_4  n_tasks_1\n",
       "0  acc78d5fb3575c0e4436abdd4ad25f54          5          6\n",
       "1  b975dbd0d3a40e5adf3c4f3d2e955e25          5          8\n",
       "2  bd329f3fa22fe0233ec2de4f4776e124         15         78"
      ]
     },
     "execution_count": 56,
     "metadata": {},
     "output_type": "execute_result"
    }
   ],
   "source": [
    "worker_4.merge(worker_3, on='ASSIGNMENT:worker_id', how='inner', suffixes=('_4', '_1'))"
   ]
  }
 ],
 "metadata": {
  "interpreter": {
   "hash": "1aebd4a71fcec916e49c5e2d294321100f54b5d9bbeca9249da939e91b36ccc5"
  },
  "kernelspec": {
   "display_name": "Python 3.8.5 ('base')",
   "language": "python",
   "name": "python3"
  },
  "language_info": {
   "codemirror_mode": {
    "name": "ipython",
    "version": 3
   },
   "file_extension": ".py",
   "mimetype": "text/x-python",
   "name": "python",
   "nbconvert_exporter": "python",
   "pygments_lexer": "ipython3",
   "version": "3.7.10"
  },
  "orig_nbformat": 4
 },
 "nbformat": 4,
 "nbformat_minor": 2
}
