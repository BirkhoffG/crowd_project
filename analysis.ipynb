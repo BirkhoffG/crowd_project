{
 "cells": [
  {
   "cell_type": "code",
   "execution_count": 71,
   "metadata": {},
   "outputs": [],
   "source": [
    "import pandas as pd\n",
    "import numpy as np"
   ]
  },
  {
   "cell_type": "markdown",
   "metadata": {},
   "source": [
    "## Task 2"
   ]
  },
  {
   "cell_type": "code",
   "execution_count": 72,
   "metadata": {},
   "outputs": [],
   "source": [
    "result = pd.read_csv('assignments_from_pool_29960711__06-12-2021.tsv', sep='\\t')"
   ]
  },
  {
   "cell_type": "code",
   "execution_count": 73,
   "metadata": {},
   "outputs": [],
   "source": [
    "def link2id(x):\n",
    "    return x.split('/')[-1].split('\"')[0]\n",
    "\n",
    "result['INPUT:image'] = result['INPUT:image'].apply(link2id)"
   ]
  },
  {
   "cell_type": "code",
   "execution_count": 74,
   "metadata": {},
   "outputs": [],
   "source": [
    "result['GOLDEN:result'] = result['GOLDEN:result'].fillna(1.)"
   ]
  },
  {
   "cell_type": "code",
   "execution_count": 75,
   "metadata": {},
   "outputs": [],
   "source": [
    "generated_img_result = result[result['GOLDEN:result'] == 1.0]"
   ]
  },
  {
   "cell_type": "code",
   "execution_count": 76,
   "metadata": {},
   "outputs": [],
   "source": [
    "aggregated_result = generated_img_result.groupby('INPUT:image').sum()"
   ]
  },
  {
   "cell_type": "code",
   "execution_count": 77,
   "metadata": {},
   "outputs": [],
   "source": [
    "final_result = aggregated_result[['OUTPUT:gender', 'OUTPUT:result', 'OUTPUT:confidence', 'GOLDEN:result']]"
   ]
  },
  {
   "cell_type": "code",
   "execution_count": 78,
   "metadata": {},
   "outputs": [],
   "source": [
    "final_result = final_result.rename({\n",
    "    'OUTPUT:gender': 'gender', \n",
    "    'OUTPUT:result': 'result',\n",
    "    'OUTPUT:confidence': 'confidence', \n",
    "    'GOLDEN:result': 'n_workers'\n",
    "}, axis=1)"
   ]
  },
  {
   "cell_type": "code",
   "execution_count": 79,
   "metadata": {},
   "outputs": [],
   "source": [
    "final_result['n_workers'] = final_result['n_workers'].astype('int')"
   ]
  },
  {
   "cell_type": "markdown",
   "metadata": {},
   "source": [
    "workers do not always agree on genders of the image: indicating random selections"
   ]
  },
  {
   "cell_type": "code",
   "execution_count": 80,
   "metadata": {},
   "outputs": [],
   "source": [
    "def control_consensus(df):\n",
    "    # male or female\n",
    "    return sum((df['gender'] == df['n_workers']) | (df['gender'] == 0)) / len(df)"
   ]
  },
  {
   "cell_type": "code",
   "execution_count": 81,
   "metadata": {},
   "outputs": [
    {
     "data": {
      "text/plain": [
       "0.912"
      ]
     },
     "execution_count": 81,
     "metadata": {},
     "output_type": "execute_result"
    }
   ],
   "source": [
    "control_consensus(final_result)"
   ]
  },
  {
   "cell_type": "markdown",
   "metadata": {},
   "source": [
    "images considered to be `real` by workers with more than 2 votings"
   ]
  },
  {
   "cell_type": "code",
   "execution_count": 82,
   "metadata": {},
   "outputs": [],
   "source": [
    "# workers deem to be real\n",
    "real_img = final_result[(final_result['n_workers'] - final_result['result'] >= 3)]"
   ]
  },
  {
   "cell_type": "markdown",
   "metadata": {},
   "source": [
    "workers do not always agree with the gender"
   ]
  },
  {
   "cell_type": "code",
   "execution_count": 83,
   "metadata": {},
   "outputs": [
    {
     "data": {
      "text/plain": [
       "0.9516129032258065"
      ]
     },
     "execution_count": 83,
     "metadata": {},
     "output_type": "execute_result"
    }
   ],
   "source": [
    "control_consensus(real_img)"
   ]
  },
  {
   "cell_type": "markdown",
   "metadata": {},
   "source": [
    "rate for successfully deceive more than 2 workers"
   ]
  },
  {
   "cell_type": "code",
   "execution_count": 84,
   "metadata": {},
   "outputs": [
    {
     "data": {
      "text/plain": [
       "'decieved imgs: 62; imgs with more than 3 workers: 424 rate: 0.14622641509433962'"
      ]
     },
     "execution_count": 84,
     "metadata": {},
     "output_type": "execute_result"
    }
   ],
   "source": [
    "n_real_imgs = len(real_img)\n",
    "n_valid_imgs = len(final_result[final_result['n_workers'] >= 3])\n",
    "f\"decieved imgs: {n_real_imgs}; imgs with more than 3 workers: {n_valid_imgs} rate: {n_real_imgs / n_valid_imgs}\""
   ]
  },
  {
   "cell_type": "code",
   "execution_count": 36,
   "metadata": {},
   "outputs": [
    {
     "data": {
      "text/plain": [
       "'concensus on gender: 0.9516129032258065'"
      ]
     },
     "execution_count": 36,
     "metadata": {},
     "output_type": "execute_result"
    }
   ],
   "source": [
    "f\"concensus on gender: {control_consensus(real_img)}\""
   ]
  },
  {
   "cell_type": "markdown",
   "metadata": {},
   "source": [
    "### Create Task 3"
   ]
  },
  {
   "cell_type": "code",
   "execution_count": 47,
   "metadata": {},
   "outputs": [
    {
     "name": "stderr",
     "output_type": "stream",
     "text": [
      "/opt/conda/lib/python3.7/site-packages/ipykernel_launcher.py:2: SettingWithCopyWarning: \n",
      "A value is trying to be set on a copy of a slice from a DataFrame.\n",
      "Try using .loc[row_indexer,col_indexer] = value instead\n",
      "\n",
      "See the caveats in the documentation: https://pandas.pydata.org/pandas-docs/stable/user_guide/indexing.html#returning-a-view-versus-a-copy\n",
      "  \n"
     ]
    }
   ],
   "source": [
    "real_img_result = result[result['GOLDEN:result'] == 0.]\n",
    "real_img_result['n_workers'] = np.ones(len(real_img_result))"
   ]
  },
  {
   "cell_type": "code",
   "execution_count": 50,
   "metadata": {},
   "outputs": [],
   "source": [
    "aggregated_real_img_result = real_img_result.groupby('INPUT:image').sum()\\\n",
    "    [['OUTPUT:gender', 'OUTPUT:result', 'OUTPUT:confidence', 'n_workers']]"
   ]
  },
  {
   "cell_type": "code",
   "execution_count": 55,
   "metadata": {},
   "outputs": [],
   "source": [
    "# workers deemed as fake\n",
    "fake_img = aggregated_real_img_result[aggregated_real_img_result['OUTPUT:result'] >= 2]"
   ]
  },
  {
   "cell_type": "code",
   "execution_count": 56,
   "metadata": {},
   "outputs": [],
   "source": [
    "task = pd.read_csv('tasks/tasks_for_pool_29747529__23-11-2021_training.tsv', sep='\\t')"
   ]
  },
  {
   "cell_type": "code",
   "execution_count": 69,
   "metadata": {},
   "outputs": [],
   "source": [
    "from random import random\n",
    "\n",
    "new_data = task.iloc[0:0]\n",
    "real_img_list = real_img.index.to_list()\n",
    "fake_img_list = fake_img.index.to_list()\n",
    "\n",
    "for i in range(len(real_img_list)):\n",
    "    image_1 = \"https://raw.githubusercontent.com/BirkhoffG/crowd_project/main/img/\" + real_img_list[i]\n",
    "    image_2 = \"https://raw.githubusercontent.com/BirkhoffG/crowd_project/main/original/\" + fake_img_list[i]\n",
    "    if random() < 0.5:\n",
    "        new_data = new_data.append({\n",
    "            'INPUT:image_left': image_1, 'INPUT:image_right': image_2, 'GOLDEN:result': 'Right', \n",
    "            'GOLDEN:textfield': '', 'HINT:text': 'The image on the Right is REAL.'\n",
    "        }, ignore_index=True)\n",
    "    else:\n",
    "        new_data = new_data.append({\n",
    "            'INPUT:image_left': image_2, 'INPUT:image_right': image_1, 'GOLDEN:result': 'Left', \n",
    "            'GOLDEN:textfield': '', 'HINT:text': 'The image on the Left is REAL.'\n",
    "        }, ignore_index=True)"
   ]
  },
  {
   "cell_type": "code",
   "execution_count": 70,
   "metadata": {},
   "outputs": [],
   "source": [
    "new_data.to_csv('task3.tsv', sep='\\t', index=None)"
   ]
  }
 ],
 "metadata": {
  "interpreter": {
   "hash": "d4d1e4263499bec80672ea0156c357c1ee493ec2b1c70f0acce89fc37c4a6abe"
  },
  "kernelspec": {
   "display_name": "Python 3.7.10 64-bit ('base': conda)",
   "language": "python",
   "name": "python3"
  },
  "language_info": {
   "codemirror_mode": {
    "name": "ipython",
    "version": 3
   },
   "file_extension": ".py",
   "mimetype": "text/x-python",
   "name": "python",
   "nbconvert_exporter": "python",
   "pygments_lexer": "ipython3",
   "version": "3.7.10"
  },
  "orig_nbformat": 4
 },
 "nbformat": 4,
 "nbformat_minor": 2
}
