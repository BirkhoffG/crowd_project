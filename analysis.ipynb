{
 "cells": [
  {
   "cell_type": "code",
   "execution_count": 1,
   "metadata": {},
   "outputs": [],
   "source": [
    "import pandas as pd\n",
    "import numpy as np"
   ]
  },
  {
   "cell_type": "code",
   "execution_count": 23,
   "metadata": {},
   "outputs": [],
   "source": [
    "org = pd.read_csv('control_task2.tsv', sep='\\t')\n",
    "fake = pd.read_csv('general_task2.tsv', sep='\\t')\n",
    "org['Race'] = None\n",
    "fake['Race'] = None"
   ]
  },
  {
   "cell_type": "code",
   "execution_count": 25,
   "metadata": {},
   "outputs": [],
   "source": [
    "cols = ['INPUT:image', 'Race']\n",
    "org[cols].to_csv('org_label.csv', index=None)\n",
    "fake[cols].to_csv('fake_label.csv', index=None)"
   ]
  },
  {
   "cell_type": "markdown",
   "metadata": {},
   "source": [
    "## Task 2"
   ]
  },
  {
   "cell_type": "code",
   "execution_count": 2,
   "metadata": {},
   "outputs": [],
   "source": [
    "result = pd.read_csv('assignments_from_pool_29960711__06-12-2021.tsv', sep='\\t')"
   ]
  },
  {
   "cell_type": "code",
   "execution_count": 3,
   "metadata": {},
   "outputs": [],
   "source": [
    "def link2id(x):\n",
    "    return x.split('/')[-1].split('\"')[0]\n",
    "\n",
    "result['INPUT:image'] = result['INPUT:image'].apply(link2id)"
   ]
  },
  {
   "cell_type": "code",
   "execution_count": 4,
   "metadata": {},
   "outputs": [],
   "source": [
    "result['GOLDEN:result'] = result['GOLDEN:result'].fillna(1.)"
   ]
  },
  {
   "cell_type": "code",
   "execution_count": 5,
   "metadata": {},
   "outputs": [],
   "source": [
    "generated_img_result = result[result['GOLDEN:result'] == 1.0]"
   ]
  },
  {
   "cell_type": "code",
   "execution_count": 6,
   "metadata": {},
   "outputs": [],
   "source": [
    "aggregated_result = generated_img_result.groupby('INPUT:image').sum()"
   ]
  },
  {
   "cell_type": "code",
   "execution_count": 7,
   "metadata": {},
   "outputs": [],
   "source": [
    "final_result = aggregated_result[['OUTPUT:gender', 'OUTPUT:result', 'OUTPUT:confidence', 'GOLDEN:result']]"
   ]
  },
  {
   "cell_type": "code",
   "execution_count": 8,
   "metadata": {},
   "outputs": [],
   "source": [
    "final_result = final_result.rename({\n",
    "    'OUTPUT:gender': 'gender', \n",
    "    'OUTPUT:result': 'result',\n",
    "    'OUTPUT:confidence': 'confidence', \n",
    "    'GOLDEN:result': 'n_workers'\n",
    "}, axis=1)"
   ]
  },
  {
   "cell_type": "code",
   "execution_count": 9,
   "metadata": {},
   "outputs": [],
   "source": [
    "final_result['n_workers'] = final_result['n_workers'].astype('int')"
   ]
  },
  {
   "cell_type": "markdown",
   "metadata": {},
   "source": [
    "workers do not always agree on genders of the image: indicating random selections"
   ]
  },
  {
   "cell_type": "code",
   "execution_count": 80,
   "metadata": {},
   "outputs": [],
   "source": [
    "def control_consensus(df):\n",
    "    # male or female\n",
    "    return sum((df['gender'] == df['n_workers']) | (df['gender'] == 0)) / len(df)"
   ]
  },
  {
   "cell_type": "code",
   "execution_count": 81,
   "metadata": {},
   "outputs": [
    {
     "data": {
      "text/plain": [
       "0.912"
      ]
     },
     "execution_count": 81,
     "metadata": {},
     "output_type": "execute_result"
    }
   ],
   "source": [
    "control_consensus(final_result)"
   ]
  },
  {
   "cell_type": "markdown",
   "metadata": {},
   "source": [
    "images considered to be `real` by workers with more than 2 votings"
   ]
  },
  {
   "cell_type": "code",
   "execution_count": 82,
   "metadata": {},
   "outputs": [],
   "source": [
    "# workers deem to be real\n",
    "real_img = final_result[(final_result['n_workers'] - final_result['result'] >= 3)]"
   ]
  },
  {
   "cell_type": "markdown",
   "metadata": {},
   "source": [
    "workers do not always agree with the gender"
   ]
  },
  {
   "cell_type": "code",
   "execution_count": 83,
   "metadata": {},
   "outputs": [
    {
     "data": {
      "text/plain": [
       "0.9516129032258065"
      ]
     },
     "execution_count": 83,
     "metadata": {},
     "output_type": "execute_result"
    }
   ],
   "source": [
    "control_consensus(real_img)"
   ]
  },
  {
   "cell_type": "markdown",
   "metadata": {},
   "source": [
    "rate for successfully deceive more than 2 workers"
   ]
  },
  {
   "cell_type": "code",
   "execution_count": 84,
   "metadata": {},
   "outputs": [
    {
     "data": {
      "text/plain": [
       "'decieved imgs: 62; imgs with more than 3 workers: 424 rate: 0.14622641509433962'"
      ]
     },
     "execution_count": 84,
     "metadata": {},
     "output_type": "execute_result"
    }
   ],
   "source": [
    "n_real_imgs = len(real_img)\n",
    "n_valid_imgs = len(final_result[final_result['n_workers'] >= 3])\n",
    "f\"decieved imgs: {n_real_imgs}; imgs with more than 3 workers: {n_valid_imgs} rate: {n_real_imgs / n_valid_imgs}\""
   ]
  },
  {
   "cell_type": "code",
   "execution_count": 36,
   "metadata": {},
   "outputs": [
    {
     "data": {
      "text/plain": [
       "'concensus on gender: 0.9516129032258065'"
      ]
     },
     "execution_count": 36,
     "metadata": {},
     "output_type": "execute_result"
    }
   ],
   "source": [
    "f\"concensus on gender: {control_consensus(real_img)}\""
   ]
  },
  {
   "cell_type": "markdown",
   "metadata": {},
   "source": [
    "### Create Task 3"
   ]
  },
  {
   "cell_type": "code",
   "execution_count": 47,
   "metadata": {},
   "outputs": [
    {
     "name": "stderr",
     "output_type": "stream",
     "text": [
      "/opt/conda/lib/python3.7/site-packages/ipykernel_launcher.py:2: SettingWithCopyWarning: \n",
      "A value is trying to be set on a copy of a slice from a DataFrame.\n",
      "Try using .loc[row_indexer,col_indexer] = value instead\n",
      "\n",
      "See the caveats in the documentation: https://pandas.pydata.org/pandas-docs/stable/user_guide/indexing.html#returning-a-view-versus-a-copy\n",
      "  \n"
     ]
    }
   ],
   "source": [
    "real_img_result = result[result['GOLDEN:result'] == 0.]\n",
    "real_img_result['n_workers'] = np.ones(len(real_img_result))"
   ]
  },
  {
   "cell_type": "code",
   "execution_count": 50,
   "metadata": {},
   "outputs": [],
   "source": [
    "aggregated_real_img_result = real_img_result.groupby('INPUT:image').sum()\\\n",
    "    [['OUTPUT:gender', 'OUTPUT:result', 'OUTPUT:confidence', 'n_workers']]"
   ]
  },
  {
   "cell_type": "code",
   "execution_count": 55,
   "metadata": {},
   "outputs": [],
   "source": [
    "# workers deemed as fake\n",
    "fake_img = aggregated_real_img_result[aggregated_real_img_result['OUTPUT:result'] >= 2]"
   ]
  },
  {
   "cell_type": "code",
   "execution_count": 56,
   "metadata": {},
   "outputs": [],
   "source": [
    "task = pd.read_csv('tasks/tasks_for_pool_29747529__23-11-2021_training.tsv', sep='\\t')"
   ]
  },
  {
   "cell_type": "code",
   "execution_count": 69,
   "metadata": {},
   "outputs": [],
   "source": [
    "from random import random\n",
    "\n",
    "new_data = task.iloc[0:0]\n",
    "real_img_list = real_img.index.to_list()\n",
    "fake_img_list = fake_img.index.to_list()\n",
    "\n",
    "for i in range(len(real_img_list)):\n",
    "    image_1 = \"https://raw.githubusercontent.com/BirkhoffG/crowd_project/main/img/\" + real_img_list[i]\n",
    "    image_2 = \"https://raw.githubusercontent.com/BirkhoffG/crowd_project/main/original/\" + fake_img_list[i]\n",
    "    if random() < 0.5:\n",
    "        new_data = new_data.append({\n",
    "            'INPUT:image_left': image_1, 'INPUT:image_right': image_2, 'GOLDEN:result': 'Right', \n",
    "            'GOLDEN:textfield': '', 'HINT:text': 'The image on the Right is REAL.'\n",
    "        }, ignore_index=True)\n",
    "    else:\n",
    "        new_data = new_data.append({\n",
    "            'INPUT:image_left': image_2, 'INPUT:image_right': image_1, 'GOLDEN:result': 'Left', \n",
    "            'GOLDEN:textfield': '', 'HINT:text': 'The image on the Left is REAL.'\n",
    "        }, ignore_index=True)"
   ]
  },
  {
   "cell_type": "code",
   "execution_count": 70,
   "metadata": {},
   "outputs": [],
   "source": [
    "new_data.to_csv('task3.tsv', sep='\\t', index=None)"
   ]
  },
  {
   "cell_type": "markdown",
   "metadata": {},
   "source": [
    "## Task 3"
   ]
  },
  {
   "cell_type": "code",
   "execution_count": 2,
   "metadata": {},
   "outputs": [],
   "source": [
    "df_1 = pd.read_csv('assignments_from_pool_29778972__06-12-2021.tsv', sep='\\t')"
   ]
  },
  {
   "cell_type": "code",
   "execution_count": 7,
   "metadata": {},
   "outputs": [],
   "source": [
    "df_2 = pd.read_csv('assignments_from_pool_30134683__06-12-2021.tsv', sep='\\t')"
   ]
  },
  {
   "cell_type": "code",
   "execution_count": 4,
   "metadata": {},
   "outputs": [],
   "source": [
    "df_1.dropna(how='all', inplace=True)"
   ]
  },
  {
   "cell_type": "code",
   "execution_count": 9,
   "metadata": {},
   "outputs": [],
   "source": [
    "df_2.dropna(how='all', inplace=True)"
   ]
  },
  {
   "cell_type": "code",
   "execution_count": 6,
   "metadata": {},
   "outputs": [
    {
     "data": {
      "text/plain": [
       "0.755"
      ]
     },
     "execution_count": 6,
     "metadata": {},
     "output_type": "execute_result"
    }
   ],
   "source": [
    "sum(df_1['OUTPUT:result'] == df_1['GOLDEN:result']) / len(df_1)"
   ]
  },
  {
   "cell_type": "code",
   "execution_count": 10,
   "metadata": {},
   "outputs": [
    {
     "data": {
      "text/plain": [
       "0.6483870967741936"
      ]
     },
     "execution_count": 10,
     "metadata": {},
     "output_type": "execute_result"
    }
   ],
   "source": [
    "sum(df_2['OUTPUT:result'] == df_2['GOLDEN:result']) / len(df_2)"
   ]
  },
  {
   "cell_type": "code",
   "execution_count": 11,
   "metadata": {},
   "outputs": [
    {
     "data": {
      "text/html": [
       "<div>\n",
       "<style scoped>\n",
       "    .dataframe tbody tr th:only-of-type {\n",
       "        vertical-align: middle;\n",
       "    }\n",
       "\n",
       "    .dataframe tbody tr th {\n",
       "        vertical-align: top;\n",
       "    }\n",
       "\n",
       "    .dataframe thead th {\n",
       "        text-align: right;\n",
       "    }\n",
       "</style>\n",
       "<table border=\"1\" class=\"dataframe\">\n",
       "  <thead>\n",
       "    <tr style=\"text-align: right;\">\n",
       "      <th></th>\n",
       "      <th>INPUT:image_left</th>\n",
       "      <th>INPUT:image_right</th>\n",
       "      <th>OUTPUT:result</th>\n",
       "      <th>OUTPUT:textfield</th>\n",
       "      <th>GOLDEN:result</th>\n",
       "      <th>GOLDEN:textfield</th>\n",
       "      <th>HINT:text</th>\n",
       "      <th>HINT:default_language</th>\n",
       "      <th>ASSIGNMENT:link</th>\n",
       "      <th>ASSIGNMENT:task_id</th>\n",
       "      <th>ASSIGNMENT:assignment_id</th>\n",
       "      <th>ASSIGNMENT:worker_id</th>\n",
       "      <th>ASSIGNMENT:status</th>\n",
       "      <th>ASSIGNMENT:started</th>\n",
       "    </tr>\n",
       "  </thead>\n",
       "  <tbody>\n",
       "    <tr>\n",
       "      <th>0</th>\n",
       "      <td>https://raw.githubusercontent.com/BirkhoffG/cr...</td>\n",
       "      <td>https://raw.githubusercontent.com/BirkhoffG/cr...</td>\n",
       "      <td>Right</td>\n",
       "      <td>NaN</td>\n",
       "      <td>Right</td>\n",
       "      <td>NaN</td>\n",
       "      <td>The image on the Right is REAL.</td>\n",
       "      <td>NaN</td>\n",
       "      <td>https://toloka.yandex.ru/task/30134683/0001cbd...</td>\n",
       "      <td>c9373b05-46bb-4f17-9e0d-d82a4d32f37e</td>\n",
       "      <td>0001cbd19b--61ae7180e6166d6a31848125</td>\n",
       "      <td>9c0967fe626070766f09aa93ac682584</td>\n",
       "      <td>APPROVED</td>\n",
       "      <td>2021-12-06T20:24:32.133</td>\n",
       "    </tr>\n",
       "    <tr>\n",
       "      <th>2</th>\n",
       "      <td>https://raw.githubusercontent.com/BirkhoffG/cr...</td>\n",
       "      <td>https://raw.githubusercontent.com/BirkhoffG/cr...</td>\n",
       "      <td>Right</td>\n",
       "      <td>NaN</td>\n",
       "      <td>Right</td>\n",
       "      <td>NaN</td>\n",
       "      <td>The image on the Right is REAL.</td>\n",
       "      <td>NaN</td>\n",
       "      <td>https://toloka.yandex.ru/task/30134683/0001cbd...</td>\n",
       "      <td>df441413-2fb6-4c76-a7ab-ce014b441923</td>\n",
       "      <td>0001cbd19b--61ae7189b402c123889dab8d</td>\n",
       "      <td>9c0967fe626070766f09aa93ac682584</td>\n",
       "      <td>APPROVED</td>\n",
       "      <td>2021-12-06T20:24:41.857</td>\n",
       "    </tr>\n",
       "    <tr>\n",
       "      <th>4</th>\n",
       "      <td>https://raw.githubusercontent.com/BirkhoffG/cr...</td>\n",
       "      <td>https://raw.githubusercontent.com/BirkhoffG/cr...</td>\n",
       "      <td>Left</td>\n",
       "      <td>NaN</td>\n",
       "      <td>Right</td>\n",
       "      <td>NaN</td>\n",
       "      <td>The image on the Right is REAL.</td>\n",
       "      <td>NaN</td>\n",
       "      <td>https://toloka.yandex.ru/task/30134683/0001cbd...</td>\n",
       "      <td>41cab91a-1c71-4ce5-b4b8-56201b519260</td>\n",
       "      <td>0001cbd19b--61ae71920910fc6b97ec9deb</td>\n",
       "      <td>9c0967fe626070766f09aa93ac682584</td>\n",
       "      <td>APPROVED</td>\n",
       "      <td>2021-12-06T20:24:50.483</td>\n",
       "    </tr>\n",
       "    <tr>\n",
       "      <th>6</th>\n",
       "      <td>https://raw.githubusercontent.com/BirkhoffG/cr...</td>\n",
       "      <td>https://raw.githubusercontent.com/BirkhoffG/cr...</td>\n",
       "      <td>Right</td>\n",
       "      <td>NaN</td>\n",
       "      <td>Left</td>\n",
       "      <td>NaN</td>\n",
       "      <td>The image on the Left is REAL.</td>\n",
       "      <td>NaN</td>\n",
       "      <td>https://toloka.yandex.ru/task/30134683/0001cbd...</td>\n",
       "      <td>689e8281-6333-49ee-84cc-ca68d36d4fd4</td>\n",
       "      <td>0001cbd19b--61ae71a2ec7c4619a7c39d19</td>\n",
       "      <td>9c0967fe626070766f09aa93ac682584</td>\n",
       "      <td>APPROVED</td>\n",
       "      <td>2021-12-06T20:25:06.713</td>\n",
       "    </tr>\n",
       "    <tr>\n",
       "      <th>8</th>\n",
       "      <td>https://raw.githubusercontent.com/BirkhoffG/cr...</td>\n",
       "      <td>https://raw.githubusercontent.com/BirkhoffG/cr...</td>\n",
       "      <td>Right</td>\n",
       "      <td>NaN</td>\n",
       "      <td>Left</td>\n",
       "      <td>NaN</td>\n",
       "      <td>The image on the Left is REAL.</td>\n",
       "      <td>NaN</td>\n",
       "      <td>https://toloka.yandex.ru/task/30134683/0001cbd...</td>\n",
       "      <td>6b5105ca-a1e5-422c-8441-d18513911044</td>\n",
       "      <td>0001cbd19b--61ae71c67e288174a932d202</td>\n",
       "      <td>2a4f5f5ccd67527c17e3205408b104a6</td>\n",
       "      <td>APPROVED</td>\n",
       "      <td>2021-12-06T20:25:42.880</td>\n",
       "    </tr>\n",
       "    <tr>\n",
       "      <th>...</th>\n",
       "      <td>...</td>\n",
       "      <td>...</td>\n",
       "      <td>...</td>\n",
       "      <td>...</td>\n",
       "      <td>...</td>\n",
       "      <td>...</td>\n",
       "      <td>...</td>\n",
       "      <td>...</td>\n",
       "      <td>...</td>\n",
       "      <td>...</td>\n",
       "      <td>...</td>\n",
       "      <td>...</td>\n",
       "      <td>...</td>\n",
       "      <td>...</td>\n",
       "    </tr>\n",
       "    <tr>\n",
       "      <th>610</th>\n",
       "      <td>https://raw.githubusercontent.com/BirkhoffG/cr...</td>\n",
       "      <td>https://raw.githubusercontent.com/BirkhoffG/cr...</td>\n",
       "      <td>Left</td>\n",
       "      <td>NaN</td>\n",
       "      <td>Left</td>\n",
       "      <td>NaN</td>\n",
       "      <td>The image on the Left is REAL.</td>\n",
       "      <td>NaN</td>\n",
       "      <td>https://toloka.yandex.ru/task/30134683/0001cbd...</td>\n",
       "      <td>b427e966-725e-455b-82a8-6ea479c7307f</td>\n",
       "      <td>0001cbd19b--61ae78041d7fbd5ee3b4464a</td>\n",
       "      <td>ca40f99e62bf88e3cd89786babbfc87e</td>\n",
       "      <td>APPROVED</td>\n",
       "      <td>2021-12-06T20:52:20.197</td>\n",
       "    </tr>\n",
       "    <tr>\n",
       "      <th>612</th>\n",
       "      <td>https://raw.githubusercontent.com/BirkhoffG/cr...</td>\n",
       "      <td>https://raw.githubusercontent.com/BirkhoffG/cr...</td>\n",
       "      <td>Right</td>\n",
       "      <td>NaN</td>\n",
       "      <td>Right</td>\n",
       "      <td>NaN</td>\n",
       "      <td>The image on the Right is REAL.</td>\n",
       "      <td>NaN</td>\n",
       "      <td>https://toloka.yandex.ru/task/30134683/0001cbd...</td>\n",
       "      <td>0dea1730-9277-483b-ad61-d00ccc375d9e</td>\n",
       "      <td>0001cbd19b--61ae780b127fe1158a524060</td>\n",
       "      <td>49acc01712d3578d346224507eda7fd1</td>\n",
       "      <td>APPROVED</td>\n",
       "      <td>2021-12-06T20:52:27.500</td>\n",
       "    </tr>\n",
       "    <tr>\n",
       "      <th>614</th>\n",
       "      <td>https://raw.githubusercontent.com/BirkhoffG/cr...</td>\n",
       "      <td>https://raw.githubusercontent.com/BirkhoffG/cr...</td>\n",
       "      <td>Right</td>\n",
       "      <td>NaN</td>\n",
       "      <td>Right</td>\n",
       "      <td>NaN</td>\n",
       "      <td>The image on the Right is REAL.</td>\n",
       "      <td>NaN</td>\n",
       "      <td>https://toloka.yandex.ru/task/30134683/0001cbd...</td>\n",
       "      <td>0dea1730-9277-483b-ad61-d00ccc375d9e</td>\n",
       "      <td>0001cbd19b--61ae780c6b8dbc6f8ec2f1e3</td>\n",
       "      <td>d0b27dac0f3789c72dd83e1d89c257d1</td>\n",
       "      <td>APPROVED</td>\n",
       "      <td>2021-12-06T20:52:28.990</td>\n",
       "    </tr>\n",
       "    <tr>\n",
       "      <th>616</th>\n",
       "      <td>https://raw.githubusercontent.com/BirkhoffG/cr...</td>\n",
       "      <td>https://raw.githubusercontent.com/BirkhoffG/cr...</td>\n",
       "      <td>Left</td>\n",
       "      <td>strange neck</td>\n",
       "      <td>Left</td>\n",
       "      <td>NaN</td>\n",
       "      <td>The image on the Left is REAL.</td>\n",
       "      <td>NaN</td>\n",
       "      <td>https://toloka.yandex.ru/task/30134683/0001cbd...</td>\n",
       "      <td>9ff930c8-5c4f-43fa-a563-ca845e963ede</td>\n",
       "      <td>0001cbd19b--61ae78c843766709674b5a9e</td>\n",
       "      <td>d8e61a54e640dc786924fbd68be12067</td>\n",
       "      <td>APPROVED</td>\n",
       "      <td>2021-12-06T20:55:36.190</td>\n",
       "    </tr>\n",
       "    <tr>\n",
       "      <th>618</th>\n",
       "      <td>https://raw.githubusercontent.com/BirkhoffG/cr...</td>\n",
       "      <td>https://raw.githubusercontent.com/BirkhoffG/cr...</td>\n",
       "      <td>Right</td>\n",
       "      <td>asymmetrical ears</td>\n",
       "      <td>Left</td>\n",
       "      <td>NaN</td>\n",
       "      <td>The image on the Left is REAL.</td>\n",
       "      <td>NaN</td>\n",
       "      <td>https://toloka.yandex.ru/task/30134683/0001cbd...</td>\n",
       "      <td>3a485597-29c0-4878-8c07-7859be51d2a1</td>\n",
       "      <td>0001cbd19b--61ae78d4880f2a0571492337</td>\n",
       "      <td>a25b871e1e2ee9d04389d272bdc8f832</td>\n",
       "      <td>APPROVED</td>\n",
       "      <td>2021-12-06T20:55:48.663</td>\n",
       "    </tr>\n",
       "  </tbody>\n",
       "</table>\n",
       "<p>310 rows × 14 columns</p>\n",
       "</div>"
      ],
      "text/plain": [
       "                                      INPUT:image_left  \\\n",
       "0    https://raw.githubusercontent.com/BirkhoffG/cr...   \n",
       "2    https://raw.githubusercontent.com/BirkhoffG/cr...   \n",
       "4    https://raw.githubusercontent.com/BirkhoffG/cr...   \n",
       "6    https://raw.githubusercontent.com/BirkhoffG/cr...   \n",
       "8    https://raw.githubusercontent.com/BirkhoffG/cr...   \n",
       "..                                                 ...   \n",
       "610  https://raw.githubusercontent.com/BirkhoffG/cr...   \n",
       "612  https://raw.githubusercontent.com/BirkhoffG/cr...   \n",
       "614  https://raw.githubusercontent.com/BirkhoffG/cr...   \n",
       "616  https://raw.githubusercontent.com/BirkhoffG/cr...   \n",
       "618  https://raw.githubusercontent.com/BirkhoffG/cr...   \n",
       "\n",
       "                                     INPUT:image_right OUTPUT:result  \\\n",
       "0    https://raw.githubusercontent.com/BirkhoffG/cr...         Right   \n",
       "2    https://raw.githubusercontent.com/BirkhoffG/cr...         Right   \n",
       "4    https://raw.githubusercontent.com/BirkhoffG/cr...          Left   \n",
       "6    https://raw.githubusercontent.com/BirkhoffG/cr...         Right   \n",
       "8    https://raw.githubusercontent.com/BirkhoffG/cr...         Right   \n",
       "..                                                 ...           ...   \n",
       "610  https://raw.githubusercontent.com/BirkhoffG/cr...          Left   \n",
       "612  https://raw.githubusercontent.com/BirkhoffG/cr...         Right   \n",
       "614  https://raw.githubusercontent.com/BirkhoffG/cr...         Right   \n",
       "616  https://raw.githubusercontent.com/BirkhoffG/cr...          Left   \n",
       "618  https://raw.githubusercontent.com/BirkhoffG/cr...         Right   \n",
       "\n",
       "       OUTPUT:textfield GOLDEN:result  GOLDEN:textfield  \\\n",
       "0                   NaN         Right               NaN   \n",
       "2                   NaN         Right               NaN   \n",
       "4                   NaN         Right               NaN   \n",
       "6                   NaN          Left               NaN   \n",
       "8                   NaN          Left               NaN   \n",
       "..                  ...           ...               ...   \n",
       "610                 NaN          Left               NaN   \n",
       "612                 NaN         Right               NaN   \n",
       "614                 NaN         Right               NaN   \n",
       "616        strange neck          Left               NaN   \n",
       "618   asymmetrical ears          Left               NaN   \n",
       "\n",
       "                           HINT:text  HINT:default_language  \\\n",
       "0    The image on the Right is REAL.                    NaN   \n",
       "2    The image on the Right is REAL.                    NaN   \n",
       "4    The image on the Right is REAL.                    NaN   \n",
       "6     The image on the Left is REAL.                    NaN   \n",
       "8     The image on the Left is REAL.                    NaN   \n",
       "..                               ...                    ...   \n",
       "610   The image on the Left is REAL.                    NaN   \n",
       "612  The image on the Right is REAL.                    NaN   \n",
       "614  The image on the Right is REAL.                    NaN   \n",
       "616   The image on the Left is REAL.                    NaN   \n",
       "618   The image on the Left is REAL.                    NaN   \n",
       "\n",
       "                                       ASSIGNMENT:link  \\\n",
       "0    https://toloka.yandex.ru/task/30134683/0001cbd...   \n",
       "2    https://toloka.yandex.ru/task/30134683/0001cbd...   \n",
       "4    https://toloka.yandex.ru/task/30134683/0001cbd...   \n",
       "6    https://toloka.yandex.ru/task/30134683/0001cbd...   \n",
       "8    https://toloka.yandex.ru/task/30134683/0001cbd...   \n",
       "..                                                 ...   \n",
       "610  https://toloka.yandex.ru/task/30134683/0001cbd...   \n",
       "612  https://toloka.yandex.ru/task/30134683/0001cbd...   \n",
       "614  https://toloka.yandex.ru/task/30134683/0001cbd...   \n",
       "616  https://toloka.yandex.ru/task/30134683/0001cbd...   \n",
       "618  https://toloka.yandex.ru/task/30134683/0001cbd...   \n",
       "\n",
       "                       ASSIGNMENT:task_id  \\\n",
       "0    c9373b05-46bb-4f17-9e0d-d82a4d32f37e   \n",
       "2    df441413-2fb6-4c76-a7ab-ce014b441923   \n",
       "4    41cab91a-1c71-4ce5-b4b8-56201b519260   \n",
       "6    689e8281-6333-49ee-84cc-ca68d36d4fd4   \n",
       "8    6b5105ca-a1e5-422c-8441-d18513911044   \n",
       "..                                    ...   \n",
       "610  b427e966-725e-455b-82a8-6ea479c7307f   \n",
       "612  0dea1730-9277-483b-ad61-d00ccc375d9e   \n",
       "614  0dea1730-9277-483b-ad61-d00ccc375d9e   \n",
       "616  9ff930c8-5c4f-43fa-a563-ca845e963ede   \n",
       "618  3a485597-29c0-4878-8c07-7859be51d2a1   \n",
       "\n",
       "                 ASSIGNMENT:assignment_id              ASSIGNMENT:worker_id  \\\n",
       "0    0001cbd19b--61ae7180e6166d6a31848125  9c0967fe626070766f09aa93ac682584   \n",
       "2    0001cbd19b--61ae7189b402c123889dab8d  9c0967fe626070766f09aa93ac682584   \n",
       "4    0001cbd19b--61ae71920910fc6b97ec9deb  9c0967fe626070766f09aa93ac682584   \n",
       "6    0001cbd19b--61ae71a2ec7c4619a7c39d19  9c0967fe626070766f09aa93ac682584   \n",
       "8    0001cbd19b--61ae71c67e288174a932d202  2a4f5f5ccd67527c17e3205408b104a6   \n",
       "..                                    ...                               ...   \n",
       "610  0001cbd19b--61ae78041d7fbd5ee3b4464a  ca40f99e62bf88e3cd89786babbfc87e   \n",
       "612  0001cbd19b--61ae780b127fe1158a524060  49acc01712d3578d346224507eda7fd1   \n",
       "614  0001cbd19b--61ae780c6b8dbc6f8ec2f1e3  d0b27dac0f3789c72dd83e1d89c257d1   \n",
       "616  0001cbd19b--61ae78c843766709674b5a9e  d8e61a54e640dc786924fbd68be12067   \n",
       "618  0001cbd19b--61ae78d4880f2a0571492337  a25b871e1e2ee9d04389d272bdc8f832   \n",
       "\n",
       "    ASSIGNMENT:status       ASSIGNMENT:started  \n",
       "0            APPROVED  2021-12-06T20:24:32.133  \n",
       "2            APPROVED  2021-12-06T20:24:41.857  \n",
       "4            APPROVED  2021-12-06T20:24:50.483  \n",
       "6            APPROVED  2021-12-06T20:25:06.713  \n",
       "8            APPROVED  2021-12-06T20:25:42.880  \n",
       "..                ...                      ...  \n",
       "610          APPROVED  2021-12-06T20:52:20.197  \n",
       "612          APPROVED  2021-12-06T20:52:27.500  \n",
       "614          APPROVED  2021-12-06T20:52:28.990  \n",
       "616          APPROVED  2021-12-06T20:55:36.190  \n",
       "618          APPROVED  2021-12-06T20:55:48.663  \n",
       "\n",
       "[310 rows x 14 columns]"
      ]
     },
     "execution_count": 11,
     "metadata": {},
     "output_type": "execute_result"
    }
   ],
   "source": [
    "df_2"
   ]
  }
 ],
 "metadata": {
  "interpreter": {
   "hash": "1aebd4a71fcec916e49c5e2d294321100f54b5d9bbeca9249da939e91b36ccc5"
  },
  "kernelspec": {
   "display_name": "Python 3.7.10 ('base')",
   "language": "python",
   "name": "python3"
  },
  "language_info": {
   "codemirror_mode": {
    "name": "ipython",
    "version": 3
   },
   "file_extension": ".py",
   "mimetype": "text/x-python",
   "name": "python",
   "nbconvert_exporter": "python",
   "pygments_lexer": "ipython3",
   "version": "3.7.10"
  },
  "orig_nbformat": 4
 },
 "nbformat": 4,
 "nbformat_minor": 2
}
